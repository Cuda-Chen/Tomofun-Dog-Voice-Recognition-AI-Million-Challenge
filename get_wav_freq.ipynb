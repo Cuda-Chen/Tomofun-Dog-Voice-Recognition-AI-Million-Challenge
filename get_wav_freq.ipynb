{
 "cells": [
  {
   "cell_type": "code",
   "execution_count": 8,
   "metadata": {},
   "outputs": [],
   "source": [
    "import librosa\n",
    "import numpy as np\n",
    "from tqdm import tqdm\n",
    "import pandas as pd\n",
    "import numpy as np\n",
    "import os\n",
    "\n",
    "def freq(data, sample_rate,start_time=0,end_time=5000):\n",
    "    start_point = int(sample_rate * start_time / 1000)\n",
    "    end_point = int(sample_rate * end_time / 1000)-1\n",
    "    length = (end_time - start_time) / 1000\n",
    "    counter = 0\n",
    "    for i in range(start_point, end_point):\n",
    "        if data[i] < 0 and data[i+1] > 0:\n",
    "            counter += 1\n",
    "    return counter/length"
   ]
  },
  {
   "cell_type": "code",
   "execution_count": 9,
   "metadata": {},
   "outputs": [],
   "source": [
    "train_wav_dir = 'train/train/'\n",
    "train_label = 'train/meta_train.csv'"
   ]
  },
  {
   "cell_type": "code",
   "execution_count": 10,
   "metadata": {},
   "outputs": [
    {
     "name": "stderr",
     "output_type": "stream",
     "text": [
      " 87%|████████▋ | 1046/1200 [05:15<00:37,  4.16it/s]"
     ]
    },
    {
     "name": "stdout",
     "output_type": "stream",
     "text": [
      "train_01046.wav\n"
     ]
    },
    {
     "name": "stderr",
     "output_type": "stream",
     "text": [
      "100%|██████████| 1200/1200 [06:02<00:00,  3.31it/s]\n"
     ]
    }
   ],
   "source": [
    "files = os.listdir(train_wav_dir)\n",
    "files.sort() #重要\n",
    "freq_list = []\n",
    "for f in tqdm(files[:]):\n",
    "    try:\n",
    "        data ,sample_rate = librosa.load(train_wav_dir+f,sr=16000)\n",
    "        data_freq = freq(data,sample_rate)\n",
    "        freq_list.append(data_freq)\n",
    "    except:\n",
    "        print(f)"
   ]
  },
  {
   "cell_type": "code",
   "execution_count": 11,
   "metadata": {},
   "outputs": [
    {
     "name": "stdout",
     "output_type": "stream",
     "text": [
      "(1199, 3)\n"
     ]
    },
    {
     "data": {
      "text/html": [
       "<div>\n",
       "<style scoped>\n",
       "    .dataframe tbody tr th:only-of-type {\n",
       "        vertical-align: middle;\n",
       "    }\n",
       "\n",
       "    .dataframe tbody tr th {\n",
       "        vertical-align: top;\n",
       "    }\n",
       "\n",
       "    .dataframe thead th {\n",
       "        text-align: right;\n",
       "    }\n",
       "</style>\n",
       "<table border=\"1\" class=\"dataframe\">\n",
       "  <thead>\n",
       "    <tr style=\"text-align: right;\">\n",
       "      <th></th>\n",
       "      <th>Filename</th>\n",
       "      <th>Label</th>\n",
       "      <th>Remark</th>\n",
       "      <th>audio_freq</th>\n",
       "    </tr>\n",
       "  </thead>\n",
       "  <tbody>\n",
       "    <tr>\n",
       "      <th>0</th>\n",
       "      <td>train_00001</td>\n",
       "      <td>0</td>\n",
       "      <td>Barking</td>\n",
       "      <td>113.8</td>\n",
       "    </tr>\n",
       "    <tr>\n",
       "      <th>1</th>\n",
       "      <td>train_00002</td>\n",
       "      <td>0</td>\n",
       "      <td>Barking</td>\n",
       "      <td>1067.8</td>\n",
       "    </tr>\n",
       "    <tr>\n",
       "      <th>2</th>\n",
       "      <td>train_00003</td>\n",
       "      <td>0</td>\n",
       "      <td>Barking</td>\n",
       "      <td>644.4</td>\n",
       "    </tr>\n",
       "    <tr>\n",
       "      <th>3</th>\n",
       "      <td>train_00004</td>\n",
       "      <td>0</td>\n",
       "      <td>Barking</td>\n",
       "      <td>1257.0</td>\n",
       "    </tr>\n",
       "    <tr>\n",
       "      <th>4</th>\n",
       "      <td>train_00005</td>\n",
       "      <td>0</td>\n",
       "      <td>Barking</td>\n",
       "      <td>753.0</td>\n",
       "    </tr>\n",
       "    <tr>\n",
       "      <th>...</th>\n",
       "      <td>...</td>\n",
       "      <td>...</td>\n",
       "      <td>...</td>\n",
       "      <td>...</td>\n",
       "    </tr>\n",
       "    <tr>\n",
       "      <th>1195</th>\n",
       "      <td>train_01196</td>\n",
       "      <td>5</td>\n",
       "      <td>Dishes</td>\n",
       "      <td>1651.2</td>\n",
       "    </tr>\n",
       "    <tr>\n",
       "      <th>1196</th>\n",
       "      <td>train_01197</td>\n",
       "      <td>5</td>\n",
       "      <td>Dishes</td>\n",
       "      <td>1237.8</td>\n",
       "    </tr>\n",
       "    <tr>\n",
       "      <th>1197</th>\n",
       "      <td>train_01198</td>\n",
       "      <td>5</td>\n",
       "      <td>Dishes</td>\n",
       "      <td>1484.2</td>\n",
       "    </tr>\n",
       "    <tr>\n",
       "      <th>1198</th>\n",
       "      <td>train_01199</td>\n",
       "      <td>5</td>\n",
       "      <td>Dishes</td>\n",
       "      <td>1233.2</td>\n",
       "    </tr>\n",
       "    <tr>\n",
       "      <th>1199</th>\n",
       "      <td>train_01200</td>\n",
       "      <td>5</td>\n",
       "      <td>Dishes</td>\n",
       "      <td>1373.2</td>\n",
       "    </tr>\n",
       "  </tbody>\n",
       "</table>\n",
       "<p>1199 rows × 4 columns</p>\n",
       "</div>"
      ],
      "text/plain": [
       "         Filename  Label   Remark  audio_freq\n",
       "0     train_00001      0  Barking       113.8\n",
       "1     train_00002      0  Barking      1067.8\n",
       "2     train_00003      0  Barking       644.4\n",
       "3     train_00004      0  Barking      1257.0\n",
       "4     train_00005      0  Barking       753.0\n",
       "...           ...    ...      ...         ...\n",
       "1195  train_01196      5   Dishes      1651.2\n",
       "1196  train_01197      5   Dishes      1237.8\n",
       "1197  train_01198      5   Dishes      1484.2\n",
       "1198  train_01199      5   Dishes      1233.2\n",
       "1199  train_01200      5   Dishes      1373.2\n",
       "\n",
       "[1199 rows x 4 columns]"
      ]
     },
     "execution_count": 11,
     "metadata": {},
     "output_type": "execute_result"
    }
   ],
   "source": [
    "df = pd.read_csv(train_label)[:]\n",
    "df = df[df.Filename != 'train_01046']\n",
    "print(df.shape)\n",
    "df['audio_freq'] = freq_list\n",
    "df"
   ]
  },
  {
   "cell_type": "code",
   "execution_count": 46,
   "metadata": {},
   "outputs": [
    {
     "data": {
      "image/png": "[encoded data removed]",
      "text/plain": [
       "<Figure size 1440x360 with 1 Axes>"
      ]
     },
     "metadata": {
      "needs_background": "light"
     },
     "output_type": "display_data"
    }
   ],
   "source": [
    "import matplotlib.pyplot as plt\n",
    "import seaborn as sns\n",
    "plt.figure(figsize=(20,5))\n",
    "for r in df.Remark.unique():\n",
    "    df[df.Remark==r]['audio_freq'].plot(kind='hist',label=r,alpha=0.8)\n",
    "plt.legend()\n",
    "plt.show()"
   ]
  },
  {
   "cell_type": "code",
   "execution_count": 47,
   "metadata": {},
   "outputs": [
    {
     "name": "stdout",
     "output_type": "stream",
     "text": [
      "Barking 113.8 1801.4\n",
      "Howling 176.8 1538.4\n",
      "Crying 332.6 2044.2\n",
      "COSmoke 763.4 3446.6\n",
      "GlassBreaking 895.4 2758.2\n",
      "Other 2111.2 2111.2\n",
      "Vacuum 708.6 2691.0\n",
      "Blender 1096.0 1824.0\n",
      "Electrics 973.8 1748.0\n",
      "Cat 923.4 1892.0\n",
      "Dishes 990.4 2167.8\n"
     ]
    }
   ],
   "source": [
    "for r in df.Remark.unique():\n",
    "    r_max = df[df.Remark==r].audio_freq.max()\n",
    "    r_min = df[df.Remark==r].audio_freq.min()\n",
    "    print(r,r_min,r_max)"
   ]
  },
  {
   "cell_type": "code",
   "execution_count": 48,
   "metadata": {},
   "outputs": [],
   "source": [
    "def convertprob(prob,freq):\n",
    "    if freq > 2050:\n",
    "        prob[:3] = 0 #狗不可能發出超過2045hz的聲音\n",
    "    if freq > 3000:\n",
    "        prob[3] = 1.0 #只有Cosmoke可能發出超過3000hz\n",
    "    return prob"
   ]
  },
  {
   "cell_type": "code",
   "execution_count": 49,
   "metadata": {},
   "outputs": [
    {
     "data": {
      "text/plain": [
       "array([0.        , 0.        , 0.        , 0.85286853, 0.40340799,\n",
       "       0.82604364])"
      ]
     },
     "execution_count": 49,
     "metadata": {},
     "output_type": "execute_result"
    }
   ],
   "source": [
    "convertprob(np.random.uniform(0,1,size=6),2500)"
   ]
  },
  {
   "cell_type": "code",
   "execution_count": 50,
   "metadata": {},
   "outputs": [
    {
     "data": {
      "text/plain": [
       "array([0.        , 0.        , 0.        , 1.        , 0.90689103,\n",
       "       0.64687512])"
      ]
     },
     "execution_count": 50,
     "metadata": {},
     "output_type": "execute_result"
    }
   ],
   "source": [
    "convertprob(np.random.uniform(0,1,size=6),3001)"
   ]
  },
  {
   "cell_type": "code",
   "execution_count": null,
   "metadata": {},
   "outputs": [],
   "source": []
  }
 ],
 "metadata": {
  "kernelspec": {
   "display_name": "Python 3",
   "language": "python",
   "name": "python3"
  },
  "language_info": {
   "codemirror_mode": {
    "name": "ipython",
    "version": 3
   },
   "file_extension": ".py",
   "mimetype": "text/x-python",
   "name": "python",
   "nbconvert_exporter": "python",
   "pygments_lexer": "ipython3",
   "version": "3.7.4"
  }
 },
 "nbformat": 4,
 "nbformat_minor": 2
}
