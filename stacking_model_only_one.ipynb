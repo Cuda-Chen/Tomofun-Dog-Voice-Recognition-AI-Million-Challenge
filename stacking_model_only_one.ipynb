{
 "cells": [
  {
   "cell_type": "code",
   "execution_count": 1,
   "id": "45eeae8d",
   "metadata": {},
   "outputs": [],
   "source": [
    "import torch\n",
    "import catboost\n",
    "from torch import nn\n",
    "import pandas as pd\n",
    "from sklearn.preprocessing import OneHotEncoder\n",
    "from catboost import CatBoostClassifier\n",
    "import gc\n",
    "import numpy as np\n",
    "from tqdm import tqdm\n",
    "from torch.utils.data import TensorDataset,DataLoader\n",
    "from sklearn.svm import SVC\n",
    "from sklearn.metrics import roc_auc_score\n",
    "from sklearn.linear_model import LogisticRegression\n",
    "import warnings \n",
    "warnings.filterwarnings('ignore')"
   ]
  },
  {
   "cell_type": "code",
   "execution_count": 2,
   "id": "d80cde15",
   "metadata": {},
   "outputs": [],
   "source": [
    "def backbone(self, x):\n",
    "    x = self.module.conv1(x)\n",
    "    x = self.module.bn1(x)\n",
    "    x = self.module.relu(x)\n",
    "\n",
    "    x = self.module.layer1(x)\n",
    "    x = self.module.layer2(x)\n",
    "    x = self.module.layer3(x)\n",
    "\n",
    "    return x\n",
    "\n",
    "def preprocessing_Y(file_path):\n",
    "    Y = pd.read_csv(file_path).iloc[:,:]\n",
    "    Y = Y[Y.Filename != 'train_01046']\n",
    "    enc = OneHotEncoder().fit(Y[['Label']])\n",
    "    Y_one_hot = enc.transform(Y[['Label']]).toarray()\n",
    "    Y_one_hot = torch.FloatTensor(Y_one_hot)\n",
    "    print('Y_ont_hot shape',Y_one_hot.shape)\n",
    "    print('Y_df shape',Y.shape)\n",
    "    return Y_one_hot,Y\n",
    "\n",
    "def load_pretrain_senet(model_path):\n",
    "    model = torch.hub.load(\n",
    "        'moskomule/senet.pytorch',\n",
    "        'se_resnet20',\n",
    "        num_classes=6)\n",
    "    model.conv1 = nn.Conv2d(1, 16, kernel_size=(3, 3), stride=(1, 1), padding=(1, 1), bias=False)\n",
    "    model = torch.nn.DataParallel(model, device_ids=[0, 1, 2 ,3])\n",
    "    model.load_state_dict(torch.load(model_path))\n",
    "    model.eval()\n",
    "    model.backbone = backbone.__get__(model)\n",
    "    return model\n",
    "\n",
    "def get_senet_output(senet,data):\n",
    "    return senet(data)\n",
    "\n",
    "def get_all_senet_output(data):\n",
    "    y = senet(data)\n",
    "    return y.detach().cpu().numpy()\n",
    "\n",
    "def get_X_numpy(X):\n",
    "    X_train_np = np.array([[]])\n",
    "    data_iter = DataLoader(TensorDataset(torch.FloatTensor(X.to(torch.float32))),batch_size=256)\n",
    "    for bx in tqdm(data_iter):\n",
    "        bx = bx[0]\n",
    "        bx = bx.to('cuda:0')\n",
    "        y_hat = get_all_senet_output(bx)\n",
    "        if len(X_train_np) == 1:\n",
    "            X_train_np = y_hat\n",
    "        else:\n",
    "            X_train_np = np.vstack((X_train_np,y_hat))\n",
    "    return X_train_np\n",
    "\n",
    "def get_X_numpy_backbone(X):\n",
    "    X_train_np = np.array([[]])\n",
    "    data_iter = DataLoader(TensorDataset(torch.FloatTensor(X.to(torch.float32))),batch_size=64)\n",
    "    for bx in tqdm(data_iter):\n",
    "        bx = bx[0]\n",
    "        bx = bx.to('cuda:0')\n",
    "        y_hat = senet.backbone(bx).detach().cpu().numpy()\n",
    "        y_hat = y_hat.reshape(-1,64*20*40)\n",
    "        if len(X_train_np) == 1:\n",
    "            X_train_np = y_hat\n",
    "        else:\n",
    "            X_train_np = np.vstack((X_train_np,y_hat))\n",
    "    return X_train_np"
   ]
  },
  {
   "cell_type": "markdown",
   "id": "7f270f8b",
   "metadata": {},
   "source": [
    "# 路徑"
   ]
  },
  {
   "cell_type": "code",
   "execution_count": 3,
   "id": "b4f73e3b",
   "metadata": {},
   "outputs": [],
   "source": [
    "Y_train_path = 'train/meta_train.csv'\n",
    "senet = 'senet20_20210605_random_state84_validacc_0.905.pt'"
   ]
  },
  {
   "cell_type": "markdown",
   "id": "c1ba19ce",
   "metadata": {},
   "source": [
    "# load k 個 senet"
   ]
  },
  {
   "cell_type": "code",
   "execution_count": 4,
   "id": "c6c4e5ec",
   "metadata": {},
   "outputs": [
    {
     "name": "stderr",
     "output_type": "stream",
     "text": [
      "Using cache found in /root/.cache/torch/hub/moskomule_senet.pytorch_master\n"
     ]
    },
    {
     "data": {
      "text/plain": [
       "DataParallel(\n",
       "  (module): CifarSEResNet(\n",
       "    (conv1): Conv2d(1, 16, kernel_size=(3, 3), stride=(1, 1), padding=(1, 1), bias=False)\n",
       "    (bn1): BatchNorm2d(16, eps=1e-05, momentum=0.1, affine=True, track_running_stats=True)\n",
       "    (relu): ReLU(inplace=True)\n",
       "    (layer1): Sequential(\n",
       "      (0): CifarSEBasicBlock(\n",
       "        (conv1): Conv2d(16, 16, kernel_size=(3, 3), stride=(1, 1), padding=(1, 1), bias=False)\n",
       "        (bn1): BatchNorm2d(16, eps=1e-05, momentum=0.1, affine=True, track_running_stats=True)\n",
       "        (relu): ReLU(inplace=True)\n",
       "        (conv2): Conv2d(16, 16, kernel_size=(3, 3), stride=(1, 1), padding=(1, 1), bias=False)\n",
       "        (bn2): BatchNorm2d(16, eps=1e-05, momentum=0.1, affine=True, track_running_stats=True)\n",
       "        (se): SELayer(\n",
       "          (avg_pool): AdaptiveAvgPool2d(output_size=1)\n",
       "          (fc): Sequential(\n",
       "            (0): Linear(in_features=16, out_features=1, bias=False)\n",
       "            (1): ReLU(inplace=True)\n",
       "            (2): Linear(in_features=1, out_features=16, bias=False)\n",
       "            (3): Sigmoid()\n",
       "          )\n",
       "        )\n",
       "      )\n",
       "      (1): CifarSEBasicBlock(\n",
       "        (conv1): Conv2d(16, 16, kernel_size=(3, 3), stride=(1, 1), padding=(1, 1), bias=False)\n",
       "        (bn1): BatchNorm2d(16, eps=1e-05, momentum=0.1, affine=True, track_running_stats=True)\n",
       "        (relu): ReLU(inplace=True)\n",
       "        (conv2): Conv2d(16, 16, kernel_size=(3, 3), stride=(1, 1), padding=(1, 1), bias=False)\n",
       "        (bn2): BatchNorm2d(16, eps=1e-05, momentum=0.1, affine=True, track_running_stats=True)\n",
       "        (se): SELayer(\n",
       "          (avg_pool): AdaptiveAvgPool2d(output_size=1)\n",
       "          (fc): Sequential(\n",
       "            (0): Linear(in_features=16, out_features=1, bias=False)\n",
       "            (1): ReLU(inplace=True)\n",
       "            (2): Linear(in_features=1, out_features=16, bias=False)\n",
       "            (3): Sigmoid()\n",
       "          )\n",
       "        )\n",
       "      )\n",
       "      (2): CifarSEBasicBlock(\n",
       "        (conv1): Conv2d(16, 16, kernel_size=(3, 3), stride=(1, 1), padding=(1, 1), bias=False)\n",
       "        (bn1): BatchNorm2d(16, eps=1e-05, momentum=0.1, affine=True, track_running_stats=True)\n",
       "        (relu): ReLU(inplace=True)\n",
       "        (conv2): Conv2d(16, 16, kernel_size=(3, 3), stride=(1, 1), padding=(1, 1), bias=False)\n",
       "        (bn2): BatchNorm2d(16, eps=1e-05, momentum=0.1, affine=True, track_running_stats=True)\n",
       "        (se): SELayer(\n",
       "          (avg_pool): AdaptiveAvgPool2d(output_size=1)\n",
       "          (fc): Sequential(\n",
       "            (0): Linear(in_features=16, out_features=1, bias=False)\n",
       "            (1): ReLU(inplace=True)\n",
       "            (2): Linear(in_features=1, out_features=16, bias=False)\n",
       "            (3): Sigmoid()\n",
       "          )\n",
       "        )\n",
       "      )\n",
       "    )\n",
       "    (layer2): Sequential(\n",
       "      (0): CifarSEBasicBlock(\n",
       "        (conv1): Conv2d(16, 32, kernel_size=(3, 3), stride=(2, 2), padding=(1, 1), bias=False)\n",
       "        (bn1): BatchNorm2d(32, eps=1e-05, momentum=0.1, affine=True, track_running_stats=True)\n",
       "        (relu): ReLU(inplace=True)\n",
       "        (conv2): Conv2d(32, 32, kernel_size=(3, 3), stride=(1, 1), padding=(1, 1), bias=False)\n",
       "        (bn2): BatchNorm2d(32, eps=1e-05, momentum=0.1, affine=True, track_running_stats=True)\n",
       "        (se): SELayer(\n",
       "          (avg_pool): AdaptiveAvgPool2d(output_size=1)\n",
       "          (fc): Sequential(\n",
       "            (0): Linear(in_features=32, out_features=2, bias=False)\n",
       "            (1): ReLU(inplace=True)\n",
       "            (2): Linear(in_features=2, out_features=32, bias=False)\n",
       "            (3): Sigmoid()\n",
       "          )\n",
       "        )\n",
       "        (downsample): Sequential(\n",
       "          (0): Conv2d(16, 32, kernel_size=(1, 1), stride=(2, 2), bias=False)\n",
       "          (1): BatchNorm2d(32, eps=1e-05, momentum=0.1, affine=True, track_running_stats=True)\n",
       "        )\n",
       "      )\n",
       "      (1): CifarSEBasicBlock(\n",
       "        (conv1): Conv2d(32, 32, kernel_size=(3, 3), stride=(1, 1), padding=(1, 1), bias=False)\n",
       "        (bn1): BatchNorm2d(32, eps=1e-05, momentum=0.1, affine=True, track_running_stats=True)\n",
       "        (relu): ReLU(inplace=True)\n",
       "        (conv2): Conv2d(32, 32, kernel_size=(3, 3), stride=(1, 1), padding=(1, 1), bias=False)\n",
       "        (bn2): BatchNorm2d(32, eps=1e-05, momentum=0.1, affine=True, track_running_stats=True)\n",
       "        (se): SELayer(\n",
       "          (avg_pool): AdaptiveAvgPool2d(output_size=1)\n",
       "          (fc): Sequential(\n",
       "            (0): Linear(in_features=32, out_features=2, bias=False)\n",
       "            (1): ReLU(inplace=True)\n",
       "            (2): Linear(in_features=2, out_features=32, bias=False)\n",
       "            (3): Sigmoid()\n",
       "          )\n",
       "        )\n",
       "      )\n",
       "      (2): CifarSEBasicBlock(\n",
       "        (conv1): Conv2d(32, 32, kernel_size=(3, 3), stride=(1, 1), padding=(1, 1), bias=False)\n",
       "        (bn1): BatchNorm2d(32, eps=1e-05, momentum=0.1, affine=True, track_running_stats=True)\n",
       "        (relu): ReLU(inplace=True)\n",
       "        (conv2): Conv2d(32, 32, kernel_size=(3, 3), stride=(1, 1), padding=(1, 1), bias=False)\n",
       "        (bn2): BatchNorm2d(32, eps=1e-05, momentum=0.1, affine=True, track_running_stats=True)\n",
       "        (se): SELayer(\n",
       "          (avg_pool): AdaptiveAvgPool2d(output_size=1)\n",
       "          (fc): Sequential(\n",
       "            (0): Linear(in_features=32, out_features=2, bias=False)\n",
       "            (1): ReLU(inplace=True)\n",
       "            (2): Linear(in_features=2, out_features=32, bias=False)\n",
       "            (3): Sigmoid()\n",
       "          )\n",
       "        )\n",
       "      )\n",
       "    )\n",
       "    (layer3): Sequential(\n",
       "      (0): CifarSEBasicBlock(\n",
       "        (conv1): Conv2d(32, 64, kernel_size=(3, 3), stride=(2, 2), padding=(1, 1), bias=False)\n",
       "        (bn1): BatchNorm2d(64, eps=1e-05, momentum=0.1, affine=True, track_running_stats=True)\n",
       "        (relu): ReLU(inplace=True)\n",
       "        (conv2): Conv2d(64, 64, kernel_size=(3, 3), stride=(1, 1), padding=(1, 1), bias=False)\n",
       "        (bn2): BatchNorm2d(64, eps=1e-05, momentum=0.1, affine=True, track_running_stats=True)\n",
       "        (se): SELayer(\n",
       "          (avg_pool): AdaptiveAvgPool2d(output_size=1)\n",
       "          (fc): Sequential(\n",
       "            (0): Linear(in_features=64, out_features=4, bias=False)\n",
       "            (1): ReLU(inplace=True)\n",
       "            (2): Linear(in_features=4, out_features=64, bias=False)\n",
       "            (3): Sigmoid()\n",
       "          )\n",
       "        )\n",
       "        (downsample): Sequential(\n",
       "          (0): Conv2d(32, 64, kernel_size=(1, 1), stride=(2, 2), bias=False)\n",
       "          (1): BatchNorm2d(64, eps=1e-05, momentum=0.1, affine=True, track_running_stats=True)\n",
       "        )\n",
       "      )\n",
       "      (1): CifarSEBasicBlock(\n",
       "        (conv1): Conv2d(64, 64, kernel_size=(3, 3), stride=(1, 1), padding=(1, 1), bias=False)\n",
       "        (bn1): BatchNorm2d(64, eps=1e-05, momentum=0.1, affine=True, track_running_stats=True)\n",
       "        (relu): ReLU(inplace=True)\n",
       "        (conv2): Conv2d(64, 64, kernel_size=(3, 3), stride=(1, 1), padding=(1, 1), bias=False)\n",
       "        (bn2): BatchNorm2d(64, eps=1e-05, momentum=0.1, affine=True, track_running_stats=True)\n",
       "        (se): SELayer(\n",
       "          (avg_pool): AdaptiveAvgPool2d(output_size=1)\n",
       "          (fc): Sequential(\n",
       "            (0): Linear(in_features=64, out_features=4, bias=False)\n",
       "            (1): ReLU(inplace=True)\n",
       "            (2): Linear(in_features=4, out_features=64, bias=False)\n",
       "            (3): Sigmoid()\n",
       "          )\n",
       "        )\n",
       "      )\n",
       "      (2): CifarSEBasicBlock(\n",
       "        (conv1): Conv2d(64, 64, kernel_size=(3, 3), stride=(1, 1), padding=(1, 1), bias=False)\n",
       "        (bn1): BatchNorm2d(64, eps=1e-05, momentum=0.1, affine=True, track_running_stats=True)\n",
       "        (relu): ReLU(inplace=True)\n",
       "        (conv2): Conv2d(64, 64, kernel_size=(3, 3), stride=(1, 1), padding=(1, 1), bias=False)\n",
       "        (bn2): BatchNorm2d(64, eps=1e-05, momentum=0.1, affine=True, track_running_stats=True)\n",
       "        (se): SELayer(\n",
       "          (avg_pool): AdaptiveAvgPool2d(output_size=1)\n",
       "          (fc): Sequential(\n",
       "            (0): Linear(in_features=64, out_features=4, bias=False)\n",
       "            (1): ReLU(inplace=True)\n",
       "            (2): Linear(in_features=4, out_features=64, bias=False)\n",
       "            (3): Sigmoid()\n",
       "          )\n",
       "        )\n",
       "      )\n",
       "    )\n",
       "    (avgpool): AdaptiveAvgPool2d(output_size=1)\n",
       "    (fc): Linear(in_features=64, out_features=6, bias=True)\n",
       "  )\n",
       ")"
      ]
     },
     "execution_count": 4,
     "metadata": {},
     "output_type": "execute_result"
    }
   ],
   "source": [
    "senet = load_pretrain_senet(senet).to('cuda:0')\n",
    "senet"
   ]
  },
  {
   "cell_type": "markdown",
   "id": "42d51924",
   "metadata": {},
   "source": [
    "# 訓練 和 測試資料"
   ]
  },
  {
   "cell_type": "code",
   "execution_count": 5,
   "id": "9b0d22dd",
   "metadata": {},
   "outputs": [
    {
     "name": "stdout",
     "output_type": "stream",
     "text": [
      "Y_ont_hot shape torch.Size([1199, 6])\n",
      "Y_df shape (1199, 3)\n"
     ]
    },
    {
     "data": {
      "text/plain": [
       "{0: 'Barking',\n",
       " 1: 'Howling',\n",
       " 2: 'Crying',\n",
       " 3: 'COSmoke',\n",
       " 4: 'GlassBreaking',\n",
       " 5: 'Vacuum'}"
      ]
     },
     "execution_count": 5,
     "metadata": {},
     "output_type": "execute_result"
    }
   ],
   "source": [
    "X_train_all = torch.load('X_train_吳啟聖教的方法.pt')\n",
    "X_test_all = torch.load('X_test_吳啟聖教的方法.pt')\n",
    "Y_train_all,Y_train_df = preprocessing_Y(Y_train_path)\n",
    "map_dict = {}\n",
    "for l in Y_train_df.Label.unique():\n",
    "    map_dict[l] = Y_train_df[Y_train_df.Label==l].sample(1)['Remark'].values[0]\n",
    "map_dict"
   ]
  },
  {
   "cell_type": "code",
   "execution_count": 6,
   "id": "68ac5a47",
   "metadata": {},
   "outputs": [
    {
     "name": "stdout",
     "output_type": "stream",
     "text": [
      "torch.Size([959, 1, 80, 157])\n",
      "torch.Size([240, 1, 80, 157])\n",
      "0    160\n",
      "1    160\n",
      "2    160\n",
      "3    160\n",
      "5    160\n",
      "4    159\n",
      "dtype: int64\n",
      "0    40\n",
      "1    40\n",
      "2    40\n",
      "3    40\n",
      "4    40\n",
      "5    40\n",
      "dtype: int64\n"
     ]
    }
   ],
   "source": [
    "from sklearn.model_selection import train_test_split\n",
    "\n",
    "X_train, X_valid , y_train, y_valid = train_test_split(X_train_all, Y_train_all, \n",
    "                                                       test_size=0.2, \n",
    "                                                       random_state=84,\n",
    "                                                       stratify=Y_train_all)\n",
    "print(X_train.shape)\n",
    "print(X_valid.shape)\n",
    "print(pd.DataFrame(y_train.argmax(axis=1)).value_counts())\n",
    "print(pd.DataFrame(y_valid.argmax(axis=1)).value_counts())"
   ]
  },
  {
   "cell_type": "code",
   "execution_count": 7,
   "id": "38087791",
   "metadata": {},
   "outputs": [],
   "source": [
    "from torch.utils.data import TensorDataset,DataLoader\n",
    "trainset = TensorDataset(torch.FloatTensor(X_train.to(torch.float32)),torch.FloatTensor(y_train))\n",
    "vaildset = TensorDataset(torch.FloatTensor(X_valid.to(torch.float32)),torch.FloatTensor(y_valid))\n",
    "train_iter = DataLoader(trainset,batch_size=32,num_workers=4)\n",
    "vaild_iter = DataLoader(vaildset,batch_size=32,num_workers=4)"
   ]
  },
  {
   "cell_type": "code",
   "execution_count": 8,
   "id": "54356008",
   "metadata": {},
   "outputs": [
    {
     "name": "stdout",
     "output_type": "stream",
     "text": [
      "torch.Size([32, 1, 80, 157]) cpu\n",
      "torch.Size([32, 6]) cpu\n",
      "torch.Size([32, 64, 20, 40])\n"
     ]
    }
   ],
   "source": [
    "device = 'cuda:0'\n",
    "for bx,by in train_iter:\n",
    "    print(bx.shape,bx.device) # batch,channel,freq,time\n",
    "    print(by.shape,by.device) # batch,n_class\n",
    "    print(senet.backbone(bx.to(device)).size())\n",
    "    break"
   ]
  },
  {
   "cell_type": "code",
   "execution_count": 9,
   "id": "327d52df",
   "metadata": {},
   "outputs": [
    {
     "name": "stdout",
     "output_type": "stream",
     "text": [
      "torch.Size([32, 1, 80, 157]) torch.Size([32, 6])\n"
     ]
    },
    {
     "data": {
      "text/plain": [
       "torch.Size([32, 6])"
      ]
     },
     "execution_count": 9,
     "metadata": {},
     "output_type": "execute_result"
    }
   ],
   "source": [
    "y_hat = senet(bx)\n",
    "print(bx.shape,y_hat.shape)\n",
    "y_hat.shape"
   ]
  },
  {
   "cell_type": "code",
   "execution_count": 10,
   "id": "f29da133",
   "metadata": {},
   "outputs": [],
   "source": [
    "from sklearn.metrics import confusion_matrix,accuracy_score\n",
    "def plot_confusion_matrix(model,data_iter,map_dict=map_dict):\n",
    "    y_true = np.array([])\n",
    "    y_pred = np.array([])\n",
    "    for bx,by in tqdm(data_iter):\n",
    "        bx = bx.to(device)\n",
    "        by = by.to(device)\n",
    "        y_hat = model(bx)\n",
    "        try:\n",
    "            if len(y_true) == 0:\n",
    "                y_true = by.argmax(axis=1).detach().cpu().numpy()\n",
    "                y_pred = y_hat.argmax(axis=1).detach().cpu().numpy()\n",
    "            else:\n",
    "                y_true = np.hstack((y_true,by.argmax(axis=1).detach().cpu().numpy()))\n",
    "                y_pred = np.hstack((y_pred,y_hat.argmax(axis=1).detach().cpu().numpy()))\n",
    "        except:\n",
    "            pass\n",
    "    cm = pd.DataFrame(confusion_matrix(y_pred,y_true))\n",
    "    cm.columns = list(map_dict.values())\n",
    "    acc = accuracy_score(y_pred,y_true)\n",
    "    return cm,acc"
   ]
  },
  {
   "cell_type": "code",
   "execution_count": 11,
   "id": "f699fe99",
   "metadata": {},
   "outputs": [
    {
     "name": "stderr",
     "output_type": "stream",
     "text": [
      "100%|██████████| 30/30 [00:01<00:00, 19.94it/s]"
     ]
    },
    {
     "name": "stdout",
     "output_type": "stream",
     "text": [
      "0.9760166840458812\n"
     ]
    },
    {
     "name": "stderr",
     "output_type": "stream",
     "text": [
      "\n"
     ]
    },
    {
     "data": {
      "text/html": [
       "<div>\n",
       "<style scoped>\n",
       "    .dataframe tbody tr th:only-of-type {\n",
       "        vertical-align: middle;\n",
       "    }\n",
       "\n",
       "    .dataframe tbody tr th {\n",
       "        vertical-align: top;\n",
       "    }\n",
       "\n",
       "    .dataframe thead th {\n",
       "        text-align: right;\n",
       "    }\n",
       "</style>\n",
       "<table border=\"1\" class=\"dataframe\">\n",
       "  <thead>\n",
       "    <tr style=\"text-align: right;\">\n",
       "      <th></th>\n",
       "      <th>Barking</th>\n",
       "      <th>Howling</th>\n",
       "      <th>Crying</th>\n",
       "      <th>COSmoke</th>\n",
       "      <th>GlassBreaking</th>\n",
       "      <th>Vacuum</th>\n",
       "    </tr>\n",
       "  </thead>\n",
       "  <tbody>\n",
       "    <tr>\n",
       "      <th>0</th>\n",
       "      <td>154</td>\n",
       "      <td>4</td>\n",
       "      <td>2</td>\n",
       "      <td>0</td>\n",
       "      <td>0</td>\n",
       "      <td>0</td>\n",
       "    </tr>\n",
       "    <tr>\n",
       "      <th>1</th>\n",
       "      <td>1</td>\n",
       "      <td>150</td>\n",
       "      <td>1</td>\n",
       "      <td>0</td>\n",
       "      <td>0</td>\n",
       "      <td>0</td>\n",
       "    </tr>\n",
       "    <tr>\n",
       "      <th>2</th>\n",
       "      <td>2</td>\n",
       "      <td>6</td>\n",
       "      <td>156</td>\n",
       "      <td>1</td>\n",
       "      <td>0</td>\n",
       "      <td>1</td>\n",
       "    </tr>\n",
       "    <tr>\n",
       "      <th>3</th>\n",
       "      <td>0</td>\n",
       "      <td>0</td>\n",
       "      <td>0</td>\n",
       "      <td>159</td>\n",
       "      <td>0</td>\n",
       "      <td>0</td>\n",
       "    </tr>\n",
       "    <tr>\n",
       "      <th>4</th>\n",
       "      <td>2</td>\n",
       "      <td>0</td>\n",
       "      <td>0</td>\n",
       "      <td>0</td>\n",
       "      <td>158</td>\n",
       "      <td>0</td>\n",
       "    </tr>\n",
       "    <tr>\n",
       "      <th>5</th>\n",
       "      <td>1</td>\n",
       "      <td>0</td>\n",
       "      <td>1</td>\n",
       "      <td>0</td>\n",
       "      <td>1</td>\n",
       "      <td>159</td>\n",
       "    </tr>\n",
       "  </tbody>\n",
       "</table>\n",
       "</div>"
      ],
      "text/plain": [
       "   Barking  Howling  Crying  COSmoke  GlassBreaking  Vacuum\n",
       "0      154        4       2        0              0       0\n",
       "1        1      150       1        0              0       0\n",
       "2        2        6     156        1              0       1\n",
       "3        0        0       0      159              0       0\n",
       "4        2        0       0        0            158       0\n",
       "5        1        0       1        0              1     159"
      ]
     },
     "execution_count": 11,
     "metadata": {},
     "output_type": "execute_result"
    }
   ],
   "source": [
    "senet.eval()\n",
    "device = 'cuda:0'\n",
    "cm,acc = plot_confusion_matrix(senet.to(device),train_iter)\n",
    "print(acc)\n",
    "cm"
   ]
  },
  {
   "cell_type": "markdown",
   "id": "1de49707",
   "metadata": {},
   "source": [
    "# 有辦法在提升驗證集的表現嗎?"
   ]
  },
  {
   "cell_type": "code",
   "execution_count": 12,
   "id": "df23b0fd",
   "metadata": {},
   "outputs": [
    {
     "name": "stderr",
     "output_type": "stream",
     "text": [
      "100%|██████████| 8/8 [00:00<00:00, 10.72it/s]"
     ]
    },
    {
     "name": "stdout",
     "output_type": "stream",
     "text": [
      "0.9166666666666666\n"
     ]
    },
    {
     "name": "stderr",
     "output_type": "stream",
     "text": [
      "\n"
     ]
    },
    {
     "data": {
      "text/html": [
       "<div>\n",
       "<style scoped>\n",
       "    .dataframe tbody tr th:only-of-type {\n",
       "        vertical-align: middle;\n",
       "    }\n",
       "\n",
       "    .dataframe tbody tr th {\n",
       "        vertical-align: top;\n",
       "    }\n",
       "\n",
       "    .dataframe thead th {\n",
       "        text-align: right;\n",
       "    }\n",
       "</style>\n",
       "<table border=\"1\" class=\"dataframe\">\n",
       "  <thead>\n",
       "    <tr style=\"text-align: right;\">\n",
       "      <th></th>\n",
       "      <th>Barking</th>\n",
       "      <th>Howling</th>\n",
       "      <th>Crying</th>\n",
       "      <th>COSmoke</th>\n",
       "      <th>GlassBreaking</th>\n",
       "      <th>Vacuum</th>\n",
       "    </tr>\n",
       "  </thead>\n",
       "  <tbody>\n",
       "    <tr>\n",
       "      <th>0</th>\n",
       "      <td>36</td>\n",
       "      <td>4</td>\n",
       "      <td>3</td>\n",
       "      <td>1</td>\n",
       "      <td>1</td>\n",
       "      <td>1</td>\n",
       "    </tr>\n",
       "    <tr>\n",
       "      <th>1</th>\n",
       "      <td>3</td>\n",
       "      <td>34</td>\n",
       "      <td>2</td>\n",
       "      <td>0</td>\n",
       "      <td>0</td>\n",
       "      <td>0</td>\n",
       "    </tr>\n",
       "    <tr>\n",
       "      <th>2</th>\n",
       "      <td>1</td>\n",
       "      <td>2</td>\n",
       "      <td>35</td>\n",
       "      <td>0</td>\n",
       "      <td>0</td>\n",
       "      <td>0</td>\n",
       "    </tr>\n",
       "    <tr>\n",
       "      <th>3</th>\n",
       "      <td>0</td>\n",
       "      <td>0</td>\n",
       "      <td>0</td>\n",
       "      <td>38</td>\n",
       "      <td>0</td>\n",
       "      <td>0</td>\n",
       "    </tr>\n",
       "    <tr>\n",
       "      <th>4</th>\n",
       "      <td>0</td>\n",
       "      <td>0</td>\n",
       "      <td>0</td>\n",
       "      <td>0</td>\n",
       "      <td>38</td>\n",
       "      <td>0</td>\n",
       "    </tr>\n",
       "    <tr>\n",
       "      <th>5</th>\n",
       "      <td>0</td>\n",
       "      <td>0</td>\n",
       "      <td>0</td>\n",
       "      <td>1</td>\n",
       "      <td>1</td>\n",
       "      <td>39</td>\n",
       "    </tr>\n",
       "  </tbody>\n",
       "</table>\n",
       "</div>"
      ],
      "text/plain": [
       "   Barking  Howling  Crying  COSmoke  GlassBreaking  Vacuum\n",
       "0       36        4       3        1              1       1\n",
       "1        3       34       2        0              0       0\n",
       "2        1        2      35        0              0       0\n",
       "3        0        0       0       38              0       0\n",
       "4        0        0       0        0             38       0\n",
       "5        0        0       0        1              1      39"
      ]
     },
     "execution_count": 12,
     "metadata": {},
     "output_type": "execute_result"
    }
   ],
   "source": [
    "cm,acc = plot_confusion_matrix(senet.to(device),vaild_iter)\n",
    "print(acc)\n",
    "cm"
   ]
  },
  {
   "cell_type": "markdown",
   "id": "fb632e31",
   "metadata": {},
   "source": [
    "# 接 LogisticRegression 修正senet的弱點"
   ]
  },
  {
   "cell_type": "code",
   "execution_count": 13,
   "id": "e9f4a3a4",
   "metadata": {},
   "outputs": [
    {
     "name": "stderr",
     "output_type": "stream",
     "text": [
      "100%|██████████| 4/4 [00:00<00:00, 19.99it/s]\n",
      "100%|██████████| 1/1 [00:00<00:00, 26.67it/s]\n"
     ]
    },
    {
     "name": "stdout",
     "output_type": "stream",
     "text": [
      "0.925\n"
     ]
    },
    {
     "data": {
      "text/html": [
       "<div>\n",
       "<style scoped>\n",
       "    .dataframe tbody tr th:only-of-type {\n",
       "        vertical-align: middle;\n",
       "    }\n",
       "\n",
       "    .dataframe tbody tr th {\n",
       "        vertical-align: top;\n",
       "    }\n",
       "\n",
       "    .dataframe thead th {\n",
       "        text-align: right;\n",
       "    }\n",
       "</style>\n",
       "<table border=\"1\" class=\"dataframe\">\n",
       "  <thead>\n",
       "    <tr style=\"text-align: right;\">\n",
       "      <th></th>\n",
       "      <th>Barking</th>\n",
       "      <th>Howling</th>\n",
       "      <th>Crying</th>\n",
       "      <th>COSmoke</th>\n",
       "      <th>GlassBreaking</th>\n",
       "      <th>Vacuum</th>\n",
       "    </tr>\n",
       "  </thead>\n",
       "  <tbody>\n",
       "    <tr>\n",
       "      <th>0</th>\n",
       "      <td>36</td>\n",
       "      <td>2</td>\n",
       "      <td>2</td>\n",
       "      <td>2</td>\n",
       "      <td>1</td>\n",
       "      <td>1</td>\n",
       "    </tr>\n",
       "    <tr>\n",
       "      <th>1</th>\n",
       "      <td>3</td>\n",
       "      <td>37</td>\n",
       "      <td>3</td>\n",
       "      <td>0</td>\n",
       "      <td>0</td>\n",
       "      <td>0</td>\n",
       "    </tr>\n",
       "    <tr>\n",
       "      <th>2</th>\n",
       "      <td>1</td>\n",
       "      <td>1</td>\n",
       "      <td>35</td>\n",
       "      <td>0</td>\n",
       "      <td>0</td>\n",
       "      <td>0</td>\n",
       "    </tr>\n",
       "    <tr>\n",
       "      <th>3</th>\n",
       "      <td>0</td>\n",
       "      <td>0</td>\n",
       "      <td>0</td>\n",
       "      <td>38</td>\n",
       "      <td>0</td>\n",
       "      <td>0</td>\n",
       "    </tr>\n",
       "    <tr>\n",
       "      <th>4</th>\n",
       "      <td>0</td>\n",
       "      <td>0</td>\n",
       "      <td>0</td>\n",
       "      <td>0</td>\n",
       "      <td>38</td>\n",
       "      <td>1</td>\n",
       "    </tr>\n",
       "    <tr>\n",
       "      <th>5</th>\n",
       "      <td>0</td>\n",
       "      <td>0</td>\n",
       "      <td>0</td>\n",
       "      <td>0</td>\n",
       "      <td>1</td>\n",
       "      <td>38</td>\n",
       "    </tr>\n",
       "  </tbody>\n",
       "</table>\n",
       "</div>"
      ],
      "text/plain": [
       "   Barking  Howling  Crying  COSmoke  GlassBreaking  Vacuum\n",
       "0       36        2       2        2              1       1\n",
       "1        3       37       3        0              0       0\n",
       "2        1        1      35        0              0       0\n",
       "3        0        0       0       38              0       0\n",
       "4        0        0       0        0             38       1\n",
       "5        0        0       0        0              1      38"
      ]
     },
     "execution_count": 13,
     "metadata": {},
     "output_type": "execute_result"
    }
   ],
   "source": [
    "X_train_np = get_X_numpy(X_train)\n",
    "y_train_np = y_train.detach().numpy().argmax(axis=1)\n",
    "X_valid_np = get_X_numpy(X_valid)\n",
    "y_valid_np = y_valid.detach().numpy().argmax(axis=1)\n",
    "lg = LogisticRegression()\n",
    "lg.fit(X_train_np,y_train_np)\n",
    "y_true = y_valid_np\n",
    "y_pred = lg.predict(X_valid_np )\n",
    "print(accuracy_score(y_pred,y_true))\n",
    "cm = pd.DataFrame(confusion_matrix(y_pred,y_true))\n",
    "cm.columns = list(map_dict.values())\n",
    "cm"
   ]
  },
  {
   "cell_type": "markdown",
   "id": "199b52a0",
   "metadata": {},
   "source": [
    "# cma-es優化 LogisticRegression "
   ]
  },
  {
   "cell_type": "code",
   "execution_count": 14,
   "id": "b799104b",
   "metadata": {},
   "outputs": [
    {
     "name": "stderr",
     "output_type": "stream",
     "text": [
      "\u001b[32m[I 2021-06-05 12:15:43,906]\u001b[0m A new study created in memory with name: no-name-36335b8e-aefa-4c4a-acad-4fe070e5240e\u001b[0m\n",
      "100%|██████████| 100/100 [00:08<00:00, 11.80it/s]\n"
     ]
    },
    {
     "data": {
      "text/plain": [
       "{0: 1.51942772260762,\n",
       " 1: 2.0272557195352,\n",
       " 2: 2.214721660426012,\n",
       " 3: 1.7963778568939066,\n",
       " 4: 2.2131408948945905,\n",
       " 5: 2.057838460168472}"
      ]
     },
     "execution_count": 14,
     "metadata": {},
     "output_type": "execute_result"
    }
   ],
   "source": [
    "import optuna\n",
    "sampler = optuna.samplers.CmaEsSampler()\n",
    "study = optuna.create_study(sampler=sampler,direction='maximize')\n",
    "search_iteration = 100\n",
    "for i in tqdm(range(search_iteration)):\n",
    "    trial = study.ask()\n",
    "    class_weight = {}\n",
    "    for i in [0,1,2,3,4,5]:\n",
    "        class_weight[i] = trial.suggest_uniform(i,1,3)\n",
    "    lg = LogisticRegression(class_weight=class_weight)\n",
    "    lg.fit(X_train_np,y_train_np)\n",
    "    y_true = y_valid_np\n",
    "    y_pred = lg.predict(X_valid_np)\n",
    "    acc = accuracy_score(y_pred,y_true)\n",
    "    study.tell(trial,acc)\n",
    "    \n",
    "study.best_params"
   ]
  },
  {
   "cell_type": "code",
   "execution_count": 15,
   "id": "77d78e68",
   "metadata": {},
   "outputs": [
    {
     "name": "stderr",
     "output_type": "stream",
     "text": [
      "100%|██████████| 4/4 [00:00<00:00, 25.27it/s]\n",
      "100%|██████████| 1/1 [00:00<00:00, 28.44it/s]\n"
     ]
    },
    {
     "name": "stdout",
     "output_type": "stream",
     "text": [
      "0.9333333333333333\n"
     ]
    },
    {
     "data": {
      "text/html": [
       "<div>\n",
       "<style scoped>\n",
       "    .dataframe tbody tr th:only-of-type {\n",
       "        vertical-align: middle;\n",
       "    }\n",
       "\n",
       "    .dataframe tbody tr th {\n",
       "        vertical-align: top;\n",
       "    }\n",
       "\n",
       "    .dataframe thead th {\n",
       "        text-align: right;\n",
       "    }\n",
       "</style>\n",
       "<table border=\"1\" class=\"dataframe\">\n",
       "  <thead>\n",
       "    <tr style=\"text-align: right;\">\n",
       "      <th></th>\n",
       "      <th>Barking</th>\n",
       "      <th>Howling</th>\n",
       "      <th>Crying</th>\n",
       "      <th>COSmoke</th>\n",
       "      <th>GlassBreaking</th>\n",
       "      <th>Vacuum</th>\n",
       "    </tr>\n",
       "  </thead>\n",
       "  <tbody>\n",
       "    <tr>\n",
       "      <th>0</th>\n",
       "      <td>36</td>\n",
       "      <td>2</td>\n",
       "      <td>2</td>\n",
       "      <td>2</td>\n",
       "      <td>1</td>\n",
       "      <td>0</td>\n",
       "    </tr>\n",
       "    <tr>\n",
       "      <th>1</th>\n",
       "      <td>3</td>\n",
       "      <td>37</td>\n",
       "      <td>2</td>\n",
       "      <td>0</td>\n",
       "      <td>0</td>\n",
       "      <td>0</td>\n",
       "    </tr>\n",
       "    <tr>\n",
       "      <th>2</th>\n",
       "      <td>1</td>\n",
       "      <td>1</td>\n",
       "      <td>36</td>\n",
       "      <td>0</td>\n",
       "      <td>0</td>\n",
       "      <td>0</td>\n",
       "    </tr>\n",
       "    <tr>\n",
       "      <th>3</th>\n",
       "      <td>0</td>\n",
       "      <td>0</td>\n",
       "      <td>0</td>\n",
       "      <td>38</td>\n",
       "      <td>0</td>\n",
       "      <td>0</td>\n",
       "    </tr>\n",
       "    <tr>\n",
       "      <th>4</th>\n",
       "      <td>0</td>\n",
       "      <td>0</td>\n",
       "      <td>0</td>\n",
       "      <td>0</td>\n",
       "      <td>38</td>\n",
       "      <td>1</td>\n",
       "    </tr>\n",
       "    <tr>\n",
       "      <th>5</th>\n",
       "      <td>0</td>\n",
       "      <td>0</td>\n",
       "      <td>0</td>\n",
       "      <td>0</td>\n",
       "      <td>1</td>\n",
       "      <td>39</td>\n",
       "    </tr>\n",
       "  </tbody>\n",
       "</table>\n",
       "</div>"
      ],
      "text/plain": [
       "   Barking  Howling  Crying  COSmoke  GlassBreaking  Vacuum\n",
       "0       36        2       2        2              1       0\n",
       "1        3       37       2        0              0       0\n",
       "2        1        1      36        0              0       0\n",
       "3        0        0       0       38              0       0\n",
       "4        0        0       0        0             38       1\n",
       "5        0        0       0        0              1      39"
      ]
     },
     "execution_count": 15,
     "metadata": {},
     "output_type": "execute_result"
    }
   ],
   "source": [
    "X_train_np = get_X_numpy(X_train)\n",
    "y_train_np = y_train.detach().numpy().argmax(axis=1)\n",
    "X_valid_np = get_X_numpy(X_valid)\n",
    "y_valid_np = y_valid.detach().numpy().argmax(axis=1)\n",
    "lg = LogisticRegression(class_weight=study.best_params)\n",
    "lg.fit(X_train_np,y_train_np)\n",
    "y_true = y_valid_np\n",
    "y_pred = lg.predict(X_valid_np)\n",
    "acc = accuracy_score(y_pred,y_true)\n",
    "print(acc)\n",
    "cm = pd.DataFrame(confusion_matrix(y_pred,y_true))\n",
    "cm.columns = list(map_dict.values())\n",
    "cm"
   ]
  },
  {
   "cell_type": "markdown",
   "id": "aaf54506",
   "metadata": {},
   "source": [
    "# 抽中間特徵 給svc做分類"
   ]
  },
  {
   "cell_type": "code",
   "execution_count": 16,
   "id": "10adfa91",
   "metadata": {},
   "outputs": [
    {
     "name": "stderr",
     "output_type": "stream",
     "text": [
      "100%|██████████| 15/15 [00:00<00:00, 26.13it/s]\n",
      "100%|██████████| 4/4 [00:00<00:00, 42.40it/s]\n"
     ]
    },
    {
     "data": {
      "text/plain": [
       "PCA(n_components=2)"
      ]
     },
     "execution_count": 16,
     "metadata": {},
     "output_type": "execute_result"
    }
   ],
   "source": [
    "from sklearn.pipeline import Pipeline\n",
    "from sklearn.svm import SVC\n",
    "from sklearn.decomposition import PCA\n",
    "gc.collect()\n",
    "X_train_np_hidden = get_X_numpy_backbone(X_train)\n",
    "X_valid_np_hidden = get_X_numpy_backbone(X_valid)\n",
    "pca = PCA(n_components=2)\n",
    "pca.fit(X_train_np_hidden)"
   ]
  },
  {
   "cell_type": "code",
   "execution_count": 17,
   "id": "80335ab0",
   "metadata": {},
   "outputs": [],
   "source": [
    "X_train_np_hidden_2dim = pca.transform(X_train_np_hidden)\n",
    "X_valid_np_hidden_2dim = pca.transform(X_valid_np_hidden)"
   ]
  },
  {
   "cell_type": "code",
   "execution_count": 18,
   "id": "7f57d7cc",
   "metadata": {},
   "outputs": [
    {
     "data": {
      "text/plain": [
       "((959, 2), (240, 2))"
      ]
     },
     "execution_count": 18,
     "metadata": {},
     "output_type": "execute_result"
    }
   ],
   "source": [
    "X_train_np_hidden_2dim.shape,X_valid_np_hidden_2dim.shape"
   ]
  },
  {
   "cell_type": "code",
   "execution_count": 19,
   "id": "b628506d",
   "metadata": {},
   "outputs": [],
   "source": [
    "class_0_idx = [index for (index,value) in enumerate(y_train_np) if value == 0]\n",
    "class_1_idx = [index for (index,value) in enumerate(y_train_np) if value == 1]\n",
    "class_2_idx = [index for (index,value) in enumerate(y_train_np) if value == 2]\n",
    "class_3_idx = [index for (index,value) in enumerate(y_train_np) if value == 3]\n",
    "class_4_idx = [index for (index,value) in enumerate(y_train_np) if value == 4]\n",
    "class_5_idx = [index for (index,value) in enumerate(y_train_np) if value == 5]"
   ]
  },
  {
   "cell_type": "code",
   "execution_count": 20,
   "id": "0417fadd",
   "metadata": {},
   "outputs": [],
   "source": [
    "import matplotlib.pyplot as plt\n",
    "\n",
    "def plot_cluster(X):\n",
    "    plt.scatter(X[class_0_idx,0],X[class_0_idx,1],label='Barking')\n",
    "    plt.scatter(X[class_1_idx,0],X[class_1_idx,1],label='Howling')\n",
    "    plt.scatter(X[class_2_idx,0],X[class_2_idx,1],label='Crying')\n",
    "    plt.scatter(X[class_3_idx,0],X[class_3_idx,1],label='COSmoke')\n",
    "    plt.scatter(X[class_4_idx,0],X[class_4_idx,1],label='GlassBreaking')\n",
    "    plt.scatter(X[class_5_idx,0],X[class_5_idx,1],label='Vacuum')\n",
    "    plt.legend()\n",
    "    plt.show()"
   ]
  },
  {
   "cell_type": "code",
   "execution_count": 21,
   "id": "9a80614e",
   "metadata": {},
   "outputs": [
    {
     "data": {
      "image/png": "[encoded data removed]",
      "text/plain": [
       "<Figure size 432x288 with 1 Axes>"
      ]
     },
     "metadata": {
      "needs_background": "light"
     },
     "output_type": "display_data"
    }
   ],
   "source": [
    "plot_cluster(X_train_np_hidden_2dim)"
   ]
  },
  {
   "cell_type": "code",
   "execution_count": 22,
   "id": "06c26330",
   "metadata": {},
   "outputs": [],
   "source": [
    "class_0_idx = [index for (index,value) in enumerate(y_valid_np) if value == 0]\n",
    "class_1_idx = [index for (index,value) in enumerate(y_valid_np) if value == 1]\n",
    "class_2_idx = [index for (index,value) in enumerate(y_valid_np) if value == 2]\n",
    "class_3_idx = [index for (index,value) in enumerate(y_valid_np) if value == 3]\n",
    "class_4_idx = [index for (index,value) in enumerate(y_valid_np) if value == 4]\n",
    "class_5_idx = [index for (index,value) in enumerate(y_valid_np) if value == 5]"
   ]
  },
  {
   "cell_type": "code",
   "execution_count": 23,
   "id": "b5865d57",
   "metadata": {},
   "outputs": [
    {
     "data": {
      "image/png": "[encoded data removed]",
      "text/plain": [
       "<Figure size 432x288 with 1 Axes>"
      ]
     },
     "metadata": {
      "needs_background": "light"
     },
     "output_type": "display_data"
    }
   ],
   "source": [
    "plot_cluster(X_valid_np_hidden_2dim)"
   ]
  },
  {
   "cell_type": "code",
   "execution_count": 24,
   "id": "46875746",
   "metadata": {},
   "outputs": [],
   "source": [
    "from sklearn.preprocessing import StandardScaler\n",
    "svm_clf = SVC(probability=True).fit(X_train_np_hidden_2dim,y_train_np)"
   ]
  },
  {
   "cell_type": "code",
   "execution_count": 25,
   "id": "d0c7ebd7",
   "metadata": {},
   "outputs": [
    {
     "name": "stdout",
     "output_type": "stream",
     "text": [
      "0.9125\n"
     ]
    },
    {
     "data": {
      "text/html": [
       "<div>\n",
       "<style scoped>\n",
       "    .dataframe tbody tr th:only-of-type {\n",
       "        vertical-align: middle;\n",
       "    }\n",
       "\n",
       "    .dataframe tbody tr th {\n",
       "        vertical-align: top;\n",
       "    }\n",
       "\n",
       "    .dataframe thead th {\n",
       "        text-align: right;\n",
       "    }\n",
       "</style>\n",
       "<table border=\"1\" class=\"dataframe\">\n",
       "  <thead>\n",
       "    <tr style=\"text-align: right;\">\n",
       "      <th></th>\n",
       "      <th>Barking</th>\n",
       "      <th>Howling</th>\n",
       "      <th>Crying</th>\n",
       "      <th>COSmoke</th>\n",
       "      <th>GlassBreaking</th>\n",
       "      <th>Vacuum</th>\n",
       "    </tr>\n",
       "  </thead>\n",
       "  <tbody>\n",
       "    <tr>\n",
       "      <th>0</th>\n",
       "      <td>36</td>\n",
       "      <td>2</td>\n",
       "      <td>1</td>\n",
       "      <td>0</td>\n",
       "      <td>1</td>\n",
       "      <td>3</td>\n",
       "    </tr>\n",
       "    <tr>\n",
       "      <th>1</th>\n",
       "      <td>2</td>\n",
       "      <td>37</td>\n",
       "      <td>3</td>\n",
       "      <td>0</td>\n",
       "      <td>0</td>\n",
       "      <td>0</td>\n",
       "    </tr>\n",
       "    <tr>\n",
       "      <th>2</th>\n",
       "      <td>2</td>\n",
       "      <td>1</td>\n",
       "      <td>36</td>\n",
       "      <td>0</td>\n",
       "      <td>0</td>\n",
       "      <td>0</td>\n",
       "    </tr>\n",
       "    <tr>\n",
       "      <th>3</th>\n",
       "      <td>0</td>\n",
       "      <td>0</td>\n",
       "      <td>0</td>\n",
       "      <td>38</td>\n",
       "      <td>0</td>\n",
       "      <td>0</td>\n",
       "    </tr>\n",
       "    <tr>\n",
       "      <th>4</th>\n",
       "      <td>0</td>\n",
       "      <td>0</td>\n",
       "      <td>0</td>\n",
       "      <td>0</td>\n",
       "      <td>37</td>\n",
       "      <td>2</td>\n",
       "    </tr>\n",
       "    <tr>\n",
       "      <th>5</th>\n",
       "      <td>0</td>\n",
       "      <td>0</td>\n",
       "      <td>0</td>\n",
       "      <td>2</td>\n",
       "      <td>2</td>\n",
       "      <td>35</td>\n",
       "    </tr>\n",
       "  </tbody>\n",
       "</table>\n",
       "</div>"
      ],
      "text/plain": [
       "   Barking  Howling  Crying  COSmoke  GlassBreaking  Vacuum\n",
       "0       36        2       1        0              1       3\n",
       "1        2       37       3        0              0       0\n",
       "2        2        1      36        0              0       0\n",
       "3        0        0       0       38              0       0\n",
       "4        0        0       0        0             37       2\n",
       "5        0        0       0        2              2      35"
      ]
     },
     "execution_count": 25,
     "metadata": {},
     "output_type": "execute_result"
    }
   ],
   "source": [
    "y_true = y_valid_np\n",
    "y_pred = svm_clf.predict(X_valid_np_hidden_2dim)\n",
    "acc = accuracy_score(y_pred,y_true)\n",
    "print(acc)\n",
    "cm = pd.DataFrame(confusion_matrix(y_pred,y_true))\n",
    "cm.columns = list(map_dict.values())\n",
    "cm"
   ]
  },
  {
   "cell_type": "markdown",
   "id": "a7f3fcee",
   "metadata": {},
   "source": [
    "# 載入測試數據"
   ]
  },
  {
   "cell_type": "code",
   "execution_count": 26,
   "id": "b4eef335",
   "metadata": {},
   "outputs": [
    {
     "name": "stderr",
     "output_type": "stream",
     "text": [
      "100%|██████████| 157/157 [00:23<00:00,  6.68it/s]\n"
     ]
    }
   ],
   "source": [
    "X_test_np_hidden = get_X_numpy_backbone(X_test_all)\n",
    "X_test_np_hidden_2dim = pca.transform(X_test_np_hidden)"
   ]
  },
  {
   "cell_type": "code",
   "execution_count": 27,
   "id": "d93b6dc3",
   "metadata": {},
   "outputs": [],
   "source": [
    "final_prob = svm_clf.predict_proba(X_test_np_hidden_2dim)"
   ]
  },
  {
   "cell_type": "code",
   "execution_count": 28,
   "id": "d037236a",
   "metadata": {},
   "outputs": [
    {
     "data": {
      "text/plain": [
       "array([1., 1., 1., ..., 1., 1., 1.])"
      ]
     },
     "execution_count": 28,
     "metadata": {},
     "output_type": "execute_result"
    }
   ],
   "source": [
    "final_prob.sum(axis=1)"
   ]
  },
  {
   "cell_type": "code",
   "execution_count": 29,
   "id": "77a0486b",
   "metadata": {},
   "outputs": [
    {
     "data": {
      "text/html": [
       "<div>\n",
       "<style scoped>\n",
       "    .dataframe tbody tr th:only-of-type {\n",
       "        vertical-align: middle;\n",
       "    }\n",
       "\n",
       "    .dataframe tbody tr th {\n",
       "        vertical-align: top;\n",
       "    }\n",
       "\n",
       "    .dataframe thead th {\n",
       "        text-align: right;\n",
       "    }\n",
       "</style>\n",
       "<table border=\"1\" class=\"dataframe\">\n",
       "  <thead>\n",
       "    <tr style=\"text-align: right;\">\n",
       "      <th></th>\n",
       "      <th>Filename</th>\n",
       "      <th>Barking</th>\n",
       "      <th>Howling</th>\n",
       "      <th>Crying</th>\n",
       "      <th>COSmoke</th>\n",
       "      <th>GlassBreaking</th>\n",
       "      <th>Other</th>\n",
       "    </tr>\n",
       "  </thead>\n",
       "  <tbody>\n",
       "    <tr>\n",
       "      <th>0</th>\n",
       "      <td>public_00001</td>\n",
       "      <td>0.031073</td>\n",
       "      <td>0.004952</td>\n",
       "      <td>0.003371</td>\n",
       "      <td>0.005254</td>\n",
       "      <td>0.463265</td>\n",
       "      <td>0.492085</td>\n",
       "    </tr>\n",
       "    <tr>\n",
       "      <th>1</th>\n",
       "      <td>public_00002</td>\n",
       "      <td>0.034664</td>\n",
       "      <td>0.003134</td>\n",
       "      <td>0.002461</td>\n",
       "      <td>0.003605</td>\n",
       "      <td>0.006553</td>\n",
       "      <td>0.949583</td>\n",
       "    </tr>\n",
       "    <tr>\n",
       "      <th>2</th>\n",
       "      <td>public_00003</td>\n",
       "      <td>0.766481</td>\n",
       "      <td>0.008365</td>\n",
       "      <td>0.004946</td>\n",
       "      <td>0.002295</td>\n",
       "      <td>0.004541</td>\n",
       "      <td>0.213372</td>\n",
       "    </tr>\n",
       "    <tr>\n",
       "      <th>3</th>\n",
       "      <td>public_00004</td>\n",
       "      <td>0.013611</td>\n",
       "      <td>0.003933</td>\n",
       "      <td>0.002769</td>\n",
       "      <td>0.012974</td>\n",
       "      <td>0.121507</td>\n",
       "      <td>0.845207</td>\n",
       "    </tr>\n",
       "    <tr>\n",
       "      <th>4</th>\n",
       "      <td>public_00005</td>\n",
       "      <td>0.389390</td>\n",
       "      <td>0.058935</td>\n",
       "      <td>0.318860</td>\n",
       "      <td>0.006911</td>\n",
       "      <td>0.004499</td>\n",
       "      <td>0.221404</td>\n",
       "    </tr>\n",
       "    <tr>\n",
       "      <th>...</th>\n",
       "      <td>...</td>\n",
       "      <td>...</td>\n",
       "      <td>...</td>\n",
       "      <td>...</td>\n",
       "      <td>...</td>\n",
       "      <td>...</td>\n",
       "      <td>...</td>\n",
       "    </tr>\n",
       "    <tr>\n",
       "      <th>29995</th>\n",
       "      <td>private_19996</td>\n",
       "      <td>0.166600</td>\n",
       "      <td>0.166600</td>\n",
       "      <td>0.166600</td>\n",
       "      <td>0.166600</td>\n",
       "      <td>0.166600</td>\n",
       "      <td>0.167000</td>\n",
       "    </tr>\n",
       "    <tr>\n",
       "      <th>29996</th>\n",
       "      <td>private_19997</td>\n",
       "      <td>0.166600</td>\n",
       "      <td>0.166600</td>\n",
       "      <td>0.166600</td>\n",
       "      <td>0.166600</td>\n",
       "      <td>0.166600</td>\n",
       "      <td>0.167000</td>\n",
       "    </tr>\n",
       "    <tr>\n",
       "      <th>29997</th>\n",
       "      <td>private_19998</td>\n",
       "      <td>0.166600</td>\n",
       "      <td>0.166600</td>\n",
       "      <td>0.166600</td>\n",
       "      <td>0.166600</td>\n",
       "      <td>0.166600</td>\n",
       "      <td>0.167000</td>\n",
       "    </tr>\n",
       "    <tr>\n",
       "      <th>29998</th>\n",
       "      <td>private_19999</td>\n",
       "      <td>0.166600</td>\n",
       "      <td>0.166600</td>\n",
       "      <td>0.166600</td>\n",
       "      <td>0.166600</td>\n",
       "      <td>0.166600</td>\n",
       "      <td>0.167000</td>\n",
       "    </tr>\n",
       "    <tr>\n",
       "      <th>29999</th>\n",
       "      <td>private_20000</td>\n",
       "      <td>0.166600</td>\n",
       "      <td>0.166600</td>\n",
       "      <td>0.166600</td>\n",
       "      <td>0.166600</td>\n",
       "      <td>0.166600</td>\n",
       "      <td>0.167000</td>\n",
       "    </tr>\n",
       "  </tbody>\n",
       "</table>\n",
       "<p>30000 rows × 7 columns</p>\n",
       "</div>"
      ],
      "text/plain": [
       "            Filename   Barking   Howling    Crying   COSmoke  GlassBreaking  \\\n",
       "0       public_00001  0.031073  0.004952  0.003371  0.005254       0.463265   \n",
       "1       public_00002  0.034664  0.003134  0.002461  0.003605       0.006553   \n",
       "2       public_00003  0.766481  0.008365  0.004946  0.002295       0.004541   \n",
       "3       public_00004  0.013611  0.003933  0.002769  0.012974       0.121507   \n",
       "4       public_00005  0.389390  0.058935  0.318860  0.006911       0.004499   \n",
       "...              ...       ...       ...       ...       ...            ...   \n",
       "29995  private_19996  0.166600  0.166600  0.166600  0.166600       0.166600   \n",
       "29996  private_19997  0.166600  0.166600  0.166600  0.166600       0.166600   \n",
       "29997  private_19998  0.166600  0.166600  0.166600  0.166600       0.166600   \n",
       "29998  private_19999  0.166600  0.166600  0.166600  0.166600       0.166600   \n",
       "29999  private_20000  0.166600  0.166600  0.166600  0.166600       0.166600   \n",
       "\n",
       "          Other  \n",
       "0      0.492085  \n",
       "1      0.949583  \n",
       "2      0.213372  \n",
       "3      0.845207  \n",
       "4      0.221404  \n",
       "...         ...  \n",
       "29995  0.167000  \n",
       "29996  0.167000  \n",
       "29997  0.167000  \n",
       "29998  0.167000  \n",
       "29999  0.167000  \n",
       "\n",
       "[30000 rows x 7 columns]"
      ]
     },
     "execution_count": 29,
     "metadata": {},
     "output_type": "execute_result"
    }
   ],
   "source": [
    "sample_submit = pd.read_csv('sample_submission.csv')\n",
    "sample_submit.iloc[:10000,1:] = final_prob\n",
    "sample_submit"
   ]
  },
  {
   "cell_type": "code",
   "execution_count": 30,
   "id": "c9019e67",
   "metadata": {},
   "outputs": [
    {
     "data": {
      "text/plain": [
       "0.9125"
      ]
     },
     "execution_count": 30,
     "metadata": {},
     "output_type": "execute_result"
    }
   ],
   "source": [
    "acc"
   ]
  },
  {
   "cell_type": "code",
   "execution_count": 31,
   "id": "bffee603",
   "metadata": {},
   "outputs": [
    {
     "name": "stdout",
     "output_type": "stream",
     "text": [
      "done\n"
     ]
    }
   ],
   "source": [
    "sample_submit.to_csv(f'submit_valid_acc_{acc}.csv',index=False)\n",
    "print('done')"
   ]
  },
  {
   "cell_type": "code",
   "execution_count": null,
   "id": "0e9b49f9",
   "metadata": {},
   "outputs": [],
   "source": []
  }
 ],
 "metadata": {
  "kernelspec": {
   "display_name": "Python 3",
   "language": "python",
   "name": "python3"
  },
  "language_info": {
   "codemirror_mode": {
    "name": "ipython",
    "version": 3
   },
   "file_extension": ".py",
   "mimetype": "text/x-python",
   "name": "python",
   "nbconvert_exporter": "python",
   "pygments_lexer": "ipython3",
   "version": "3.7.4"
  }
 },
 "nbformat": 4,
 "nbformat_minor": 5
}
