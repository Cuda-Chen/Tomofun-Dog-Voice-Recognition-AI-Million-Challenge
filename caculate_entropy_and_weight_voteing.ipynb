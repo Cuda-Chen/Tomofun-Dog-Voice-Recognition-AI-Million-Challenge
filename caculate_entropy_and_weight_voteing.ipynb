{
 "metadata": {
  "language_info": {
   "codemirror_mode": {
    "name": "ipython",
    "version": 3
   },
   "file_extension": ".py",
   "mimetype": "text/x-python",
   "name": "python",
   "nbconvert_exporter": "python",
   "pygments_lexer": "ipython3",
   "version": "3.8.3"
  },
  "orig_nbformat": 2,
  "kernelspec": {
   "name": "python383jvsc74a57bd067850ea2aeb1dc41e111180fab12737ec1e014bd74fe6ccafc8a9315d74a4a04",
   "display_name": "Python 3.8.3 64-bit ('base': conda)"
  }
 },
 "nbformat": 4,
 "nbformat_minor": 2,
 "cells": [
  {
   "cell_type": "code",
   "execution_count": 95,
   "metadata": {},
   "outputs": [],
   "source": [
    "from scipy.stats import entropy\n",
    "import pandas as pd\n",
    "import numpy as np\n",
    "import malaya_speech\n",
    "import IPython.display as ipd"
   ]
  },
  {
   "cell_type": "code",
   "execution_count": 96,
   "metadata": {},
   "outputs": [],
   "source": [
    "p1 = 'submit_valid_acc_0.9125_後面接svc排行榜0.963955516.csv'\n",
    "p2 = 'submit_valid_acc_0.9333333333333333_後面接logstic_排行榜0.9662309294.csv'\n",
    "p3 = 'submit_valid_acc_0.9111111111111111_這個在分群上分的蠻好的_排行榜0.9683586426.csv'\n",
    "p4 = 'senet20_20210605_random_state529_validacc_0.9333333333333333_排行榜0.9646076361.csv'\n",
    "\n",
    "def caculate_entropy(p):\n",
    "    df = pd.read_csv(p)\n",
    "    e = entropy(df.iloc[:10000,1:].values,axis=1)\n",
    "    return np.mean(e)"
   ]
  },
  {
   "cell_type": "code",
   "execution_count": 97,
   "metadata": {},
   "outputs": [
    {
     "output_type": "stream",
     "name": "stdout",
     "text": [
      "0 0.5219590919849224\n",
      "1 0.45633177481680215\n",
      "2 0.24342260577891348\n",
      "3 0.5048804796212653\n"
     ]
    },
    {
     "output_type": "execute_result",
     "data": {
      "text/plain": [
       "[0.5219590919849224,\n",
       " 0.45633177481680215,\n",
       " 0.24342260577891348,\n",
       " 0.5048804796212653]"
      ]
     },
     "metadata": {},
     "execution_count": 97
    }
   ],
   "source": [
    "ent = []\n",
    "for i,p in enumerate([p1,p2,p3,p4]):\n",
    "    print(i,caculate_entropy(p))\n",
    "    ent.append(caculate_entropy(p))\n",
    "ent"
   ]
  },
  {
   "cell_type": "code",
   "execution_count": 98,
   "metadata": {},
   "outputs": [
    {
     "output_type": "execute_result",
     "data": {
      "text/plain": [
       "array([0.15138351, 0.19425744, 0.49307872, 0.16128034])"
      ]
     },
     "metadata": {},
     "execution_count": 98
    }
   ],
   "source": [
    "from scipy.special import softmax\n",
    "ent = softmax(ent)\n",
    "ent = 1/ent #ent愈大預測品質愈糟所以要取倒數換成weight,weight愈大預測品質愈好\n",
    "weight = softmax(ent)\n",
    "weight"
   ]
  },
  {
   "cell_type": "code",
   "execution_count": 99,
   "metadata": {},
   "outputs": [
    {
     "output_type": "execute_result",
     "data": {
      "text/plain": [
       "1.0000000000000002"
      ]
     },
     "metadata": {},
     "execution_count": 99
    }
   ],
   "source": [
    "weight.sum()"
   ]
  },
  {
   "cell_type": "code",
   "execution_count": 100,
   "metadata": {},
   "outputs": [],
   "source": [
    "df1 = pd.read_csv(p1)\n",
    "df2 = pd.read_csv(p2)\n",
    "df3 = pd.read_csv(p3)\n",
    "df4 = pd.read_csv(p4)\n",
    "new_df = df1.copy()\n",
    "new_df.iloc[:,1:] = df1.iloc[:,1:]+df2.iloc[:,1:]+df3.iloc[:,1:]+df4.iloc[:,1:]\n",
    "new_df.iloc[:,1:] = df1.iloc[:,1:]*weight[0] + df2.iloc[:,1:]*weight[1] + df3.iloc[:,1:]*weight[2] + df4.iloc[:,1:]*weight[3]"
   ]
  },
  {
   "cell_type": "code",
   "execution_count": 101,
   "metadata": {},
   "outputs": [
    {
     "output_type": "execute_result",
     "data": {
      "text/plain": [
       "            Filename   Barking   Howling    Crying   COSmoke  GlassBreaking  \\\n",
       "0       public_00001  0.005391  0.000754  0.000896  0.007578       0.739067   \n",
       "1       public_00002  0.072565  0.000532  0.043385  0.181576       0.023347   \n",
       "2       public_00003  0.959305  0.002581  0.003290  0.001100       0.000953   \n",
       "3       public_00004  0.026162  0.000622  0.012113  0.019630       0.147697   \n",
       "4       public_00005  0.334816  0.016087  0.577754  0.005930       0.007812   \n",
       "...              ...       ...       ...       ...       ...            ...   \n",
       "29995  private_19996  0.166609  0.166609  0.166609  0.166609       0.166609   \n",
       "29996  private_19997  0.166609  0.166609  0.166609  0.166609       0.166609   \n",
       "29997  private_19998  0.166609  0.166609  0.166609  0.166609       0.166609   \n",
       "29998  private_19999  0.166609  0.166609  0.166609  0.166609       0.166609   \n",
       "29999  private_20000  0.166609  0.166609  0.166609  0.166609       0.166609   \n",
       "\n",
       "          Other  \n",
       "0      0.246314  \n",
       "1      0.678594  \n",
       "2      0.032771  \n",
       "3      0.793776  \n",
       "4      0.057602  \n",
       "...         ...  \n",
       "29995  0.166955  \n",
       "29996  0.166955  \n",
       "29997  0.166955  \n",
       "29998  0.166955  \n",
       "29999  0.166955  \n",
       "\n",
       "[30000 rows x 7 columns]"
      ],
      "text/html": "<div>\n<style scoped>\n    .dataframe tbody tr th:only-of-type {\n        vertical-align: middle;\n    }\n\n    .dataframe tbody tr th {\n        vertical-align: top;\n    }\n\n    .dataframe thead th {\n        text-align: right;\n    }\n</style>\n<table border=\"1\" class=\"dataframe\">\n  <thead>\n    <tr style=\"text-align: right;\">\n      <th></th>\n      <th>Filename</th>\n      <th>Barking</th>\n      <th>Howling</th>\n      <th>Crying</th>\n      <th>COSmoke</th>\n      <th>GlassBreaking</th>\n      <th>Other</th>\n    </tr>\n  </thead>\n  <tbody>\n    <tr>\n      <th>0</th>\n      <td>public_00001</td>\n      <td>0.005391</td>\n      <td>0.000754</td>\n      <td>0.000896</td>\n      <td>0.007578</td>\n      <td>0.739067</td>\n      <td>0.246314</td>\n    </tr>\n    <tr>\n      <th>1</th>\n      <td>public_00002</td>\n      <td>0.072565</td>\n      <td>0.000532</td>\n      <td>0.043385</td>\n      <td>0.181576</td>\n      <td>0.023347</td>\n      <td>0.678594</td>\n    </tr>\n    <tr>\n      <th>2</th>\n      <td>public_00003</td>\n      <td>0.959305</td>\n      <td>0.002581</td>\n      <td>0.003290</td>\n      <td>0.001100</td>\n      <td>0.000953</td>\n      <td>0.032771</td>\n    </tr>\n    <tr>\n      <th>3</th>\n      <td>public_00004</td>\n      <td>0.026162</td>\n      <td>0.000622</td>\n      <td>0.012113</td>\n      <td>0.019630</td>\n      <td>0.147697</td>\n      <td>0.793776</td>\n    </tr>\n    <tr>\n      <th>4</th>\n      <td>public_00005</td>\n      <td>0.334816</td>\n      <td>0.016087</td>\n      <td>0.577754</td>\n      <td>0.005930</td>\n      <td>0.007812</td>\n      <td>0.057602</td>\n    </tr>\n    <tr>\n      <th>...</th>\n      <td>...</td>\n      <td>...</td>\n      <td>...</td>\n      <td>...</td>\n      <td>...</td>\n      <td>...</td>\n      <td>...</td>\n    </tr>\n    <tr>\n      <th>29995</th>\n      <td>private_19996</td>\n      <td>0.166609</td>\n      <td>0.166609</td>\n      <td>0.166609</td>\n      <td>0.166609</td>\n      <td>0.166609</td>\n      <td>0.166955</td>\n    </tr>\n    <tr>\n      <th>29996</th>\n      <td>private_19997</td>\n      <td>0.166609</td>\n      <td>0.166609</td>\n      <td>0.166609</td>\n      <td>0.166609</td>\n      <td>0.166609</td>\n      <td>0.166955</td>\n    </tr>\n    <tr>\n      <th>29997</th>\n      <td>private_19998</td>\n      <td>0.166609</td>\n      <td>0.166609</td>\n      <td>0.166609</td>\n      <td>0.166609</td>\n      <td>0.166609</td>\n      <td>0.166955</td>\n    </tr>\n    <tr>\n      <th>29998</th>\n      <td>private_19999</td>\n      <td>0.166609</td>\n      <td>0.166609</td>\n      <td>0.166609</td>\n      <td>0.166609</td>\n      <td>0.166609</td>\n      <td>0.166955</td>\n    </tr>\n    <tr>\n      <th>29999</th>\n      <td>private_20000</td>\n      <td>0.166609</td>\n      <td>0.166609</td>\n      <td>0.166609</td>\n      <td>0.166609</td>\n      <td>0.166609</td>\n      <td>0.166955</td>\n    </tr>\n  </tbody>\n</table>\n<p>30000 rows × 7 columns</p>\n</div>"
     },
     "metadata": {},
     "execution_count": 101
    }
   ],
   "source": [
    "new_df"
   ]
  },
  {
   "cell_type": "code",
   "execution_count": 102,
   "metadata": {},
   "outputs": [
    {
     "output_type": "execute_result",
     "data": {
      "text/plain": [
       "0        1.0\n",
       "1        1.0\n",
       "2        1.0\n",
       "3        1.0\n",
       "4        1.0\n",
       "        ... \n",
       "29995    1.0\n",
       "29996    1.0\n",
       "29997    1.0\n",
       "29998    1.0\n",
       "29999    1.0\n",
       "Length: 30000, dtype: float64"
      ]
     },
     "metadata": {},
     "execution_count": 102
    }
   ],
   "source": [
    "new_df.sum(axis=1)"
   ]
  },
  {
   "cell_type": "code",
   "execution_count": 103,
   "metadata": {},
   "outputs": [
    {
     "output_type": "execute_result",
     "data": {
      "text/plain": [
       "30000"
      ]
     },
     "metadata": {},
     "execution_count": 103
    }
   ],
   "source": [
    "len(new_df)"
   ]
  },
  {
   "cell_type": "code",
   "execution_count": 104,
   "metadata": {},
   "outputs": [],
   "source": [
    "new_df.to_csv('Voteing_V8_entropy_vote.csv',index=False)"
   ]
  }
 ]
}