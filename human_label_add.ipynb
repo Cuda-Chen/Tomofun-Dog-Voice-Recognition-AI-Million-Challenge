{
 "metadata": {
  "language_info": {
   "codemirror_mode": {
    "name": "ipython",
    "version": 3
   },
   "file_extension": ".py",
   "mimetype": "text/x-python",
   "name": "python",
   "nbconvert_exporter": "python",
   "pygments_lexer": "ipython3",
   "version": "3.8.5"
  },
  "orig_nbformat": 2,
  "kernelspec": {
   "name": "python385jvsc74a57bd02ccee5cc862501c1aad1cf19888c2a2eca4026b72d187db43d5e889cbdc6ee97",
   "display_name": "Python 3.8.5 64-bit ('base': conda)"
  }
 },
 "nbformat": 4,
 "nbformat_minor": 2,
 "cells": [
  {
   "cell_type": "code",
   "execution_count": 60,
   "metadata": {},
   "outputs": [],
   "source": [
    "import pandas as pd"
   ]
  },
  {
   "cell_type": "code",
   "execution_count": 61,
   "metadata": {},
   "outputs": [],
   "source": [
    "submit = pd.read_csv('submit_2021_0602_1204_acc_0.7416.csv')"
   ]
  },
  {
   "cell_type": "code",
   "execution_count": 62,
   "metadata": {},
   "outputs": [
    {
     "output_type": "execute_result",
     "data": {
      "text/plain": [
       "            Filename       Barking       Howling        Crying       COSmoke  \\\n",
       "0       public_00001  2.173641e-07  1.934015e-17  2.854990e-15  1.018135e-12   \n",
       "1       public_00002  1.221360e-03  4.186358e-08  1.357289e-06  1.568542e-06   \n",
       "2       public_00003  1.000000e+00  3.122495e-14  2.257736e-28  5.806517e-28   \n",
       "3       public_00004  9.528698e-07  6.121301e-14  5.780325e-12  5.287007e-10   \n",
       "4       public_00005  5.949846e-07  1.730112e-04  9.998081e-01  3.158937e-06   \n",
       "...              ...           ...           ...           ...           ...   \n",
       "29995  private_19996  1.666000e-01  1.666000e-01  1.666000e-01  1.666000e-01   \n",
       "29996  private_19997  1.666000e-01  1.666000e-01  1.666000e-01  1.666000e-01   \n",
       "29997  private_19998  1.666000e-01  1.666000e-01  1.666000e-01  1.666000e-01   \n",
       "29998  private_19999  1.666000e-01  1.666000e-01  1.666000e-01  1.666000e-01   \n",
       "29999  private_20000  1.666000e-01  1.666000e-01  1.666000e-01  1.666000e-01   \n",
       "\n",
       "       GlassBreaking         Other  \n",
       "0       8.518518e-11  9.999998e-01  \n",
       "1       3.225823e-06  9.987724e-01  \n",
       "2       1.043876e-18  1.058724e-14  \n",
       "3       1.606268e-09  9.999990e-01  \n",
       "4       1.734915e-09  1.510453e-05  \n",
       "...              ...           ...  \n",
       "29995   1.666000e-01  1.670000e-01  \n",
       "29996   1.666000e-01  1.670000e-01  \n",
       "29997   1.666000e-01  1.670000e-01  \n",
       "29998   1.666000e-01  1.670000e-01  \n",
       "29999   1.666000e-01  1.670000e-01  \n",
       "\n",
       "[30000 rows x 7 columns]"
      ],
      "text/html": "<div>\n<style scoped>\n    .dataframe tbody tr th:only-of-type {\n        vertical-align: middle;\n    }\n\n    .dataframe tbody tr th {\n        vertical-align: top;\n    }\n\n    .dataframe thead th {\n        text-align: right;\n    }\n</style>\n<table border=\"1\" class=\"dataframe\">\n  <thead>\n    <tr style=\"text-align: right;\">\n      <th></th>\n      <th>Filename</th>\n      <th>Barking</th>\n      <th>Howling</th>\n      <th>Crying</th>\n      <th>COSmoke</th>\n      <th>GlassBreaking</th>\n      <th>Other</th>\n    </tr>\n  </thead>\n  <tbody>\n    <tr>\n      <th>0</th>\n      <td>public_00001</td>\n      <td>2.173641e-07</td>\n      <td>1.934015e-17</td>\n      <td>2.854990e-15</td>\n      <td>1.018135e-12</td>\n      <td>8.518518e-11</td>\n      <td>9.999998e-01</td>\n    </tr>\n    <tr>\n      <th>1</th>\n      <td>public_00002</td>\n      <td>1.221360e-03</td>\n      <td>4.186358e-08</td>\n      <td>1.357289e-06</td>\n      <td>1.568542e-06</td>\n      <td>3.225823e-06</td>\n      <td>9.987724e-01</td>\n    </tr>\n    <tr>\n      <th>2</th>\n      <td>public_00003</td>\n      <td>1.000000e+00</td>\n      <td>3.122495e-14</td>\n      <td>2.257736e-28</td>\n      <td>5.806517e-28</td>\n      <td>1.043876e-18</td>\n      <td>1.058724e-14</td>\n    </tr>\n    <tr>\n      <th>3</th>\n      <td>public_00004</td>\n      <td>9.528698e-07</td>\n      <td>6.121301e-14</td>\n      <td>5.780325e-12</td>\n      <td>5.287007e-10</td>\n      <td>1.606268e-09</td>\n      <td>9.999990e-01</td>\n    </tr>\n    <tr>\n      <th>4</th>\n      <td>public_00005</td>\n      <td>5.949846e-07</td>\n      <td>1.730112e-04</td>\n      <td>9.998081e-01</td>\n      <td>3.158937e-06</td>\n      <td>1.734915e-09</td>\n      <td>1.510453e-05</td>\n    </tr>\n    <tr>\n      <th>...</th>\n      <td>...</td>\n      <td>...</td>\n      <td>...</td>\n      <td>...</td>\n      <td>...</td>\n      <td>...</td>\n      <td>...</td>\n    </tr>\n    <tr>\n      <th>29995</th>\n      <td>private_19996</td>\n      <td>1.666000e-01</td>\n      <td>1.666000e-01</td>\n      <td>1.666000e-01</td>\n      <td>1.666000e-01</td>\n      <td>1.666000e-01</td>\n      <td>1.670000e-01</td>\n    </tr>\n    <tr>\n      <th>29996</th>\n      <td>private_19997</td>\n      <td>1.666000e-01</td>\n      <td>1.666000e-01</td>\n      <td>1.666000e-01</td>\n      <td>1.666000e-01</td>\n      <td>1.666000e-01</td>\n      <td>1.670000e-01</td>\n    </tr>\n    <tr>\n      <th>29997</th>\n      <td>private_19998</td>\n      <td>1.666000e-01</td>\n      <td>1.666000e-01</td>\n      <td>1.666000e-01</td>\n      <td>1.666000e-01</td>\n      <td>1.666000e-01</td>\n      <td>1.670000e-01</td>\n    </tr>\n    <tr>\n      <th>29998</th>\n      <td>private_19999</td>\n      <td>1.666000e-01</td>\n      <td>1.666000e-01</td>\n      <td>1.666000e-01</td>\n      <td>1.666000e-01</td>\n      <td>1.666000e-01</td>\n      <td>1.670000e-01</td>\n    </tr>\n    <tr>\n      <th>29999</th>\n      <td>private_20000</td>\n      <td>1.666000e-01</td>\n      <td>1.666000e-01</td>\n      <td>1.666000e-01</td>\n      <td>1.666000e-01</td>\n      <td>1.666000e-01</td>\n      <td>1.670000e-01</td>\n    </tr>\n  </tbody>\n</table>\n<p>30000 rows × 7 columns</p>\n</div>"
     },
     "metadata": {},
     "execution_count": 62
    }
   ],
   "source": [
    "submit"
   ]
  },
  {
   "cell_type": "code",
   "execution_count": 63,
   "metadata": {},
   "outputs": [
    {
     "output_type": "stream",
     "name": "stdout",
     "text": [
      "(10000, 3)\n"
     ]
    },
    {
     "output_type": "execute_result",
     "data": {
      "text/plain": [
       "          Filename  Label   Remark\n",
       "0     public_00001    5.0     汽車喇叭\n",
       "1     public_00002    5.0   好像手機鈴聲\n",
       "2     public_00003    0.0      狗吠叫\n",
       "3     public_00004    5.0     不明雜音\n",
       "4     public_00005    0.0      狗吠叫\n",
       "...            ...    ...      ...\n",
       "9995  public_09996    3.0  不排除是救護車\n",
       "9996  public_09997    2.0   Crying\n",
       "9997  public_09998    1.0  Howling\n",
       "9998  public_09999    3.0  不排除是救護車\n",
       "9999  public_10000    3.0  不排除是救護車\n",
       "\n",
       "[10000 rows x 3 columns]"
      ],
      "text/html": "<div>\n<style scoped>\n    .dataframe tbody tr th:only-of-type {\n        vertical-align: middle;\n    }\n\n    .dataframe tbody tr th {\n        vertical-align: top;\n    }\n\n    .dataframe thead th {\n        text-align: right;\n    }\n</style>\n<table border=\"1\" class=\"dataframe\">\n  <thead>\n    <tr style=\"text-align: right;\">\n      <th></th>\n      <th>Filename</th>\n      <th>Label</th>\n      <th>Remark</th>\n    </tr>\n  </thead>\n  <tbody>\n    <tr>\n      <th>0</th>\n      <td>public_00001</td>\n      <td>5.0</td>\n      <td>汽車喇叭</td>\n    </tr>\n    <tr>\n      <th>1</th>\n      <td>public_00002</td>\n      <td>5.0</td>\n      <td>好像手機鈴聲</td>\n    </tr>\n    <tr>\n      <th>2</th>\n      <td>public_00003</td>\n      <td>0.0</td>\n      <td>狗吠叫</td>\n    </tr>\n    <tr>\n      <th>3</th>\n      <td>public_00004</td>\n      <td>5.0</td>\n      <td>不明雜音</td>\n    </tr>\n    <tr>\n      <th>4</th>\n      <td>public_00005</td>\n      <td>0.0</td>\n      <td>狗吠叫</td>\n    </tr>\n    <tr>\n      <th>...</th>\n      <td>...</td>\n      <td>...</td>\n      <td>...</td>\n    </tr>\n    <tr>\n      <th>9995</th>\n      <td>public_09996</td>\n      <td>3.0</td>\n      <td>不排除是救護車</td>\n    </tr>\n    <tr>\n      <th>9996</th>\n      <td>public_09997</td>\n      <td>2.0</td>\n      <td>Crying</td>\n    </tr>\n    <tr>\n      <th>9997</th>\n      <td>public_09998</td>\n      <td>1.0</td>\n      <td>Howling</td>\n    </tr>\n    <tr>\n      <th>9998</th>\n      <td>public_09999</td>\n      <td>3.0</td>\n      <td>不排除是救護車</td>\n    </tr>\n    <tr>\n      <th>9999</th>\n      <td>public_10000</td>\n      <td>3.0</td>\n      <td>不排除是救護車</td>\n    </tr>\n  </tbody>\n</table>\n<p>10000 rows × 3 columns</p>\n</div>"
     },
     "metadata": {},
     "execution_count": 63
    }
   ],
   "source": [
    "human_label_df = pd.read_csv('public_test/meta_test.csv')\n",
    "print(human_label_df.shape)\n",
    "human_label_df"
   ]
  },
  {
   "cell_type": "code",
   "execution_count": 64,
   "metadata": {},
   "outputs": [
    {
     "output_type": "stream",
     "name": "stdout",
     "text": [
      "558\n(558, 3)\n"
     ]
    },
    {
     "output_type": "execute_result",
     "data": {
      "text/plain": [
       "          Filename  Label   Remark\n",
       "0     public_00001    5.0     汽車喇叭\n",
       "1     public_00002    5.0   好像手機鈴聲\n",
       "2     public_00003    0.0      狗吠叫\n",
       "3     public_00004    5.0     不明雜音\n",
       "4     public_00005    0.0      狗吠叫\n",
       "...            ...    ...      ...\n",
       "9995  public_09996    3.0  不排除是救護車\n",
       "9996  public_09997    2.0   Crying\n",
       "9997  public_09998    1.0  Howling\n",
       "9998  public_09999    3.0  不排除是救護車\n",
       "9999  public_10000    3.0  不排除是救護車\n",
       "\n",
       "[558 rows x 3 columns]"
      ],
      "text/html": "<div>\n<style scoped>\n    .dataframe tbody tr th:only-of-type {\n        vertical-align: middle;\n    }\n\n    .dataframe tbody tr th {\n        vertical-align: top;\n    }\n\n    .dataframe thead th {\n        text-align: right;\n    }\n</style>\n<table border=\"1\" class=\"dataframe\">\n  <thead>\n    <tr style=\"text-align: right;\">\n      <th></th>\n      <th>Filename</th>\n      <th>Label</th>\n      <th>Remark</th>\n    </tr>\n  </thead>\n  <tbody>\n    <tr>\n      <th>0</th>\n      <td>public_00001</td>\n      <td>5.0</td>\n      <td>汽車喇叭</td>\n    </tr>\n    <tr>\n      <th>1</th>\n      <td>public_00002</td>\n      <td>5.0</td>\n      <td>好像手機鈴聲</td>\n    </tr>\n    <tr>\n      <th>2</th>\n      <td>public_00003</td>\n      <td>0.0</td>\n      <td>狗吠叫</td>\n    </tr>\n    <tr>\n      <th>3</th>\n      <td>public_00004</td>\n      <td>5.0</td>\n      <td>不明雜音</td>\n    </tr>\n    <tr>\n      <th>4</th>\n      <td>public_00005</td>\n      <td>0.0</td>\n      <td>狗吠叫</td>\n    </tr>\n    <tr>\n      <th>...</th>\n      <td>...</td>\n      <td>...</td>\n      <td>...</td>\n    </tr>\n    <tr>\n      <th>9995</th>\n      <td>public_09996</td>\n      <td>3.0</td>\n      <td>不排除是救護車</td>\n    </tr>\n    <tr>\n      <th>9996</th>\n      <td>public_09997</td>\n      <td>2.0</td>\n      <td>Crying</td>\n    </tr>\n    <tr>\n      <th>9997</th>\n      <td>public_09998</td>\n      <td>1.0</td>\n      <td>Howling</td>\n    </tr>\n    <tr>\n      <th>9998</th>\n      <td>public_09999</td>\n      <td>3.0</td>\n      <td>不排除是救護車</td>\n    </tr>\n    <tr>\n      <th>9999</th>\n      <td>public_10000</td>\n      <td>3.0</td>\n      <td>不排除是救護車</td>\n    </tr>\n  </tbody>\n</table>\n<p>558 rows × 3 columns</p>\n</div>"
     },
     "metadata": {},
     "execution_count": 64
    }
   ],
   "source": [
    "from sklearn.preprocessing import OneHotEncoder\n",
    "import numpy as np\n",
    "human_label_df = human_label_df[human_label_df.Label >= 0]\n",
    "have_label_idx = human_label_df.index.tolist() \n",
    "no_label_idx = list(set(submit.index) - set(have_label_idx))\n",
    "print(len(have_label_idx))\n",
    "print(human_label_df.shape)\n",
    "human_label_df"
   ]
  },
  {
   "cell_type": "code",
   "execution_count": 65,
   "metadata": {},
   "outputs": [
    {
     "output_type": "execute_result",
     "data": {
      "text/plain": [
       "            Filename  Barking  Howling  Crying  COSmoke  GlassBreaking  Other\n",
       "0       public_00001   0.0000   0.0000  0.0000   0.0000         0.0000  1.000\n",
       "1       public_00002   0.0000   0.0000  0.0000   0.0000         0.0000  1.000\n",
       "2       public_00003   1.0000   0.0000  0.0000   0.0000         0.0000  0.000\n",
       "3       public_00004   0.0000   0.0000  0.0000   0.0000         0.0000  1.000\n",
       "4       public_00005   1.0000   0.0000  0.0000   0.0000         0.0000  0.000\n",
       "...              ...      ...      ...     ...      ...            ...    ...\n",
       "29995  private_19996   0.1666   0.1666  0.1666   0.1666         0.1666  0.167\n",
       "29996  private_19997   0.1666   0.1666  0.1666   0.1666         0.1666  0.167\n",
       "29997  private_19998   0.1666   0.1666  0.1666   0.1666         0.1666  0.167\n",
       "29998  private_19999   0.1666   0.1666  0.1666   0.1666         0.1666  0.167\n",
       "29999  private_20000   0.1666   0.1666  0.1666   0.1666         0.1666  0.167\n",
       "\n",
       "[30000 rows x 7 columns]"
      ],
      "text/html": "<div>\n<style scoped>\n    .dataframe tbody tr th:only-of-type {\n        vertical-align: middle;\n    }\n\n    .dataframe tbody tr th {\n        vertical-align: top;\n    }\n\n    .dataframe thead th {\n        text-align: right;\n    }\n</style>\n<table border=\"1\" class=\"dataframe\">\n  <thead>\n    <tr style=\"text-align: right;\">\n      <th></th>\n      <th>Filename</th>\n      <th>Barking</th>\n      <th>Howling</th>\n      <th>Crying</th>\n      <th>COSmoke</th>\n      <th>GlassBreaking</th>\n      <th>Other</th>\n    </tr>\n  </thead>\n  <tbody>\n    <tr>\n      <th>0</th>\n      <td>public_00001</td>\n      <td>0.0000</td>\n      <td>0.0000</td>\n      <td>0.0000</td>\n      <td>0.0000</td>\n      <td>0.0000</td>\n      <td>1.000</td>\n    </tr>\n    <tr>\n      <th>1</th>\n      <td>public_00002</td>\n      <td>0.0000</td>\n      <td>0.0000</td>\n      <td>0.0000</td>\n      <td>0.0000</td>\n      <td>0.0000</td>\n      <td>1.000</td>\n    </tr>\n    <tr>\n      <th>2</th>\n      <td>public_00003</td>\n      <td>1.0000</td>\n      <td>0.0000</td>\n      <td>0.0000</td>\n      <td>0.0000</td>\n      <td>0.0000</td>\n      <td>0.000</td>\n    </tr>\n    <tr>\n      <th>3</th>\n      <td>public_00004</td>\n      <td>0.0000</td>\n      <td>0.0000</td>\n      <td>0.0000</td>\n      <td>0.0000</td>\n      <td>0.0000</td>\n      <td>1.000</td>\n    </tr>\n    <tr>\n      <th>4</th>\n      <td>public_00005</td>\n      <td>1.0000</td>\n      <td>0.0000</td>\n      <td>0.0000</td>\n      <td>0.0000</td>\n      <td>0.0000</td>\n      <td>0.000</td>\n    </tr>\n    <tr>\n      <th>...</th>\n      <td>...</td>\n      <td>...</td>\n      <td>...</td>\n      <td>...</td>\n      <td>...</td>\n      <td>...</td>\n      <td>...</td>\n    </tr>\n    <tr>\n      <th>29995</th>\n      <td>private_19996</td>\n      <td>0.1666</td>\n      <td>0.1666</td>\n      <td>0.1666</td>\n      <td>0.1666</td>\n      <td>0.1666</td>\n      <td>0.167</td>\n    </tr>\n    <tr>\n      <th>29996</th>\n      <td>private_19997</td>\n      <td>0.1666</td>\n      <td>0.1666</td>\n      <td>0.1666</td>\n      <td>0.1666</td>\n      <td>0.1666</td>\n      <td>0.167</td>\n    </tr>\n    <tr>\n      <th>29997</th>\n      <td>private_19998</td>\n      <td>0.1666</td>\n      <td>0.1666</td>\n      <td>0.1666</td>\n      <td>0.1666</td>\n      <td>0.1666</td>\n      <td>0.167</td>\n    </tr>\n    <tr>\n      <th>29998</th>\n      <td>private_19999</td>\n      <td>0.1666</td>\n      <td>0.1666</td>\n      <td>0.1666</td>\n      <td>0.1666</td>\n      <td>0.1666</td>\n      <td>0.167</td>\n    </tr>\n    <tr>\n      <th>29999</th>\n      <td>private_20000</td>\n      <td>0.1666</td>\n      <td>0.1666</td>\n      <td>0.1666</td>\n      <td>0.1666</td>\n      <td>0.1666</td>\n      <td>0.167</td>\n    </tr>\n  </tbody>\n</table>\n<p>30000 rows × 7 columns</p>\n</div>"
     },
     "metadata": {},
     "execution_count": 65
    }
   ],
   "source": [
    "enc = OneHotEncoder()\n",
    "enc.fit(human_label_df[['Label']])\n",
    "new_value = enc.transform(human_label_df[['Label']]).toarray()\n",
    "human_label_df = submit.copy()\n",
    "human_label_df.loc[have_label_idx,submit.columns[1:]] = new_value\n",
    "human_label_df"
   ]
  },
  {
   "cell_type": "code",
   "execution_count": 66,
   "metadata": {},
   "outputs": [
    {
     "output_type": "execute_result",
     "data": {
      "text/plain": [
       "            Filename       Barking       Howling        Crying       COSmoke  \\\n",
       "57      public_00058  9.987146e-01  1.144473e-03  9.652626e-08  3.569323e-08   \n",
       "58      public_00059  1.042697e-08  1.000000e+00  4.921513e-12  3.629830e-20   \n",
       "59      public_00060  3.266182e-09  2.849793e-05  9.999714e-01  1.211023e-08   \n",
       "60      public_00061  1.031425e-07  8.903276e-17  1.859487e-14  4.058121e-12   \n",
       "61      public_00062  3.788925e-04  2.042501e-14  1.247441e-16  1.073481e-14   \n",
       "...              ...           ...           ...           ...           ...   \n",
       "29995  private_19996  1.666000e-01  1.666000e-01  1.666000e-01  1.666000e-01   \n",
       "29996  private_19997  1.666000e-01  1.666000e-01  1.666000e-01  1.666000e-01   \n",
       "29997  private_19998  1.666000e-01  1.666000e-01  1.666000e-01  1.666000e-01   \n",
       "29998  private_19999  1.666000e-01  1.666000e-01  1.666000e-01  1.666000e-01   \n",
       "29999  private_20000  1.666000e-01  1.666000e-01  1.666000e-01  1.666000e-01   \n",
       "\n",
       "       GlassBreaking         Other  \n",
       "57      3.928859e-06  1.369260e-04  \n",
       "58      9.006834e-21  1.822414e-16  \n",
       "59      1.082524e-12  9.085485e-08  \n",
       "60      4.342783e-11  9.999999e-01  \n",
       "61      9.996207e-01  2.980420e-07  \n",
       "...              ...           ...  \n",
       "29995   1.666000e-01  1.670000e-01  \n",
       "29996   1.666000e-01  1.670000e-01  \n",
       "29997   1.666000e-01  1.670000e-01  \n",
       "29998   1.666000e-01  1.670000e-01  \n",
       "29999   1.666000e-01  1.670000e-01  \n",
       "\n",
       "[29442 rows x 7 columns]"
      ],
      "text/html": "<div>\n<style scoped>\n    .dataframe tbody tr th:only-of-type {\n        vertical-align: middle;\n    }\n\n    .dataframe tbody tr th {\n        vertical-align: top;\n    }\n\n    .dataframe thead th {\n        text-align: right;\n    }\n</style>\n<table border=\"1\" class=\"dataframe\">\n  <thead>\n    <tr style=\"text-align: right;\">\n      <th></th>\n      <th>Filename</th>\n      <th>Barking</th>\n      <th>Howling</th>\n      <th>Crying</th>\n      <th>COSmoke</th>\n      <th>GlassBreaking</th>\n      <th>Other</th>\n    </tr>\n  </thead>\n  <tbody>\n    <tr>\n      <th>57</th>\n      <td>public_00058</td>\n      <td>9.987146e-01</td>\n      <td>1.144473e-03</td>\n      <td>9.652626e-08</td>\n      <td>3.569323e-08</td>\n      <td>3.928859e-06</td>\n      <td>1.369260e-04</td>\n    </tr>\n    <tr>\n      <th>58</th>\n      <td>public_00059</td>\n      <td>1.042697e-08</td>\n      <td>1.000000e+00</td>\n      <td>4.921513e-12</td>\n      <td>3.629830e-20</td>\n      <td>9.006834e-21</td>\n      <td>1.822414e-16</td>\n    </tr>\n    <tr>\n      <th>59</th>\n      <td>public_00060</td>\n      <td>3.266182e-09</td>\n      <td>2.849793e-05</td>\n      <td>9.999714e-01</td>\n      <td>1.211023e-08</td>\n      <td>1.082524e-12</td>\n      <td>9.085485e-08</td>\n    </tr>\n    <tr>\n      <th>60</th>\n      <td>public_00061</td>\n      <td>1.031425e-07</td>\n      <td>8.903276e-17</td>\n      <td>1.859487e-14</td>\n      <td>4.058121e-12</td>\n      <td>4.342783e-11</td>\n      <td>9.999999e-01</td>\n    </tr>\n    <tr>\n      <th>61</th>\n      <td>public_00062</td>\n      <td>3.788925e-04</td>\n      <td>2.042501e-14</td>\n      <td>1.247441e-16</td>\n      <td>1.073481e-14</td>\n      <td>9.996207e-01</td>\n      <td>2.980420e-07</td>\n    </tr>\n    <tr>\n      <th>...</th>\n      <td>...</td>\n      <td>...</td>\n      <td>...</td>\n      <td>...</td>\n      <td>...</td>\n      <td>...</td>\n      <td>...</td>\n    </tr>\n    <tr>\n      <th>29995</th>\n      <td>private_19996</td>\n      <td>1.666000e-01</td>\n      <td>1.666000e-01</td>\n      <td>1.666000e-01</td>\n      <td>1.666000e-01</td>\n      <td>1.666000e-01</td>\n      <td>1.670000e-01</td>\n    </tr>\n    <tr>\n      <th>29996</th>\n      <td>private_19997</td>\n      <td>1.666000e-01</td>\n      <td>1.666000e-01</td>\n      <td>1.666000e-01</td>\n      <td>1.666000e-01</td>\n      <td>1.666000e-01</td>\n      <td>1.670000e-01</td>\n    </tr>\n    <tr>\n      <th>29997</th>\n      <td>private_19998</td>\n      <td>1.666000e-01</td>\n      <td>1.666000e-01</td>\n      <td>1.666000e-01</td>\n      <td>1.666000e-01</td>\n      <td>1.666000e-01</td>\n      <td>1.670000e-01</td>\n    </tr>\n    <tr>\n      <th>29998</th>\n      <td>private_19999</td>\n      <td>1.666000e-01</td>\n      <td>1.666000e-01</td>\n      <td>1.666000e-01</td>\n      <td>1.666000e-01</td>\n      <td>1.666000e-01</td>\n      <td>1.670000e-01</td>\n    </tr>\n    <tr>\n      <th>29999</th>\n      <td>private_20000</td>\n      <td>1.666000e-01</td>\n      <td>1.666000e-01</td>\n      <td>1.666000e-01</td>\n      <td>1.666000e-01</td>\n      <td>1.666000e-01</td>\n      <td>1.670000e-01</td>\n    </tr>\n  </tbody>\n</table>\n<p>29442 rows × 7 columns</p>\n</div>"
     },
     "metadata": {},
     "execution_count": 66
    }
   ],
   "source": [
    "human_label_df.loc[no_label_idx]"
   ]
  },
  {
   "cell_type": "code",
   "execution_count": 67,
   "metadata": {},
   "outputs": [],
   "source": [
    "human_label_df.to_csv('submit_2021_0602_1204_acc_0.7416_with_humal_label.csv',index=False)"
   ]
  },
  {
   "cell_type": "code",
   "execution_count": null,
   "metadata": {},
   "outputs": [],
   "source": []
  }
 ]
}