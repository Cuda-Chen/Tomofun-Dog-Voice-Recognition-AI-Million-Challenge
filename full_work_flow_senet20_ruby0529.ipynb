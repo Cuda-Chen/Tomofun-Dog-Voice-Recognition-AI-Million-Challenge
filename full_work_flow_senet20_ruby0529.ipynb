{
 "cells": [
  {
   "cell_type": "code",
   "execution_count": 1,
   "metadata": {},
   "outputs": [
    {
     "name": "stdout",
     "output_type": "stream",
     "text": [
      "1.8.0+cu111\n"
     ]
    }
   ],
   "source": [
    "import torchaudio\n",
    "torchaudio.set_audio_backend(\"soundfile\")\n",
    "import pandas as pd\n",
    "from torch.utils.data import Dataset, DataLoader\n",
    "from torch.nn import functional as F\n",
    "import torch\n",
    "print(torch.__version__)\n",
    "from torch import nn\n",
    "from tqdm import tqdm\n",
    "from torch.optim import Adam,SGD,RMSprop\n",
    "import matplotlib.pyplot as plt\n",
    "import os\n",
    "import warnings\n",
    "import gc\n",
    "from copy import deepcopy\n",
    "from sklearn.metrics import roc_auc_score\n",
    "from sklearn.preprocessing import OneHotEncoder\n",
    "import librosa\n",
    "import numpy as np\n",
    "import noisereduce as nr\n",
    "import malaya_speech\n",
    "from malaya_speech import Pipeline\n",
    "import IPython.display as ipd\n",
    "warnings.filterwarnings(\"ignore\")\n",
    "from pysptk.sptk import rapt\n",
    "from efficientnet_pytorch import EfficientNet\n",
    "import gc"
   ]
  },
  {
   "cell_type": "code",
   "execution_count": 2,
   "metadata": {},
   "outputs": [],
   "source": [
    "seed = 529 #沛茵生日"
   ]
  },
  {
   "cell_type": "markdown",
   "metadata": {},
   "source": [
    "# path"
   ]
  },
  {
   "cell_type": "code",
   "execution_count": 3,
   "metadata": {},
   "outputs": [],
   "source": [
    "X_train_dir = 'train/train/'\n",
    "X_test_dir = 'public_test/public_test/'\n",
    "Y_train_path = 'train/meta_train.csv'"
   ]
  },
  {
   "cell_type": "markdown",
   "metadata": {},
   "source": [
    "# load data"
   ]
  },
  {
   "cell_type": "code",
   "execution_count": 4,
   "metadata": {},
   "outputs": [],
   "source": [
    "def preprocessing_X(wav_dir):\n",
    "    files = os.listdir(wav_dir)\n",
    "    files.sort() #正確排序很重要!!!!!!!!!!!!!!!!!!!!!!!!!!!!!!!!\n",
    "    X = torch.FloatTensor([])\n",
    "    for f in tqdm(files[:]):\n",
    "        try:\n",
    "            samples, sample_rate = malaya_speech.load(X_train_dir+f)\n",
    "            melspectrogram = wav2featuresflow(samples,sr=sample_rate)\n",
    "            melspectrogram = melspectrogram.reshape(-1,80,157).copy()\n",
    "            melspectrogram = torch.from_numpy(melspectrogram)\n",
    "            X = torch.cat([X,torch.unsqueeze(melspectrogram,0)],dim=0)\n",
    "            gc.collect()\n",
    "        except:\n",
    "            print(f)\n",
    "    print('X shape:',X.shape)\n",
    "    return X\n",
    "\n",
    "def preprocessing_Y(file_path):\n",
    "    Y = pd.read_csv(file_path).iloc[:,:]\n",
    "    Y = Y[Y.Filename != 'train_01046']\n",
    "    enc = OneHotEncoder().fit(Y[['Label']])\n",
    "    Y_one_hot = enc.transform(Y[['Label']]).toarray()\n",
    "    Y_one_hot = torch.FloatTensor(Y_one_hot)\n",
    "    print('Y_ont_hot shape',Y_one_hot.shape)\n",
    "    print('Y_df shape',Y.shape)\n",
    "    return Y_one_hot,Y"
   ]
  },
  {
   "cell_type": "code",
   "execution_count": 5,
   "metadata": {},
   "outputs": [
    {
     "data": {
      "text/plain": [
       "20"
      ]
     },
     "execution_count": 5,
     "metadata": {},
     "output_type": "execute_result"
    }
   ],
   "source": [
    "X_train_all = torch.load('X_train_吳啟聖教的方法.pt')\n",
    "X_test = torch.load('X_test_吳啟聖教的方法.pt')\n",
    "X_train_all.shape,X_test.shape\n",
    "gc.collect()"
   ]
  },
  {
   "cell_type": "code",
   "execution_count": 6,
   "metadata": {},
   "outputs": [
    {
     "name": "stdout",
     "output_type": "stream",
     "text": [
      "Y_ont_hot shape torch.Size([1199, 6])\n",
      "Y_df shape (1199, 3)\n",
      "torch.Size([1199, 6])\n"
     ]
    },
    {
     "data": {
      "text/plain": [
       "{0: 'Barking',\n",
       " 1: 'Howling',\n",
       " 2: 'Crying',\n",
       " 3: 'COSmoke',\n",
       " 4: 'GlassBreaking',\n",
       " 5: 'Dishes'}"
      ]
     },
     "execution_count": 6,
     "metadata": {},
     "output_type": "execute_result"
    }
   ],
   "source": [
    "Y_train_all,Y_train_df = preprocessing_Y(Y_train_path)\n",
    "print(Y_train_all.shape)\n",
    "map_dict = {}\n",
    "for l in Y_train_df.Label.unique():\n",
    "    map_dict[l] = Y_train_df[Y_train_df.Label==l].sample(1)['Remark'].values[0]\n",
    "map_dict"
   ]
  },
  {
   "cell_type": "markdown",
   "metadata": {},
   "source": [
    "# help functions"
   ]
  },
  {
   "cell_type": "code",
   "execution_count": 7,
   "metadata": {},
   "outputs": [
    {
     "name": "stderr",
     "output_type": "stream",
     "text": [
      "WARNING:root:Load quantized model will cause accuracy drop.\n"
     ]
    }
   ],
   "source": [
    "def norm_mel(y, sr):\n",
    "    mel = librosa.feature.melspectrogram(y, sr = sr, n_mels = 80,hop_length=512)\n",
    "    mel = librosa.power_to_db(mel, ref=np.max)\n",
    "    return mel.T\n",
    "\n",
    "def plot(y, sr):\n",
    "    mel = norm_mel(y, sr)\n",
    "    fig, axs = plt.subplots(2, figsize=(10, 8))\n",
    "    axs[0].plot(y)\n",
    "    im = axs[1].imshow(np.rot90(mel), aspect='auto', interpolation='none')\n",
    "    fig.colorbar(mappable=im, shrink=0.65, orientation='horizontal', ax=axs[1])\n",
    "    print('mel shape:',mel.shape)\n",
    "    plt.show()\n",
    "\n",
    "# 靜音部分消除\n",
    "quantized_model = malaya_speech.vad.deep_model(model = 'vggvox-v2', quantized = True)\n",
    "p = Pipeline()\n",
    "\n",
    "pipeline_left = (\n",
    "    p.map(malaya_speech.generator.frames, frame_duration_ms = 30, sample_rate = 16000)\n",
    ")\n",
    "\n",
    "pipeline_right = (\n",
    "    pipeline_left.batching(5)\n",
    "    .foreach_map(quantized_model.predict)\n",
    "    .flatten()\n",
    ")\n",
    "\n",
    "pipeline_left.foreach_zip(pipeline_right).map(malaya_speech.combine.without_silent,\n",
    "                                             threshold_to_stop = 0.05)\n",
    "def remove_silent(y,sr,time_length=80000):\n",
    "    y =  p(y)['without_silent']\n",
    "    if len(y) > time_length:\n",
    "        y = y[0:0+time_length]\n",
    "    else:\n",
    "        y = np.pad(y, (0,time_length-len(y)))\n",
    "    return y\n",
    "\n",
    "def wav2featuresflow(y, sr):\n",
    "    y_without_silent = remove_silent(y,sr)\n",
    "    melspectrogram = np.rot90(norm_mel(y, sr))\n",
    "    return melspectrogram\n",
    "\n",
    "\n",
    "\n",
    "from sklearn.metrics import confusion_matrix,accuracy_score\n",
    "def plot_confusion_matrix(model,data_iter,map_dict=map_dict):\n",
    "    y_true = np.array([])\n",
    "    y_pred = np.array([])\n",
    "    for bx,by in tqdm(data_iter):\n",
    "        bx = bx.to(device)\n",
    "        by = by.to(device)\n",
    "        y_hat = model(bx)\n",
    "        try:\n",
    "            if len(y_true) == 0:\n",
    "                y_true = by.argmax(axis=1).detach().cpu().numpy()\n",
    "                y_pred = y_hat.argmax(axis=1).detach().cpu().numpy()\n",
    "            else:\n",
    "                y_true = np.hstack((y_true,by.argmax(axis=1).detach().cpu().numpy()))\n",
    "                y_pred = np.hstack((y_pred,y_hat.argmax(axis=1).detach().cpu().numpy()))\n",
    "        except:\n",
    "            pass\n",
    "    cm = pd.DataFrame(confusion_matrix(y_pred,y_true))\n",
    "    cm.columns = list(map_dict.values())\n",
    "    acc = accuracy_score(y_pred,y_true)\n",
    "    return cm,acc\n",
    "\n",
    "def 找超參數(search_iteration=30,max_epochs=30):\n",
    "    import optuna\n",
    "    sampler = optuna.samplers.CmaEsSampler()\n",
    "    study = optuna.create_study(sampler=sampler,direction='maximize')\n",
    "    for i in tqdm(range(search_iteration)):\n",
    "        trial = study.ask()\n",
    "        lr = trial.suggest_uniform('lr',1e-5,1e-2)\n",
    "        valid_size = trial.suggest_uniform('valid_size',0.1,0.5)\n",
    "        batch_size = trial.suggest_int(\"batch_size\", 16, 128)\n",
    "        X_train, X_valid , y_train, y_valid = train_test_split(X_train_all, Y_train_all,\n",
    "                                                               test_size = valid_size, \n",
    "                                                               random_state = 1,\n",
    "                                                               stratify=Y_train_all)\n",
    "        trainset = TensorDataset(torch.FloatTensor(X_train.to(torch.float32)),torch.FloatTensor(y_train))\n",
    "        vaildset = TensorDataset(torch.FloatTensor(X_valid.to(torch.float32)),torch.FloatTensor(y_valid))\n",
    "        train_iter = DataLoader(trainset,batch_size=batch_size,num_workers=4)\n",
    "        vaild_iter = DataLoader(vaildset,batch_size=batch_size,num_workers=4)\n",
    "        model = torch.hub.load('moskomule/senet.pytorch','se_resnet20',num_classes=6)\n",
    "        model.conv1 = nn.Conv2d(1, 16, kernel_size=(3, 3), stride=(1, 1), padding=(1, 1), bias=False)\n",
    "        device = 'cuda:0'\n",
    "        model = model.to(device)\n",
    "        model = torch.nn.DataParallel(model, device_ids=[0, 1, 2 ,3])\n",
    "        optimizer = Adam(model.parameters(),lr=lr)\n",
    "        loss_fn = nn.BCEWithLogitsLoss()\n",
    "        model = train(model,train_iter,vaild_iter,optimizer,loss_fn,max_epochs=max_epochs,log_interval=1,device=device)\n",
    "        model.eval()\n",
    "        cm,acc = plot_confusion_matrix(model.to(device),vaild_iter)\n",
    "        study.tell(trial,acc)\n",
    "        print(study.best_params,study.best_value)\n",
    "    return study.best_params,study.best_value"
   ]
  },
  {
   "cell_type": "markdown",
   "metadata": {},
   "source": [
    "# train valid split"
   ]
  },
  {
   "cell_type": "code",
   "execution_count": 8,
   "metadata": {},
   "outputs": [
    {
     "name": "stdout",
     "output_type": "stream",
     "text": [
      "torch.Size([1079, 1, 80, 157])\n",
      "torch.Size([120, 1, 80, 157])\n",
      "0    180\n",
      "1    180\n",
      "2    180\n",
      "3    180\n",
      "5    180\n",
      "4    179\n",
      "dtype: int64\n",
      "0    20\n",
      "1    20\n",
      "2    20\n",
      "3    20\n",
      "4    20\n",
      "5    20\n",
      "dtype: int64\n"
     ]
    }
   ],
   "source": [
    "from sklearn.model_selection import train_test_split\n",
    "\n",
    "X_train, X_valid , y_train, y_valid = train_test_split(X_train_all, Y_train_all, \n",
    "                                                       test_size = 0.1, \n",
    "                                                       random_state = seed,\n",
    "                                                       stratify=Y_train_all)\n",
    "print(X_train.shape)\n",
    "print(X_valid.shape)\n",
    "print(pd.DataFrame(y_train.argmax(axis=1)).value_counts())\n",
    "print(pd.DataFrame(y_valid.argmax(axis=1)).value_counts())"
   ]
  },
  {
   "cell_type": "markdown",
   "metadata": {},
   "source": [
    "#  create pytorch dataloader and save"
   ]
  },
  {
   "cell_type": "code",
   "execution_count": 9,
   "metadata": {},
   "outputs": [
    {
     "name": "stdout",
     "output_type": "stream",
     "text": [
      "torch.Size([32, 1, 80, 157]) cpu\n",
      "torch.Size([32, 6]) cpu\n"
     ]
    }
   ],
   "source": [
    "from torch.utils.data import TensorDataset,DataLoader\n",
    "trainset = TensorDataset(torch.FloatTensor(X_train.to(torch.float32)),torch.FloatTensor(y_train))\n",
    "vaildset = TensorDataset(torch.FloatTensor(X_valid.to(torch.float32)),torch.FloatTensor(y_valid))\n",
    "train_iter = DataLoader(trainset,batch_size=32,num_workers=4)\n",
    "vaild_iter = DataLoader(vaildset,batch_size=32,num_workers=4)\n",
    "for bx,by in train_iter:\n",
    "    print(bx.shape,bx.device) # batch,channel,freq,time\n",
    "    print(by.shape,by.device) # batch,n_class\n",
    "    break"
   ]
  },
  {
   "cell_type": "markdown",
   "metadata": {},
   "source": [
    "# define model"
   ]
  },
  {
   "cell_type": "code",
   "execution_count": 10,
   "metadata": {},
   "outputs": [
    {
     "name": "stderr",
     "output_type": "stream",
     "text": [
      "Using cache found in /root/.cache/torch/hub/moskomule_senet.pytorch_master\n"
     ]
    },
    {
     "name": "stdout",
     "output_type": "stream",
     "text": [
      "CifarSEResNet(\n",
      "  (conv1): Conv2d(1, 16, kernel_size=(3, 3), stride=(1, 1), padding=(1, 1), bias=False)\n",
      "  (bn1): BatchNorm2d(16, eps=1e-05, momentum=0.1, affine=True, track_running_stats=True)\n",
      "  (relu): ReLU(inplace=True)\n",
      "  (layer1): Sequential(\n",
      "    (0): CifarSEBasicBlock(\n",
      "      (conv1): Conv2d(16, 16, kernel_size=(3, 3), stride=(1, 1), padding=(1, 1), bias=False)\n",
      "      (bn1): BatchNorm2d(16, eps=1e-05, momentum=0.1, affine=True, track_running_stats=True)\n",
      "      (relu): ReLU(inplace=True)\n",
      "      (conv2): Conv2d(16, 16, kernel_size=(3, 3), stride=(1, 1), padding=(1, 1), bias=False)\n",
      "      (bn2): BatchNorm2d(16, eps=1e-05, momentum=0.1, affine=True, track_running_stats=True)\n",
      "      (se): SELayer(\n",
      "        (avg_pool): AdaptiveAvgPool2d(output_size=1)\n",
      "        (fc): Sequential(\n",
      "          (0): Linear(in_features=16, out_features=1, bias=False)\n",
      "          (1): ReLU(inplace=True)\n",
      "          (2): Linear(in_features=1, out_features=16, bias=False)\n",
      "          (3): Sigmoid()\n",
      "        )\n",
      "      )\n",
      "    )\n",
      "    (1): CifarSEBasicBlock(\n",
      "      (conv1): Conv2d(16, 16, kernel_size=(3, 3), stride=(1, 1), padding=(1, 1), bias=False)\n",
      "      (bn1): BatchNorm2d(16, eps=1e-05, momentum=0.1, affine=True, track_running_stats=True)\n",
      "      (relu): ReLU(inplace=True)\n",
      "      (conv2): Conv2d(16, 16, kernel_size=(3, 3), stride=(1, 1), padding=(1, 1), bias=False)\n",
      "      (bn2): BatchNorm2d(16, eps=1e-05, momentum=0.1, affine=True, track_running_stats=True)\n",
      "      (se): SELayer(\n",
      "        (avg_pool): AdaptiveAvgPool2d(output_size=1)\n",
      "        (fc): Sequential(\n",
      "          (0): Linear(in_features=16, out_features=1, bias=False)\n",
      "          (1): ReLU(inplace=True)\n",
      "          (2): Linear(in_features=1, out_features=16, bias=False)\n",
      "          (3): Sigmoid()\n",
      "        )\n",
      "      )\n",
      "    )\n",
      "    (2): CifarSEBasicBlock(\n",
      "      (conv1): Conv2d(16, 16, kernel_size=(3, 3), stride=(1, 1), padding=(1, 1), bias=False)\n",
      "      (bn1): BatchNorm2d(16, eps=1e-05, momentum=0.1, affine=True, track_running_stats=True)\n",
      "      (relu): ReLU(inplace=True)\n",
      "      (conv2): Conv2d(16, 16, kernel_size=(3, 3), stride=(1, 1), padding=(1, 1), bias=False)\n",
      "      (bn2): BatchNorm2d(16, eps=1e-05, momentum=0.1, affine=True, track_running_stats=True)\n",
      "      (se): SELayer(\n",
      "        (avg_pool): AdaptiveAvgPool2d(output_size=1)\n",
      "        (fc): Sequential(\n",
      "          (0): Linear(in_features=16, out_features=1, bias=False)\n",
      "          (1): ReLU(inplace=True)\n",
      "          (2): Linear(in_features=1, out_features=16, bias=False)\n",
      "          (3): Sigmoid()\n",
      "        )\n",
      "      )\n",
      "    )\n",
      "  )\n",
      "  (layer2): Sequential(\n",
      "    (0): CifarSEBasicBlock(\n",
      "      (conv1): Conv2d(16, 32, kernel_size=(3, 3), stride=(2, 2), padding=(1, 1), bias=False)\n",
      "      (bn1): BatchNorm2d(32, eps=1e-05, momentum=0.1, affine=True, track_running_stats=True)\n",
      "      (relu): ReLU(inplace=True)\n",
      "      (conv2): Conv2d(32, 32, kernel_size=(3, 3), stride=(1, 1), padding=(1, 1), bias=False)\n",
      "      (bn2): BatchNorm2d(32, eps=1e-05, momentum=0.1, affine=True, track_running_stats=True)\n",
      "      (se): SELayer(\n",
      "        (avg_pool): AdaptiveAvgPool2d(output_size=1)\n",
      "        (fc): Sequential(\n",
      "          (0): Linear(in_features=32, out_features=2, bias=False)\n",
      "          (1): ReLU(inplace=True)\n",
      "          (2): Linear(in_features=2, out_features=32, bias=False)\n",
      "          (3): Sigmoid()\n",
      "        )\n",
      "      )\n",
      "      (downsample): Sequential(\n",
      "        (0): Conv2d(16, 32, kernel_size=(1, 1), stride=(2, 2), bias=False)\n",
      "        (1): BatchNorm2d(32, eps=1e-05, momentum=0.1, affine=True, track_running_stats=True)\n",
      "      )\n",
      "    )\n",
      "    (1): CifarSEBasicBlock(\n",
      "      (conv1): Conv2d(32, 32, kernel_size=(3, 3), stride=(1, 1), padding=(1, 1), bias=False)\n",
      "      (bn1): BatchNorm2d(32, eps=1e-05, momentum=0.1, affine=True, track_running_stats=True)\n",
      "      (relu): ReLU(inplace=True)\n",
      "      (conv2): Conv2d(32, 32, kernel_size=(3, 3), stride=(1, 1), padding=(1, 1), bias=False)\n",
      "      (bn2): BatchNorm2d(32, eps=1e-05, momentum=0.1, affine=True, track_running_stats=True)\n",
      "      (se): SELayer(\n",
      "        (avg_pool): AdaptiveAvgPool2d(output_size=1)\n",
      "        (fc): Sequential(\n",
      "          (0): Linear(in_features=32, out_features=2, bias=False)\n",
      "          (1): ReLU(inplace=True)\n",
      "          (2): Linear(in_features=2, out_features=32, bias=False)\n",
      "          (3): Sigmoid()\n",
      "        )\n",
      "      )\n",
      "    )\n",
      "    (2): CifarSEBasicBlock(\n",
      "      (conv1): Conv2d(32, 32, kernel_size=(3, 3), stride=(1, 1), padding=(1, 1), bias=False)\n",
      "      (bn1): BatchNorm2d(32, eps=1e-05, momentum=0.1, affine=True, track_running_stats=True)\n",
      "      (relu): ReLU(inplace=True)\n",
      "      (conv2): Conv2d(32, 32, kernel_size=(3, 3), stride=(1, 1), padding=(1, 1), bias=False)\n",
      "      (bn2): BatchNorm2d(32, eps=1e-05, momentum=0.1, affine=True, track_running_stats=True)\n",
      "      (se): SELayer(\n",
      "        (avg_pool): AdaptiveAvgPool2d(output_size=1)\n",
      "        (fc): Sequential(\n",
      "          (0): Linear(in_features=32, out_features=2, bias=False)\n",
      "          (1): ReLU(inplace=True)\n",
      "          (2): Linear(in_features=2, out_features=32, bias=False)\n",
      "          (3): Sigmoid()\n",
      "        )\n",
      "      )\n",
      "    )\n",
      "  )\n",
      "  (layer3): Sequential(\n",
      "    (0): CifarSEBasicBlock(\n",
      "      (conv1): Conv2d(32, 64, kernel_size=(3, 3), stride=(2, 2), padding=(1, 1), bias=False)\n",
      "      (bn1): BatchNorm2d(64, eps=1e-05, momentum=0.1, affine=True, track_running_stats=True)\n",
      "      (relu): ReLU(inplace=True)\n",
      "      (conv2): Conv2d(64, 64, kernel_size=(3, 3), stride=(1, 1), padding=(1, 1), bias=False)\n",
      "      (bn2): BatchNorm2d(64, eps=1e-05, momentum=0.1, affine=True, track_running_stats=True)\n",
      "      (se): SELayer(\n",
      "        (avg_pool): AdaptiveAvgPool2d(output_size=1)\n",
      "        (fc): Sequential(\n",
      "          (0): Linear(in_features=64, out_features=4, bias=False)\n",
      "          (1): ReLU(inplace=True)\n",
      "          (2): Linear(in_features=4, out_features=64, bias=False)\n",
      "          (3): Sigmoid()\n",
      "        )\n",
      "      )\n",
      "      (downsample): Sequential(\n",
      "        (0): Conv2d(32, 64, kernel_size=(1, 1), stride=(2, 2), bias=False)\n",
      "        (1): BatchNorm2d(64, eps=1e-05, momentum=0.1, affine=True, track_running_stats=True)\n",
      "      )\n",
      "    )\n",
      "    (1): CifarSEBasicBlock(\n",
      "      (conv1): Conv2d(64, 64, kernel_size=(3, 3), stride=(1, 1), padding=(1, 1), bias=False)\n",
      "      (bn1): BatchNorm2d(64, eps=1e-05, momentum=0.1, affine=True, track_running_stats=True)\n",
      "      (relu): ReLU(inplace=True)\n",
      "      (conv2): Conv2d(64, 64, kernel_size=(3, 3), stride=(1, 1), padding=(1, 1), bias=False)\n",
      "      (bn2): BatchNorm2d(64, eps=1e-05, momentum=0.1, affine=True, track_running_stats=True)\n",
      "      (se): SELayer(\n",
      "        (avg_pool): AdaptiveAvgPool2d(output_size=1)\n",
      "        (fc): Sequential(\n",
      "          (0): Linear(in_features=64, out_features=4, bias=False)\n",
      "          (1): ReLU(inplace=True)\n",
      "          (2): Linear(in_features=4, out_features=64, bias=False)\n",
      "          (3): Sigmoid()\n",
      "        )\n",
      "      )\n",
      "    )\n",
      "    (2): CifarSEBasicBlock(\n",
      "      (conv1): Conv2d(64, 64, kernel_size=(3, 3), stride=(1, 1), padding=(1, 1), bias=False)\n",
      "      (bn1): BatchNorm2d(64, eps=1e-05, momentum=0.1, affine=True, track_running_stats=True)\n",
      "      (relu): ReLU(inplace=True)\n",
      "      (conv2): Conv2d(64, 64, kernel_size=(3, 3), stride=(1, 1), padding=(1, 1), bias=False)\n",
      "      (bn2): BatchNorm2d(64, eps=1e-05, momentum=0.1, affine=True, track_running_stats=True)\n",
      "      (se): SELayer(\n",
      "        (avg_pool): AdaptiveAvgPool2d(output_size=1)\n",
      "        (fc): Sequential(\n",
      "          (0): Linear(in_features=64, out_features=4, bias=False)\n",
      "          (1): ReLU(inplace=True)\n",
      "          (2): Linear(in_features=4, out_features=64, bias=False)\n",
      "          (3): Sigmoid()\n",
      "        )\n",
      "      )\n",
      "    )\n",
      "  )\n",
      "  (avgpool): AdaptiveAvgPool2d(output_size=1)\n",
      "  (fc): Sequential(\n",
      "    (0): Linear(in_features=64, out_features=64, bias=True)\n",
      "    (1): SELU(inplace=True)\n",
      "    (2): Dropout(p=0.5, inplace=False)\n",
      "    (3): Linear(in_features=64, out_features=6, bias=True)\n",
      "  )\n",
      ")\n",
      "Conv2d(1, 16, kernel_size=(3, 3), stride=(1, 1), padding=(1, 1), bias=False) 初始化\n",
      "Conv2d(16, 16, kernel_size=(3, 3), stride=(1, 1), padding=(1, 1), bias=False) 初始化\n",
      "Conv2d(16, 16, kernel_size=(3, 3), stride=(1, 1), padding=(1, 1), bias=False) 初始化\n",
      "Linear(in_features=16, out_features=1, bias=False) 初始化\n",
      "Linear(in_features=1, out_features=16, bias=False) 初始化\n",
      "Conv2d(16, 16, kernel_size=(3, 3), stride=(1, 1), padding=(1, 1), bias=False) 初始化\n",
      "Conv2d(16, 16, kernel_size=(3, 3), stride=(1, 1), padding=(1, 1), bias=False) 初始化\n",
      "Linear(in_features=16, out_features=1, bias=False) 初始化\n",
      "Linear(in_features=1, out_features=16, bias=False) 初始化\n",
      "Conv2d(16, 16, kernel_size=(3, 3), stride=(1, 1), padding=(1, 1), bias=False) 初始化\n",
      "Conv2d(16, 16, kernel_size=(3, 3), stride=(1, 1), padding=(1, 1), bias=False) 初始化\n",
      "Linear(in_features=16, out_features=1, bias=False) 初始化\n",
      "Linear(in_features=1, out_features=16, bias=False) 初始化\n",
      "Conv2d(16, 32, kernel_size=(3, 3), stride=(2, 2), padding=(1, 1), bias=False) 初始化\n",
      "Conv2d(32, 32, kernel_size=(3, 3), stride=(1, 1), padding=(1, 1), bias=False) 初始化\n",
      "Linear(in_features=32, out_features=2, bias=False) 初始化\n",
      "Linear(in_features=2, out_features=32, bias=False) 初始化\n",
      "Conv2d(16, 32, kernel_size=(1, 1), stride=(2, 2), bias=False) 初始化\n",
      "Conv2d(32, 32, kernel_size=(3, 3), stride=(1, 1), padding=(1, 1), bias=False) 初始化\n",
      "Conv2d(32, 32, kernel_size=(3, 3), stride=(1, 1), padding=(1, 1), bias=False) 初始化\n",
      "Linear(in_features=32, out_features=2, bias=False) 初始化\n",
      "Linear(in_features=2, out_features=32, bias=False) 初始化\n",
      "Conv2d(32, 32, kernel_size=(3, 3), stride=(1, 1), padding=(1, 1), bias=False) 初始化\n",
      "Conv2d(32, 32, kernel_size=(3, 3), stride=(1, 1), padding=(1, 1), bias=False) 初始化\n",
      "Linear(in_features=32, out_features=2, bias=False) 初始化\n",
      "Linear(in_features=2, out_features=32, bias=False) 初始化\n",
      "Conv2d(32, 64, kernel_size=(3, 3), stride=(2, 2), padding=(1, 1), bias=False) 初始化\n",
      "Conv2d(64, 64, kernel_size=(3, 3), stride=(1, 1), padding=(1, 1), bias=False) 初始化\n",
      "Linear(in_features=64, out_features=4, bias=False) 初始化\n",
      "Linear(in_features=4, out_features=64, bias=False) 初始化\n",
      "Conv2d(32, 64, kernel_size=(1, 1), stride=(2, 2), bias=False) 初始化\n",
      "Conv2d(64, 64, kernel_size=(3, 3), stride=(1, 1), padding=(1, 1), bias=False) 初始化\n",
      "Conv2d(64, 64, kernel_size=(3, 3), stride=(1, 1), padding=(1, 1), bias=False) 初始化\n",
      "Linear(in_features=64, out_features=4, bias=False) 初始化\n",
      "Linear(in_features=4, out_features=64, bias=False) 初始化\n",
      "Conv2d(64, 64, kernel_size=(3, 3), stride=(1, 1), padding=(1, 1), bias=False) 初始化\n",
      "Conv2d(64, 64, kernel_size=(3, 3), stride=(1, 1), padding=(1, 1), bias=False) 初始化\n",
      "Linear(in_features=64, out_features=4, bias=False) 初始化\n",
      "Linear(in_features=4, out_features=64, bias=False) 初始化\n",
      "Linear(in_features=64, out_features=64, bias=True) 初始化\n",
      "Linear(in_features=64, out_features=6, bias=True) 初始化\n",
      "torch.Size([32, 1, 80, 157]) torch.Size([32, 6])\n"
     ]
    },
    {
     "data": {
      "text/plain": [
       "torch.Size([32, 6])"
      ]
     },
     "execution_count": 10,
     "metadata": {},
     "output_type": "execute_result"
    }
   ],
   "source": [
    "import torch.hub\n",
    "model = torch.hub.load('moskomule/senet.pytorch','se_resnet20',num_classes=64)\n",
    "model.conv1 = nn.Conv2d(1, 16, kernel_size=(3, 3), stride=(1, 1), padding=(1, 1), bias=False)\n",
    "model.fc = nn.Sequential(\n",
    "    nn.Linear(64,64),\n",
    "    nn.SELU(inplace=True),\n",
    "    #nn.LeakyReLU()\n",
    "    nn.Dropout(0.5),#三個臭皮匠勝過一個諸葛亮\n",
    "    nn.Linear(64,6))\n",
    "print(model)\n",
    "for m in model.modules():\n",
    "    if isinstance(m, (nn.Conv2d, nn.Linear)):\n",
    "        print(m,'初始化')\n",
    "        nn.init.xavier_uniform_(m.weight)\n",
    "# forward test\n",
    "y_hat = model(bx)\n",
    "print(bx.shape,y_hat.shape)\n",
    "y_hat.shape"
   ]
  },
  {
   "cell_type": "markdown",
   "metadata": {},
   "source": [
    "# def train loop"
   ]
  },
  {
   "cell_type": "code",
   "execution_count": 11,
   "metadata": {},
   "outputs": [],
   "source": [
    "from sklearn.metrics import accuracy_score\n",
    "\n",
    "def train_step(model,train_iter,loss_fn,optimizer,device):\n",
    "        model.train()\n",
    "        total_loss = 0\n",
    "        total_auc = 0\n",
    "        for t,(x,y) in enumerate(train_iter):\n",
    "            x,y = x.to(device),y.to(device)\n",
    "            y_hat = model(x)\n",
    "            total_auc += calculate_auc_score(model,x,y)\n",
    "            loss = loss_fn(y_hat,y)\n",
    "            loss.backward()\n",
    "            optimizer.step()\n",
    "            optimizer.zero_grad()\n",
    "            total_loss += loss.item()\n",
    "        return total_loss/(t+1) ,total_auc/(t+1)\n",
    "\n",
    "def valid_step(model,vaild_iter,loss_fn,optimizer,device):\n",
    "    model.eval()\n",
    "    total_loss = 0\n",
    "    total_auc = 0\n",
    "    for t,(x,y) in enumerate(vaild_iter):\n",
    "        x,y = x.to(device),y.to(device)\n",
    "        y_hat = model(x)\n",
    "        total_auc += calculate_auc_score(model,x,y)\n",
    "        loss = loss_fn(y_hat,y)\n",
    "        total_loss += loss.item()\n",
    "    return total_loss/(t+1) ,total_auc/(t+1)\n",
    "\n",
    "def softmax2onehot(probs):\n",
    "  probs = torch.FloatTensor(probs)\n",
    "  max_idx = torch.argmax(probs, 1, keepdim=True)\n",
    "  one_hot = torch.FloatTensor(probs.shape)\n",
    "  one_hot.zero_()\n",
    "  one_hot.scatter_(1, max_idx, 1)\n",
    "  return one_hot.detach().cpu().numpy().astype(int)\n",
    "\n",
    "# calculate roc_auc_score\n",
    "def calculate_auc_score(model,x,y):\n",
    "    y_hat = model(x).argmax(dim=1).detach().cpu().numpy()\n",
    "    y = y.argmax(dim=1).detach().cpu().numpy()\n",
    "    return accuracy_score(y,y_hat)\n",
    "\n",
    "\n",
    "# train_loop\n",
    "def train(model,train_iter,vaild_iter,optimizer,loss_fn,max_epochs=300,log_interval=10,device=None):\n",
    "        history = {\n",
    "            'train_loss':[],\n",
    "            'valid_loss':[],\n",
    "            'train_auc':[],\n",
    "            'valid_auc':[],\n",
    "            }\n",
    "        current_auc = -np.inf\n",
    "        best_model = None\n",
    "        for i in tqdm(range(max_epochs)):\n",
    "            # step\n",
    "            train_loss,train_auc = train_step(model,train_iter,loss_fn,optimizer,device)\n",
    "            valid_loss,valid_auc = valid_step(model,vaild_iter,loss_fn,optimizer,device)\n",
    "            # record history\n",
    "            history['train_loss'].append(train_loss)\n",
    "            history['valid_loss'].append(valid_loss)\n",
    "            history['train_auc'].append(train_auc)\n",
    "            history['valid_auc'].append(valid_auc)\n",
    "            # print info\n",
    "            if i % log_interval == 0:\n",
    "                print(\"epoch:{} train_loss:{:.4f} valid_loss:{:.4f} train_auc:{:.4f} valid_auc:{:.4f}\".format(\n",
    "                    i,history['train_loss'][-1],history['valid_loss'][-1],history['train_auc'][-1],history['valid_auc'][-1])\n",
    "                    )\n",
    "            # record the best model\n",
    "            if history['valid_auc'][-1] >= current_auc:\n",
    "                best_model = deepcopy(model.eval())\n",
    "                current_auc = history['valid_auc'][-1]\n",
    "                print('有進步')\n",
    "            gc.collect()\n",
    "        # copy best model\n",
    "        model = deepcopy(best_model.eval())\n",
    "        \n",
    "        # plot\n",
    "        plt.plot(history['train_loss'],label='train_loss')\n",
    "        plt.plot(history['valid_loss'],label='valid_loss')\n",
    "        plt.legend()\n",
    "        plt.savefig('loss.jpg')\n",
    "        plt.show()\n",
    "        \n",
    "        \n",
    "        plt.plot(history['train_auc'],label='train_auc')\n",
    "        plt.plot(history['valid_auc'],label='valid_auc')\n",
    "        plt.legend()\n",
    "        plt.savefig('auc.jpg')\n",
    "        plt.show()\n",
    "        \n",
    "        \n",
    "        return model"
   ]
  },
  {
   "cell_type": "code",
   "execution_count": 12,
   "metadata": {},
   "outputs": [],
   "source": [
    "device = 'cuda:0'\n",
    "model = model.to(device)\n",
    "model = torch.nn.DataParallel(model, device_ids=[0, 1, 2 ,3])"
   ]
  },
  {
   "cell_type": "code",
   "execution_count": 13,
   "metadata": {},
   "outputs": [],
   "source": [
    "optimizer = Adam(model.parameters(),lr=5e-5)\n",
    "loss_fn = nn.BCEWithLogitsLoss()"
   ]
  },
  {
   "cell_type": "code",
   "execution_count": 14,
   "metadata": {},
   "outputs": [
    {
     "name": "stderr",
     "output_type": "stream",
     "text": [
      "  1%|          | 1/100 [00:13<22:06, 13.40s/it]"
     ]
    },
    {
     "name": "stdout",
     "output_type": "stream",
     "text": [
      "epoch:0 train_loss:0.7584 valid_loss:0.5684 train_auc:0.1957 valid_auc:0.2760\n",
      "有進步\n"
     ]
    },
    {
     "name": "stderr",
     "output_type": "stream",
     "text": [
      "  2%|▏         | 2/100 [00:19<14:32,  8.91s/it]"
     ]
    },
    {
     "name": "stdout",
     "output_type": "stream",
     "text": [
      "epoch:1 train_loss:0.5926 valid_loss:0.4515 train_auc:0.2549 valid_auc:0.3125\n",
      "有進步\n",
      "epoch:2 train_loss:0.4917 valid_loss:0.4012 train_auc:0.3321 valid_auc:0.4740\n",
      "有進步\n"
     ]
    },
    {
     "name": "stderr",
     "output_type": "stream",
     "text": [
      "  4%|▍         | 4/100 [00:30<10:47,  6.74s/it]"
     ]
    },
    {
     "name": "stdout",
     "output_type": "stream",
     "text": [
      "epoch:3 train_loss:0.4481 valid_loss:0.3712 train_auc:0.3659 valid_auc:0.5365\n",
      "有進步\n"
     ]
    },
    {
     "name": "stderr",
     "output_type": "stream",
     "text": [
      "  5%|▌         | 5/100 [00:36<10:04,  6.37s/it]"
     ]
    },
    {
     "name": "stdout",
     "output_type": "stream",
     "text": [
      "epoch:4 train_loss:0.4195 valid_loss:0.3500 train_auc:0.4135 valid_auc:0.5807\n",
      "有進步\n"
     ]
    },
    {
     "name": "stderr",
     "output_type": "stream",
     "text": [
      "  6%|▌         | 6/100 [00:42<09:41,  6.18s/it]"
     ]
    },
    {
     "name": "stdout",
     "output_type": "stream",
     "text": [
      "epoch:5 train_loss:0.4003 valid_loss:0.3324 train_auc:0.4163 valid_auc:0.6406\n",
      "有進步\n"
     ]
    },
    {
     "name": "stderr",
     "output_type": "stream",
     "text": [
      "  7%|▋         | 7/100 [00:47<09:17,  6.00s/it]"
     ]
    },
    {
     "name": "stdout",
     "output_type": "stream",
     "text": [
      "epoch:6 train_loss:0.3810 valid_loss:0.3159 train_auc:0.4874 valid_auc:0.6875\n",
      "有進步\n"
     ]
    },
    {
     "name": "stderr",
     "output_type": "stream",
     "text": [
      "  8%|▊         | 8/100 [00:53<09:06,  5.94s/it]"
     ]
    },
    {
     "name": "stdout",
     "output_type": "stream",
     "text": [
      "epoch:7 train_loss:0.3608 valid_loss:0.3002 train_auc:0.5337 valid_auc:0.7109\n",
      "有進步\n"
     ]
    },
    {
     "name": "stderr",
     "output_type": "stream",
     "text": [
      "  9%|▉         | 9/100 [00:59<08:52,  5.85s/it]"
     ]
    },
    {
     "name": "stdout",
     "output_type": "stream",
     "text": [
      "epoch:8 train_loss:0.3524 valid_loss:0.2892 train_auc:0.5549 valid_auc:0.7031\n"
     ]
    },
    {
     "name": "stderr",
     "output_type": "stream",
     "text": [
      " 10%|█         | 10/100 [01:04<08:38,  5.77s/it]"
     ]
    },
    {
     "name": "stdout",
     "output_type": "stream",
     "text": [
      "epoch:9 train_loss:0.3363 valid_loss:0.2763 train_auc:0.5780 valid_auc:0.7031\n",
      "epoch:10 train_loss:0.3339 valid_loss:0.2641 train_auc:0.5960 valid_auc:0.7188\n",
      "有進步\n"
     ]
    },
    {
     "name": "stderr",
     "output_type": "stream",
     "text": [
      " 12%|█▏        | 12/100 [01:17<08:54,  6.07s/it]"
     ]
    },
    {
     "name": "stdout",
     "output_type": "stream",
     "text": [
      "epoch:11 train_loss:0.3212 valid_loss:0.2535 train_auc:0.6343 valid_auc:0.7344\n",
      "有進步\n"
     ]
    },
    {
     "name": "stderr",
     "output_type": "stream",
     "text": [
      " 13%|█▎        | 13/100 [01:22<08:40,  5.98s/it]"
     ]
    },
    {
     "name": "stdout",
     "output_type": "stream",
     "text": [
      "epoch:12 train_loss:0.3136 valid_loss:0.2452 train_auc:0.6457 valid_auc:0.7344\n",
      "有進步\n"
     ]
    },
    {
     "name": "stderr",
     "output_type": "stream",
     "text": [
      " 14%|█▍        | 14/100 [01:28<08:23,  5.86s/it]"
     ]
    },
    {
     "name": "stdout",
     "output_type": "stream",
     "text": [
      "epoch:13 train_loss:0.2987 valid_loss:0.2357 train_auc:0.6465 valid_auc:0.7422\n",
      "有進步\n"
     ]
    },
    {
     "name": "stderr",
     "output_type": "stream",
     "text": [
      " 15%|█▌        | 15/100 [01:34<08:19,  5.88s/it]"
     ]
    },
    {
     "name": "stdout",
     "output_type": "stream",
     "text": [
      "epoch:14 train_loss:0.2969 valid_loss:0.2268 train_auc:0.6664 valid_auc:0.7500\n",
      "有進步\n",
      "epoch:15 train_loss:0.2834 valid_loss:0.2194 train_auc:0.6752 valid_auc:0.7500\n",
      "有進步\n"
     ]
    },
    {
     "name": "stderr",
     "output_type": "stream",
     "text": [
      " 17%|█▋        | 17/100 [01:45<07:58,  5.76s/it]"
     ]
    },
    {
     "name": "stdout",
     "output_type": "stream",
     "text": [
      "epoch:16 train_loss:0.2765 valid_loss:0.2137 train_auc:0.6995 valid_auc:0.7578\n",
      "有進步\n"
     ]
    },
    {
     "name": "stderr",
     "output_type": "stream",
     "text": [
      " 18%|█▊        | 18/100 [01:51<07:45,  5.67s/it]"
     ]
    },
    {
     "name": "stdout",
     "output_type": "stream",
     "text": [
      "epoch:17 train_loss:0.2740 valid_loss:0.2070 train_auc:0.6892 valid_auc:0.7917\n",
      "有進步\n"
     ]
    },
    {
     "name": "stderr",
     "output_type": "stream",
     "text": [
      " 19%|█▉        | 19/100 [01:56<07:39,  5.67s/it]"
     ]
    },
    {
     "name": "stdout",
     "output_type": "stream",
     "text": [
      "epoch:18 train_loss:0.2650 valid_loss:0.2032 train_auc:0.7175 valid_auc:0.8151\n",
      "有進步\n"
     ]
    },
    {
     "name": "stderr",
     "output_type": "stream",
     "text": [
      " 20%|██        | 20/100 [02:02<07:36,  5.71s/it]"
     ]
    },
    {
     "name": "stdout",
     "output_type": "stream",
     "text": [
      "epoch:19 train_loss:0.2561 valid_loss:0.1918 train_auc:0.7401 valid_auc:0.8281\n",
      "有進步\n"
     ]
    },
    {
     "name": "stderr",
     "output_type": "stream",
     "text": [
      " 21%|██        | 21/100 [02:08<07:29,  5.69s/it]"
     ]
    },
    {
     "name": "stdout",
     "output_type": "stream",
     "text": [
      "epoch:20 train_loss:0.2560 valid_loss:0.1914 train_auc:0.7406 valid_auc:0.8203\n"
     ]
    },
    {
     "name": "stderr",
     "output_type": "stream",
     "text": [
      " 22%|██▏       | 22/100 [02:14<07:26,  5.72s/it]"
     ]
    },
    {
     "name": "stdout",
     "output_type": "stream",
     "text": [
      "epoch:21 train_loss:0.2494 valid_loss:0.1858 train_auc:0.7533 valid_auc:0.8203\n"
     ]
    },
    {
     "name": "stderr",
     "output_type": "stream",
     "text": [
      " 23%|██▎       | 23/100 [02:19<07:20,  5.72s/it]"
     ]
    },
    {
     "name": "stdout",
     "output_type": "stream",
     "text": [
      "epoch:22 train_loss:0.2424 valid_loss:0.1826 train_auc:0.7498 valid_auc:0.8438\n",
      "有進步\n"
     ]
    },
    {
     "name": "stderr",
     "output_type": "stream",
     "text": [
      " 24%|██▍       | 24/100 [02:25<07:09,  5.65s/it]"
     ]
    },
    {
     "name": "stdout",
     "output_type": "stream",
     "text": [
      "epoch:23 train_loss:0.2293 valid_loss:0.1761 train_auc:0.7781 valid_auc:0.8359\n"
     ]
    },
    {
     "name": "stderr",
     "output_type": "stream",
     "text": [
      " 25%|██▌       | 25/100 [02:31<07:05,  5.67s/it]"
     ]
    },
    {
     "name": "stdout",
     "output_type": "stream",
     "text": [
      "epoch:24 train_loss:0.2305 valid_loss:0.1691 train_auc:0.7721 valid_auc:0.8672\n",
      "有進步\n"
     ]
    },
    {
     "name": "stderr",
     "output_type": "stream",
     "text": [
      " 26%|██▌       | 26/100 [02:36<07:03,  5.72s/it]"
     ]
    },
    {
     "name": "stdout",
     "output_type": "stream",
     "text": [
      "epoch:25 train_loss:0.2289 valid_loss:0.1687 train_auc:0.7791 valid_auc:0.8438\n"
     ]
    },
    {
     "name": "stderr",
     "output_type": "stream",
     "text": [
      " 27%|██▋       | 27/100 [02:42<06:56,  5.70s/it]"
     ]
    },
    {
     "name": "stdout",
     "output_type": "stream",
     "text": [
      "epoch:26 train_loss:0.2179 valid_loss:0.1650 train_auc:0.7780 valid_auc:0.8516\n"
     ]
    },
    {
     "name": "stderr",
     "output_type": "stream",
     "text": [
      " 28%|██▊       | 28/100 [02:48<06:50,  5.71s/it]"
     ]
    },
    {
     "name": "stdout",
     "output_type": "stream",
     "text": [
      "epoch:27 train_loss:0.2182 valid_loss:0.1616 train_auc:0.8008 valid_auc:0.8594\n"
     ]
    },
    {
     "name": "stderr",
     "output_type": "stream",
     "text": [
      " 29%|██▉       | 29/100 [02:53<06:44,  5.69s/it]"
     ]
    },
    {
     "name": "stdout",
     "output_type": "stream",
     "text": [
      "epoch:28 train_loss:0.2189 valid_loss:0.1589 train_auc:0.8166 valid_auc:0.8516\n"
     ]
    },
    {
     "name": "stderr",
     "output_type": "stream",
     "text": [
      " 30%|███       | 30/100 [02:59<06:43,  5.77s/it]"
     ]
    },
    {
     "name": "stdout",
     "output_type": "stream",
     "text": [
      "epoch:29 train_loss:0.2092 valid_loss:0.1578 train_auc:0.7998 valid_auc:0.8854\n",
      "有進步\n"
     ]
    },
    {
     "name": "stderr",
     "output_type": "stream",
     "text": [
      " 31%|███       | 31/100 [03:05<06:32,  5.69s/it]"
     ]
    },
    {
     "name": "stdout",
     "output_type": "stream",
     "text": [
      "epoch:30 train_loss:0.2082 valid_loss:0.1532 train_auc:0.8182 valid_auc:0.8698\n"
     ]
    },
    {
     "name": "stderr",
     "output_type": "stream",
     "text": [
      " 32%|███▏      | 32/100 [03:11<06:27,  5.69s/it]"
     ]
    },
    {
     "name": "stdout",
     "output_type": "stream",
     "text": [
      "epoch:31 train_loss:0.2015 valid_loss:0.1527 train_auc:0.8068 valid_auc:0.8594\n"
     ]
    },
    {
     "name": "stderr",
     "output_type": "stream",
     "text": [
      " 33%|███▎      | 33/100 [03:18<06:47,  6.09s/it]"
     ]
    },
    {
     "name": "stdout",
     "output_type": "stream",
     "text": [
      "epoch:32 train_loss:0.2016 valid_loss:0.1491 train_auc:0.8136 valid_auc:0.8750\n"
     ]
    },
    {
     "name": "stderr",
     "output_type": "stream",
     "text": [
      " 34%|███▍      | 34/100 [03:23<06:36,  6.01s/it]"
     ]
    },
    {
     "name": "stdout",
     "output_type": "stream",
     "text": [
      "epoch:33 train_loss:0.1983 valid_loss:0.1449 train_auc:0.8403 valid_auc:0.8698\n"
     ]
    },
    {
     "name": "stderr",
     "output_type": "stream",
     "text": [
      " 35%|███▌      | 35/100 [03:29<06:24,  5.91s/it]"
     ]
    },
    {
     "name": "stdout",
     "output_type": "stream",
     "text": [
      "epoch:34 train_loss:0.1906 valid_loss:0.1403 train_auc:0.8241 valid_auc:0.8958\n",
      "有進步\n"
     ]
    },
    {
     "name": "stderr",
     "output_type": "stream",
     "text": [
      " 36%|███▌      | 36/100 [03:35<06:13,  5.83s/it]"
     ]
    },
    {
     "name": "stdout",
     "output_type": "stream",
     "text": [
      "epoch:35 train_loss:0.1915 valid_loss:0.1402 train_auc:0.8443 valid_auc:0.8750\n"
     ]
    },
    {
     "name": "stderr",
     "output_type": "stream",
     "text": [
      " 37%|███▋      | 37/100 [03:40<06:03,  5.78s/it]"
     ]
    },
    {
     "name": "stdout",
     "output_type": "stream",
     "text": [
      "epoch:36 train_loss:0.1849 valid_loss:0.1394 train_auc:0.8261 valid_auc:0.9036\n",
      "有進步\n"
     ]
    },
    {
     "name": "stderr",
     "output_type": "stream",
     "text": [
      " 38%|███▊      | 38/100 [03:46<05:59,  5.79s/it]"
     ]
    },
    {
     "name": "stdout",
     "output_type": "stream",
     "text": [
      "epoch:37 train_loss:0.1815 valid_loss:0.1364 train_auc:0.8535 valid_auc:0.8880\n"
     ]
    },
    {
     "name": "stderr",
     "output_type": "stream",
     "text": [
      " 39%|███▉      | 39/100 [03:52<05:50,  5.74s/it]"
     ]
    },
    {
     "name": "stdout",
     "output_type": "stream",
     "text": [
      "epoch:38 train_loss:0.1780 valid_loss:0.1426 train_auc:0.8430 valid_auc:0.8385\n"
     ]
    },
    {
     "name": "stderr",
     "output_type": "stream",
     "text": [
      " 40%|████      | 40/100 [03:57<05:41,  5.70s/it]"
     ]
    },
    {
     "name": "stdout",
     "output_type": "stream",
     "text": [
      "epoch:39 train_loss:0.1768 valid_loss:0.1324 train_auc:0.8531 valid_auc:0.8854\n"
     ]
    },
    {
     "name": "stderr",
     "output_type": "stream",
     "text": [
      " 41%|████      | 41/100 [04:03<05:41,  5.79s/it]"
     ]
    },
    {
     "name": "stdout",
     "output_type": "stream",
     "text": [
      "epoch:40 train_loss:0.1772 valid_loss:0.1393 train_auc:0.8506 valid_auc:0.8672\n"
     ]
    },
    {
     "name": "stderr",
     "output_type": "stream",
     "text": [
      " 42%|████▏     | 42/100 [04:09<05:34,  5.76s/it]"
     ]
    },
    {
     "name": "stdout",
     "output_type": "stream",
     "text": [
      "epoch:41 train_loss:0.1760 valid_loss:0.1237 train_auc:0.8590 valid_auc:0.9115\n",
      "有進步\n"
     ]
    },
    {
     "name": "stderr",
     "output_type": "stream",
     "text": [
      " 43%|████▎     | 43/100 [04:15<05:27,  5.74s/it]"
     ]
    },
    {
     "name": "stdout",
     "output_type": "stream",
     "text": [
      "epoch:42 train_loss:0.1687 valid_loss:0.1216 train_auc:0.8609 valid_auc:0.9062\n"
     ]
    },
    {
     "name": "stderr",
     "output_type": "stream",
     "text": [
      " 44%|████▍     | 44/100 [04:21<05:24,  5.80s/it]"
     ]
    },
    {
     "name": "stdout",
     "output_type": "stream",
     "text": [
      "epoch:43 train_loss:0.1643 valid_loss:0.1211 train_auc:0.8660 valid_auc:0.8776\n"
     ]
    },
    {
     "name": "stderr",
     "output_type": "stream",
     "text": [
      " 45%|████▌     | 45/100 [04:27<05:22,  5.87s/it]"
     ]
    },
    {
     "name": "stdout",
     "output_type": "stream",
     "text": [
      "epoch:44 train_loss:0.1645 valid_loss:0.1212 train_auc:0.8722 valid_auc:0.8880\n"
     ]
    },
    {
     "name": "stderr",
     "output_type": "stream",
     "text": [
      " 46%|████▌     | 46/100 [04:33<05:20,  5.93s/it]"
     ]
    },
    {
     "name": "stdout",
     "output_type": "stream",
     "text": [
      "epoch:45 train_loss:0.1593 valid_loss:0.1223 train_auc:0.8785 valid_auc:0.8958\n"
     ]
    },
    {
     "name": "stderr",
     "output_type": "stream",
     "text": [
      " 47%|████▋     | 47/100 [04:39<05:10,  5.85s/it]"
     ]
    },
    {
     "name": "stdout",
     "output_type": "stream",
     "text": [
      "epoch:46 train_loss:0.1522 valid_loss:0.1205 train_auc:0.8814 valid_auc:0.8958\n"
     ]
    },
    {
     "name": "stderr",
     "output_type": "stream",
     "text": [
      " 48%|████▊     | 48/100 [04:44<05:02,  5.81s/it]"
     ]
    },
    {
     "name": "stdout",
     "output_type": "stream",
     "text": [
      "epoch:47 train_loss:0.1538 valid_loss:0.1199 train_auc:0.8884 valid_auc:0.8880\n"
     ]
    },
    {
     "name": "stderr",
     "output_type": "stream",
     "text": [
      " 49%|████▉     | 49/100 [04:50<04:54,  5.77s/it]"
     ]
    },
    {
     "name": "stdout",
     "output_type": "stream",
     "text": [
      "epoch:48 train_loss:0.1532 valid_loss:0.1142 train_auc:0.8958 valid_auc:0.8984\n"
     ]
    },
    {
     "name": "stderr",
     "output_type": "stream",
     "text": [
      " 50%|█████     | 50/100 [04:56<04:45,  5.72s/it]"
     ]
    },
    {
     "name": "stdout",
     "output_type": "stream",
     "text": [
      "epoch:49 train_loss:0.1495 valid_loss:0.1131 train_auc:0.8866 valid_auc:0.8776\n"
     ]
    },
    {
     "name": "stderr",
     "output_type": "stream",
     "text": [
      " 51%|█████     | 51/100 [05:01<04:41,  5.75s/it]"
     ]
    },
    {
     "name": "stdout",
     "output_type": "stream",
     "text": [
      "epoch:50 train_loss:0.1463 valid_loss:0.1117 train_auc:0.8961 valid_auc:0.8802\n"
     ]
    },
    {
     "name": "stderr",
     "output_type": "stream",
     "text": [
      " 52%|█████▏    | 52/100 [05:07<04:37,  5.78s/it]"
     ]
    },
    {
     "name": "stdout",
     "output_type": "stream",
     "text": [
      "epoch:51 train_loss:0.1444 valid_loss:0.1170 train_auc:0.8939 valid_auc:0.8880\n"
     ]
    },
    {
     "name": "stderr",
     "output_type": "stream",
     "text": [
      " 53%|█████▎    | 53/100 [05:13<04:31,  5.78s/it]"
     ]
    },
    {
     "name": "stdout",
     "output_type": "stream",
     "text": [
      "epoch:52 train_loss:0.1448 valid_loss:0.1081 train_auc:0.9044 valid_auc:0.9062\n"
     ]
    },
    {
     "name": "stderr",
     "output_type": "stream",
     "text": [
      " 54%|█████▍    | 54/100 [05:20<04:44,  6.19s/it]"
     ]
    },
    {
     "name": "stdout",
     "output_type": "stream",
     "text": [
      "epoch:53 train_loss:0.1368 valid_loss:0.1081 train_auc:0.9123 valid_auc:0.8932\n"
     ]
    },
    {
     "name": "stderr",
     "output_type": "stream",
     "text": [
      " 55%|█████▌    | 55/100 [05:26<04:34,  6.10s/it]"
     ]
    },
    {
     "name": "stdout",
     "output_type": "stream",
     "text": [
      "epoch:54 train_loss:0.1330 valid_loss:0.1069 train_auc:0.8875 valid_auc:0.8958\n",
      "epoch:55 train_loss:0.1337 valid_loss:0.1075 train_auc:0.8982 valid_auc:0.9115\n",
      "有進步\n"
     ]
    },
    {
     "name": "stderr",
     "output_type": "stream",
     "text": [
      " 57%|█████▋    | 57/100 [05:37<04:13,  5.90s/it]"
     ]
    },
    {
     "name": "stdout",
     "output_type": "stream",
     "text": [
      "epoch:56 train_loss:0.1318 valid_loss:0.1122 train_auc:0.9041 valid_auc:0.8958\n"
     ]
    },
    {
     "name": "stderr",
     "output_type": "stream",
     "text": [
      " 58%|█████▊    | 58/100 [05:43<04:03,  5.80s/it]"
     ]
    },
    {
     "name": "stdout",
     "output_type": "stream",
     "text": [
      "epoch:57 train_loss:0.1296 valid_loss:0.1078 train_auc:0.9096 valid_auc:0.8932\n"
     ]
    },
    {
     "name": "stderr",
     "output_type": "stream",
     "text": [
      " 59%|█████▉    | 59/100 [05:49<03:56,  5.78s/it]"
     ]
    },
    {
     "name": "stdout",
     "output_type": "stream",
     "text": [
      "epoch:58 train_loss:0.1274 valid_loss:0.1057 train_auc:0.9114 valid_auc:0.8958\n"
     ]
    },
    {
     "name": "stderr",
     "output_type": "stream",
     "text": [
      " 60%|██████    | 60/100 [05:54<03:48,  5.71s/it]"
     ]
    },
    {
     "name": "stdout",
     "output_type": "stream",
     "text": [
      "epoch:59 train_loss:0.1269 valid_loss:0.0997 train_auc:0.9108 valid_auc:0.9010\n"
     ]
    },
    {
     "name": "stderr",
     "output_type": "stream",
     "text": [
      " 61%|██████    | 61/100 [06:00<03:43,  5.73s/it]"
     ]
    },
    {
     "name": "stdout",
     "output_type": "stream",
     "text": [
      "epoch:60 train_loss:0.1247 valid_loss:0.1024 train_auc:0.9289 valid_auc:0.8958\n"
     ]
    },
    {
     "name": "stderr",
     "output_type": "stream",
     "text": [
      " 62%|██████▏   | 62/100 [06:06<03:38,  5.76s/it]"
     ]
    },
    {
     "name": "stdout",
     "output_type": "stream",
     "text": [
      "epoch:61 train_loss:0.1189 valid_loss:0.1036 train_auc:0.9279 valid_auc:0.9036\n"
     ]
    },
    {
     "name": "stderr",
     "output_type": "stream",
     "text": [
      " 63%|██████▎   | 63/100 [06:12<03:31,  5.72s/it]"
     ]
    },
    {
     "name": "stdout",
     "output_type": "stream",
     "text": [
      "epoch:62 train_loss:0.1194 valid_loss:0.1035 train_auc:0.9239 valid_auc:0.8880\n"
     ]
    },
    {
     "name": "stderr",
     "output_type": "stream",
     "text": [
      " 64%|██████▍   | 64/100 [06:17<03:25,  5.72s/it]"
     ]
    },
    {
     "name": "stdout",
     "output_type": "stream",
     "text": [
      "epoch:63 train_loss:0.1195 valid_loss:0.1009 train_auc:0.9243 valid_auc:0.9115\n",
      "有進步\n"
     ]
    },
    {
     "name": "stderr",
     "output_type": "stream",
     "text": [
      " 65%|██████▌   | 65/100 [06:23<03:21,  5.76s/it]"
     ]
    },
    {
     "name": "stdout",
     "output_type": "stream",
     "text": [
      "epoch:64 train_loss:0.1144 valid_loss:0.1049 train_auc:0.9283 valid_auc:0.8932\n"
     ]
    },
    {
     "name": "stderr",
     "output_type": "stream",
     "text": [
      " 66%|██████▌   | 66/100 [06:29<03:13,  5.70s/it]"
     ]
    },
    {
     "name": "stdout",
     "output_type": "stream",
     "text": [
      "epoch:65 train_loss:0.1136 valid_loss:0.1055 train_auc:0.9276 valid_auc:0.8958\n"
     ]
    },
    {
     "name": "stderr",
     "output_type": "stream",
     "text": [
      " 67%|██████▋   | 67/100 [06:34<03:06,  5.64s/it]"
     ]
    },
    {
     "name": "stdout",
     "output_type": "stream",
     "text": [
      "epoch:66 train_loss:0.1113 valid_loss:0.1016 train_auc:0.9393 valid_auc:0.8958\n"
     ]
    },
    {
     "name": "stderr",
     "output_type": "stream",
     "text": [
      " 68%|██████▊   | 68/100 [06:40<03:00,  5.64s/it]"
     ]
    },
    {
     "name": "stdout",
     "output_type": "stream",
     "text": [
      "epoch:67 train_loss:0.1078 valid_loss:0.0922 train_auc:0.9430 valid_auc:0.9036\n"
     ]
    },
    {
     "name": "stderr",
     "output_type": "stream",
     "text": [
      " 69%|██████▉   | 69/100 [06:46<02:55,  5.66s/it]"
     ]
    },
    {
     "name": "stdout",
     "output_type": "stream",
     "text": [
      "epoch:68 train_loss:0.1078 valid_loss:0.0918 train_auc:0.9430 valid_auc:0.9245\n",
      "有進步\n"
     ]
    },
    {
     "name": "stderr",
     "output_type": "stream",
     "text": [
      " 70%|███████   | 70/100 [06:51<02:49,  5.65s/it]"
     ]
    },
    {
     "name": "stdout",
     "output_type": "stream",
     "text": [
      "epoch:69 train_loss:0.1068 valid_loss:0.1025 train_auc:0.9393 valid_auc:0.8880\n"
     ]
    },
    {
     "name": "stderr",
     "output_type": "stream",
     "text": [
      " 71%|███████   | 71/100 [06:57<02:45,  5.71s/it]"
     ]
    },
    {
     "name": "stdout",
     "output_type": "stream",
     "text": [
      "epoch:70 train_loss:0.1034 valid_loss:0.0970 train_auc:0.9485 valid_auc:0.9036\n"
     ]
    },
    {
     "name": "stderr",
     "output_type": "stream",
     "text": [
      " 72%|███████▏  | 72/100 [07:03<02:40,  5.73s/it]"
     ]
    },
    {
     "name": "stdout",
     "output_type": "stream",
     "text": [
      "epoch:71 train_loss:0.1016 valid_loss:0.0962 train_auc:0.9491 valid_auc:0.8958\n"
     ]
    },
    {
     "name": "stderr",
     "output_type": "stream",
     "text": [
      " 73%|███████▎  | 73/100 [07:08<02:33,  5.68s/it]"
     ]
    },
    {
     "name": "stdout",
     "output_type": "stream",
     "text": [
      "epoch:72 train_loss:0.0971 valid_loss:0.0979 train_auc:0.9445 valid_auc:0.8776\n"
     ]
    },
    {
     "name": "stderr",
     "output_type": "stream",
     "text": [
      " 74%|███████▍  | 74/100 [07:14<02:26,  5.64s/it]"
     ]
    },
    {
     "name": "stdout",
     "output_type": "stream",
     "text": [
      "epoch:73 train_loss:0.1000 valid_loss:0.0910 train_auc:0.9491 valid_auc:0.8958\n"
     ]
    },
    {
     "name": "stderr",
     "output_type": "stream",
     "text": [
      " 75%|███████▌  | 75/100 [07:21<02:30,  6.01s/it]"
     ]
    },
    {
     "name": "stdout",
     "output_type": "stream",
     "text": [
      "epoch:74 train_loss:0.0968 valid_loss:0.1010 train_auc:0.9513 valid_auc:0.8880\n"
     ]
    },
    {
     "name": "stderr",
     "output_type": "stream",
     "text": [
      " 76%|███████▌  | 76/100 [07:27<02:25,  6.05s/it]"
     ]
    },
    {
     "name": "stdout",
     "output_type": "stream",
     "text": [
      "epoch:75 train_loss:0.0970 valid_loss:0.0899 train_auc:0.9509 valid_auc:0.8958\n"
     ]
    },
    {
     "name": "stderr",
     "output_type": "stream",
     "text": [
      " 77%|███████▋  | 77/100 [07:33<02:16,  5.95s/it]"
     ]
    },
    {
     "name": "stdout",
     "output_type": "stream",
     "text": [
      "epoch:76 train_loss:0.0903 valid_loss:0.0857 train_auc:0.9550 valid_auc:0.9115\n"
     ]
    },
    {
     "name": "stderr",
     "output_type": "stream",
     "text": [
      " 78%|███████▊  | 78/100 [07:38<02:08,  5.86s/it]"
     ]
    },
    {
     "name": "stdout",
     "output_type": "stream",
     "text": [
      "epoch:77 train_loss:0.0918 valid_loss:0.0950 train_auc:0.9577 valid_auc:0.9115\n"
     ]
    },
    {
     "name": "stderr",
     "output_type": "stream",
     "text": [
      " 79%|███████▉  | 79/100 [07:44<02:02,  5.81s/it]"
     ]
    },
    {
     "name": "stdout",
     "output_type": "stream",
     "text": [
      "epoch:78 train_loss:0.0882 valid_loss:0.1063 train_auc:0.9583 valid_auc:0.8620\n"
     ]
    },
    {
     "name": "stderr",
     "output_type": "stream",
     "text": [
      " 80%|████████  | 80/100 [07:50<01:56,  5.84s/it]"
     ]
    },
    {
     "name": "stdout",
     "output_type": "stream",
     "text": [
      "epoch:79 train_loss:0.0864 valid_loss:0.0941 train_auc:0.9706 valid_auc:0.8776\n"
     ]
    },
    {
     "name": "stderr",
     "output_type": "stream",
     "text": [
      " 81%|████████  | 81/100 [07:56<01:51,  5.87s/it]"
     ]
    },
    {
     "name": "stdout",
     "output_type": "stream",
     "text": [
      "epoch:80 train_loss:0.0842 valid_loss:0.0857 train_auc:0.9642 valid_auc:0.9193\n"
     ]
    },
    {
     "name": "stderr",
     "output_type": "stream",
     "text": [
      " 82%|████████▏ | 82/100 [08:01<01:44,  5.80s/it]"
     ]
    },
    {
     "name": "stdout",
     "output_type": "stream",
     "text": [
      "epoch:81 train_loss:0.0835 valid_loss:0.1010 train_auc:0.9666 valid_auc:0.9062\n"
     ]
    },
    {
     "name": "stderr",
     "output_type": "stream",
     "text": [
      " 83%|████████▎ | 83/100 [08:07<01:37,  5.76s/it]"
     ]
    },
    {
     "name": "stdout",
     "output_type": "stream",
     "text": [
      "epoch:82 train_loss:0.0849 valid_loss:0.0965 train_auc:0.9642 valid_auc:0.8958\n"
     ]
    },
    {
     "name": "stderr",
     "output_type": "stream",
     "text": [
      " 84%|████████▍ | 84/100 [08:13<01:31,  5.72s/it]"
     ]
    },
    {
     "name": "stdout",
     "output_type": "stream",
     "text": [
      "epoch:83 train_loss:0.0786 valid_loss:0.0899 train_auc:0.9675 valid_auc:0.8880\n"
     ]
    },
    {
     "name": "stderr",
     "output_type": "stream",
     "text": [
      " 85%|████████▌ | 85/100 [08:18<01:25,  5.71s/it]"
     ]
    },
    {
     "name": "stdout",
     "output_type": "stream",
     "text": [
      "epoch:84 train_loss:0.0772 valid_loss:0.0900 train_auc:0.9761 valid_auc:0.8984\n"
     ]
    },
    {
     "name": "stderr",
     "output_type": "stream",
     "text": [
      " 86%|████████▌ | 86/100 [08:25<01:21,  5.84s/it]"
     ]
    },
    {
     "name": "stdout",
     "output_type": "stream",
     "text": [
      "epoch:85 train_loss:0.0789 valid_loss:0.0848 train_auc:0.9693 valid_auc:0.8958\n"
     ]
    },
    {
     "name": "stderr",
     "output_type": "stream",
     "text": [
      " 87%|████████▋ | 87/100 [08:30<01:15,  5.82s/it]"
     ]
    },
    {
     "name": "stdout",
     "output_type": "stream",
     "text": [
      "epoch:86 train_loss:0.0773 valid_loss:0.0881 train_auc:0.9688 valid_auc:0.8854\n"
     ]
    },
    {
     "name": "stderr",
     "output_type": "stream",
     "text": [
      " 88%|████████▊ | 88/100 [08:36<01:09,  5.80s/it]"
     ]
    },
    {
     "name": "stdout",
     "output_type": "stream",
     "text": [
      "epoch:87 train_loss:0.0755 valid_loss:0.0893 train_auc:0.9693 valid_auc:0.8984\n"
     ]
    },
    {
     "name": "stderr",
     "output_type": "stream",
     "text": [
      " 89%|████████▉ | 89/100 [08:42<01:03,  5.79s/it]"
     ]
    },
    {
     "name": "stdout",
     "output_type": "stream",
     "text": [
      "epoch:88 train_loss:0.0702 valid_loss:0.0883 train_auc:0.9767 valid_auc:0.8906\n"
     ]
    },
    {
     "name": "stderr",
     "output_type": "stream",
     "text": [
      " 90%|█████████ | 90/100 [08:48<00:58,  5.85s/it]"
     ]
    },
    {
     "name": "stdout",
     "output_type": "stream",
     "text": [
      "epoch:89 train_loss:0.0723 valid_loss:0.1038 train_auc:0.9816 valid_auc:0.8542\n"
     ]
    },
    {
     "name": "stderr",
     "output_type": "stream",
     "text": [
      " 91%|█████████ | 91/100 [08:54<00:52,  5.82s/it]"
     ]
    },
    {
     "name": "stdout",
     "output_type": "stream",
     "text": [
      "epoch:90 train_loss:0.0684 valid_loss:0.0856 train_auc:0.9789 valid_auc:0.8932\n"
     ]
    },
    {
     "name": "stderr",
     "output_type": "stream",
     "text": [
      " 92%|█████████▏| 92/100 [08:59<00:46,  5.83s/it]"
     ]
    },
    {
     "name": "stdout",
     "output_type": "stream",
     "text": [
      "epoch:91 train_loss:0.0675 valid_loss:0.0943 train_auc:0.9761 valid_auc:0.8906\n",
      "epoch:92 train_loss:0.0640 valid_loss:0.0851 train_auc:0.9789 valid_auc:0.9062\n"
     ]
    },
    {
     "name": "stderr",
     "output_type": "stream",
     "text": [
      " 94%|█████████▍| 94/100 [09:11<00:34,  5.75s/it]"
     ]
    },
    {
     "name": "stdout",
     "output_type": "stream",
     "text": [
      "epoch:93 train_loss:0.0674 valid_loss:0.0965 train_auc:0.9807 valid_auc:0.8802\n",
      "epoch:94 train_loss:0.0678 valid_loss:0.0796 train_auc:0.9853 valid_auc:0.9297\n",
      "有進步\n"
     ]
    },
    {
     "name": "stderr",
     "output_type": "stream",
     "text": [
      " 95%|█████████▌| 95/100 [09:17<00:28,  5.78s/it]"
     ]
    },
    {
     "name": "stdout",
     "output_type": "stream",
     "text": [
      "epoch:95 train_loss:0.0685 valid_loss:0.0981 train_auc:0.9798 valid_auc:0.9010\n"
     ]
    },
    {
     "name": "stderr",
     "output_type": "stream",
     "text": [
      " 97%|█████████▋| 97/100 [09:29<00:17,  5.99s/it]"
     ]
    },
    {
     "name": "stdout",
     "output_type": "stream",
     "text": [
      "epoch:96 train_loss:0.0625 valid_loss:0.0870 train_auc:0.9798 valid_auc:0.8958\n"
     ]
    },
    {
     "name": "stderr",
     "output_type": "stream",
     "text": [
      " 98%|█████████▊| 98/100 [09:35<00:11,  5.94s/it]"
     ]
    },
    {
     "name": "stdout",
     "output_type": "stream",
     "text": [
      "epoch:97 train_loss:0.0626 valid_loss:0.0779 train_auc:0.9835 valid_auc:0.9297\n",
      "有進步\n"
     ]
    },
    {
     "name": "stderr",
     "output_type": "stream",
     "text": [
      " 99%|█████████▉| 99/100 [09:41<00:05,  5.90s/it]"
     ]
    },
    {
     "name": "stdout",
     "output_type": "stream",
     "text": [
      "epoch:98 train_loss:0.0593 valid_loss:0.0847 train_auc:0.9798 valid_auc:0.8984\n"
     ]
    },
    {
     "name": "stderr",
     "output_type": "stream",
     "text": [
      "100%|██████████| 100/100 [09:46<00:00,  5.87s/it]"
     ]
    },
    {
     "name": "stdout",
     "output_type": "stream",
     "text": [
      "epoch:99 train_loss:0.0583 valid_loss:0.0779 train_auc:0.9853 valid_auc:0.9062\n"
     ]
    },
    {
     "name": "stderr",
     "output_type": "stream",
     "text": [
      "\n"
     ]
    },
    {
     "data": {
      "image/png": "[encoded data removed]",
      "text/plain": [
       "<Figure size 432x288 with 1 Axes>"
      ]
     },
     "metadata": {
      "needs_background": "light"
     },
     "output_type": "display_data"
    },
    {
     "data": {
      "image/png": "[encoded data removed]",
      "text/plain": [
       "<Figure size 432x288 with 1 Axes>"
      ]
     },
     "metadata": {
      "needs_background": "light"
     },
     "output_type": "display_data"
    }
   ],
   "source": [
    "model = train(model,train_iter,vaild_iter,optimizer,loss_fn,max_epochs=100,log_interval=1,device=device)"
   ]
  },
  {
   "cell_type": "markdown",
   "metadata": {},
   "source": [
    "# model infernce test"
   ]
  },
  {
   "cell_type": "code",
   "execution_count": 15,
   "metadata": {},
   "outputs": [
    {
     "name": "stderr",
     "output_type": "stream",
     "text": [
      "100%|██████████| 34/34 [00:02<00:00, 15.61it/s]"
     ]
    },
    {
     "name": "stdout",
     "output_type": "stream",
     "text": [
      "0.9684893419833179\n"
     ]
    },
    {
     "name": "stderr",
     "output_type": "stream",
     "text": [
      "\n"
     ]
    },
    {
     "data": {
      "text/html": [
       "<div>\n",
       "<style scoped>\n",
       "    .dataframe tbody tr th:only-of-type {\n",
       "        vertical-align: middle;\n",
       "    }\n",
       "\n",
       "    .dataframe tbody tr th {\n",
       "        vertical-align: top;\n",
       "    }\n",
       "\n",
       "    .dataframe thead th {\n",
       "        text-align: right;\n",
       "    }\n",
       "</style>\n",
       "<table border=\"1\" class=\"dataframe\">\n",
       "  <thead>\n",
       "    <tr style=\"text-align: right;\">\n",
       "      <th></th>\n",
       "      <th>Barking</th>\n",
       "      <th>Howling</th>\n",
       "      <th>Crying</th>\n",
       "      <th>COSmoke</th>\n",
       "      <th>GlassBreaking</th>\n",
       "      <th>Dishes</th>\n",
       "    </tr>\n",
       "  </thead>\n",
       "  <tbody>\n",
       "    <tr>\n",
       "      <th>0</th>\n",
       "      <td>170</td>\n",
       "      <td>5</td>\n",
       "      <td>1</td>\n",
       "      <td>1</td>\n",
       "      <td>0</td>\n",
       "      <td>1</td>\n",
       "    </tr>\n",
       "    <tr>\n",
       "      <th>1</th>\n",
       "      <td>2</td>\n",
       "      <td>169</td>\n",
       "      <td>5</td>\n",
       "      <td>0</td>\n",
       "      <td>0</td>\n",
       "      <td>0</td>\n",
       "    </tr>\n",
       "    <tr>\n",
       "      <th>2</th>\n",
       "      <td>5</td>\n",
       "      <td>4</td>\n",
       "      <td>173</td>\n",
       "      <td>1</td>\n",
       "      <td>0</td>\n",
       "      <td>2</td>\n",
       "    </tr>\n",
       "    <tr>\n",
       "      <th>3</th>\n",
       "      <td>1</td>\n",
       "      <td>0</td>\n",
       "      <td>0</td>\n",
       "      <td>177</td>\n",
       "      <td>0</td>\n",
       "      <td>0</td>\n",
       "    </tr>\n",
       "    <tr>\n",
       "      <th>4</th>\n",
       "      <td>1</td>\n",
       "      <td>0</td>\n",
       "      <td>0</td>\n",
       "      <td>0</td>\n",
       "      <td>179</td>\n",
       "      <td>0</td>\n",
       "    </tr>\n",
       "    <tr>\n",
       "      <th>5</th>\n",
       "      <td>1</td>\n",
       "      <td>2</td>\n",
       "      <td>1</td>\n",
       "      <td>1</td>\n",
       "      <td>0</td>\n",
       "      <td>177</td>\n",
       "    </tr>\n",
       "  </tbody>\n",
       "</table>\n",
       "</div>"
      ],
      "text/plain": [
       "   Barking  Howling  Crying  COSmoke  GlassBreaking  Dishes\n",
       "0      170        5       1        1              0       1\n",
       "1        2      169       5        0              0       0\n",
       "2        5        4     173        1              0       2\n",
       "3        1        0       0      177              0       0\n",
       "4        1        0       0        0            179       0\n",
       "5        1        2       1        1              0     177"
      ]
     },
     "execution_count": 15,
     "metadata": {},
     "output_type": "execute_result"
    }
   ],
   "source": [
    "model.eval()\n",
    "cm,acc = plot_confusion_matrix(model.to(device),train_iter)\n",
    "print(acc)\n",
    "cm"
   ]
  },
  {
   "cell_type": "code",
   "execution_count": 16,
   "metadata": {},
   "outputs": [
    {
     "name": "stderr",
     "output_type": "stream",
     "text": [
      "100%|██████████| 4/4 [00:01<00:00,  3.52it/s]"
     ]
    },
    {
     "name": "stdout",
     "output_type": "stream",
     "text": [
      "0.9333333333333333\n"
     ]
    },
    {
     "name": "stderr",
     "output_type": "stream",
     "text": [
      "\n"
     ]
    },
    {
     "data": {
      "text/html": [
       "<div>\n",
       "<style scoped>\n",
       "    .dataframe tbody tr th:only-of-type {\n",
       "        vertical-align: middle;\n",
       "    }\n",
       "\n",
       "    .dataframe tbody tr th {\n",
       "        vertical-align: top;\n",
       "    }\n",
       "\n",
       "    .dataframe thead th {\n",
       "        text-align: right;\n",
       "    }\n",
       "</style>\n",
       "<table border=\"1\" class=\"dataframe\">\n",
       "  <thead>\n",
       "    <tr style=\"text-align: right;\">\n",
       "      <th></th>\n",
       "      <th>Barking</th>\n",
       "      <th>Howling</th>\n",
       "      <th>Crying</th>\n",
       "      <th>COSmoke</th>\n",
       "      <th>GlassBreaking</th>\n",
       "      <th>Dishes</th>\n",
       "    </tr>\n",
       "  </thead>\n",
       "  <tbody>\n",
       "    <tr>\n",
       "      <th>0</th>\n",
       "      <td>18</td>\n",
       "      <td>1</td>\n",
       "      <td>0</td>\n",
       "      <td>1</td>\n",
       "      <td>0</td>\n",
       "      <td>0</td>\n",
       "    </tr>\n",
       "    <tr>\n",
       "      <th>1</th>\n",
       "      <td>0</td>\n",
       "      <td>17</td>\n",
       "      <td>1</td>\n",
       "      <td>0</td>\n",
       "      <td>0</td>\n",
       "      <td>1</td>\n",
       "    </tr>\n",
       "    <tr>\n",
       "      <th>2</th>\n",
       "      <td>1</td>\n",
       "      <td>1</td>\n",
       "      <td>19</td>\n",
       "      <td>0</td>\n",
       "      <td>0</td>\n",
       "      <td>0</td>\n",
       "    </tr>\n",
       "    <tr>\n",
       "      <th>3</th>\n",
       "      <td>1</td>\n",
       "      <td>0</td>\n",
       "      <td>0</td>\n",
       "      <td>19</td>\n",
       "      <td>0</td>\n",
       "      <td>0</td>\n",
       "    </tr>\n",
       "    <tr>\n",
       "      <th>4</th>\n",
       "      <td>0</td>\n",
       "      <td>0</td>\n",
       "      <td>0</td>\n",
       "      <td>0</td>\n",
       "      <td>20</td>\n",
       "      <td>0</td>\n",
       "    </tr>\n",
       "    <tr>\n",
       "      <th>5</th>\n",
       "      <td>0</td>\n",
       "      <td>1</td>\n",
       "      <td>0</td>\n",
       "      <td>0</td>\n",
       "      <td>0</td>\n",
       "      <td>19</td>\n",
       "    </tr>\n",
       "  </tbody>\n",
       "</table>\n",
       "</div>"
      ],
      "text/plain": [
       "   Barking  Howling  Crying  COSmoke  GlassBreaking  Dishes\n",
       "0       18        1       0        1              0       0\n",
       "1        0       17       1        0              0       1\n",
       "2        1        1      19        0              0       0\n",
       "3        1        0       0       19              0       0\n",
       "4        0        0       0        0             20       0\n",
       "5        0        1       0        0              0      19"
      ]
     },
     "execution_count": 16,
     "metadata": {},
     "output_type": "execute_result"
    }
   ],
   "source": [
    "cm,acc = plot_confusion_matrix(model.to(device),vaild_iter)\n",
    "print(acc)\n",
    "cm"
   ]
  },
  {
   "cell_type": "markdown",
   "metadata": {},
   "source": [
    "# submit"
   ]
  },
  {
   "cell_type": "code",
   "execution_count": 17,
   "metadata": {},
   "outputs": [
    {
     "name": "stdout",
     "output_type": "stream",
     "text": [
      "10000\n"
     ]
    }
   ],
   "source": [
    "print(X_test.shape[0])"
   ]
  },
  {
   "cell_type": "code",
   "execution_count": 18,
   "metadata": {},
   "outputs": [
    {
     "name": "stderr",
     "output_type": "stream",
     "text": [
      "100%|██████████| 100/100 [00:03<00:00, 25.17it/s]\n"
     ]
    },
    {
     "data": {
      "text/html": [
       "<div>\n",
       "<style scoped>\n",
       "    .dataframe tbody tr th:only-of-type {\n",
       "        vertical-align: middle;\n",
       "    }\n",
       "\n",
       "    .dataframe tbody tr th {\n",
       "        vertical-align: top;\n",
       "    }\n",
       "\n",
       "    .dataframe thead th {\n",
       "        text-align: right;\n",
       "    }\n",
       "</style>\n",
       "<table border=\"1\" class=\"dataframe\">\n",
       "  <thead>\n",
       "    <tr style=\"text-align: right;\">\n",
       "      <th></th>\n",
       "      <th>Filename</th>\n",
       "      <th>Barking</th>\n",
       "      <th>Howling</th>\n",
       "      <th>Crying</th>\n",
       "      <th>COSmoke</th>\n",
       "      <th>GlassBreaking</th>\n",
       "      <th>Other</th>\n",
       "    </tr>\n",
       "  </thead>\n",
       "  <tbody>\n",
       "    <tr>\n",
       "      <th>0</th>\n",
       "      <td>public_00001</td>\n",
       "      <td>-4.589404</td>\n",
       "      <td>-7.103025</td>\n",
       "      <td>-5.449708</td>\n",
       "      <td>-7.272630</td>\n",
       "      <td>-5.890907</td>\n",
       "      <td>3.474462</td>\n",
       "    </tr>\n",
       "    <tr>\n",
       "      <th>1</th>\n",
       "      <td>public_00002</td>\n",
       "      <td>-3.237309</td>\n",
       "      <td>-5.631329</td>\n",
       "      <td>-6.532974</td>\n",
       "      <td>-5.641322</td>\n",
       "      <td>-6.938568</td>\n",
       "      <td>3.150492</td>\n",
       "    </tr>\n",
       "    <tr>\n",
       "      <th>2</th>\n",
       "      <td>public_00003</td>\n",
       "      <td>1.617429</td>\n",
       "      <td>-3.309885</td>\n",
       "      <td>-5.771729</td>\n",
       "      <td>-3.733042</td>\n",
       "      <td>-4.878004</td>\n",
       "      <td>-4.212007</td>\n",
       "    </tr>\n",
       "    <tr>\n",
       "      <th>3</th>\n",
       "      <td>public_00004</td>\n",
       "      <td>-3.209992</td>\n",
       "      <td>-7.340166</td>\n",
       "      <td>-4.773160</td>\n",
       "      <td>-6.267713</td>\n",
       "      <td>-3.775096</td>\n",
       "      <td>1.359558</td>\n",
       "    </tr>\n",
       "    <tr>\n",
       "      <th>4</th>\n",
       "      <td>public_00005</td>\n",
       "      <td>-2.450636</td>\n",
       "      <td>-2.718092</td>\n",
       "      <td>0.419123</td>\n",
       "      <td>-2.947644</td>\n",
       "      <td>-2.521025</td>\n",
       "      <td>-4.369037</td>\n",
       "    </tr>\n",
       "    <tr>\n",
       "      <th>...</th>\n",
       "      <td>...</td>\n",
       "      <td>...</td>\n",
       "      <td>...</td>\n",
       "      <td>...</td>\n",
       "      <td>...</td>\n",
       "      <td>...</td>\n",
       "      <td>...</td>\n",
       "    </tr>\n",
       "    <tr>\n",
       "      <th>29995</th>\n",
       "      <td>private_19996</td>\n",
       "      <td>0.166600</td>\n",
       "      <td>0.166600</td>\n",
       "      <td>0.166600</td>\n",
       "      <td>0.166600</td>\n",
       "      <td>0.166600</td>\n",
       "      <td>0.167000</td>\n",
       "    </tr>\n",
       "    <tr>\n",
       "      <th>29996</th>\n",
       "      <td>private_19997</td>\n",
       "      <td>0.166600</td>\n",
       "      <td>0.166600</td>\n",
       "      <td>0.166600</td>\n",
       "      <td>0.166600</td>\n",
       "      <td>0.166600</td>\n",
       "      <td>0.167000</td>\n",
       "    </tr>\n",
       "    <tr>\n",
       "      <th>29997</th>\n",
       "      <td>private_19998</td>\n",
       "      <td>0.166600</td>\n",
       "      <td>0.166600</td>\n",
       "      <td>0.166600</td>\n",
       "      <td>0.166600</td>\n",
       "      <td>0.166600</td>\n",
       "      <td>0.167000</td>\n",
       "    </tr>\n",
       "    <tr>\n",
       "      <th>29998</th>\n",
       "      <td>private_19999</td>\n",
       "      <td>0.166600</td>\n",
       "      <td>0.166600</td>\n",
       "      <td>0.166600</td>\n",
       "      <td>0.166600</td>\n",
       "      <td>0.166600</td>\n",
       "      <td>0.167000</td>\n",
       "    </tr>\n",
       "    <tr>\n",
       "      <th>29999</th>\n",
       "      <td>private_20000</td>\n",
       "      <td>0.166600</td>\n",
       "      <td>0.166600</td>\n",
       "      <td>0.166600</td>\n",
       "      <td>0.166600</td>\n",
       "      <td>0.166600</td>\n",
       "      <td>0.167000</td>\n",
       "    </tr>\n",
       "  </tbody>\n",
       "</table>\n",
       "<p>30000 rows × 7 columns</p>\n",
       "</div>"
      ],
      "text/plain": [
       "            Filename   Barking   Howling    Crying   COSmoke  GlassBreaking  \\\n",
       "0       public_00001 -4.589404 -7.103025 -5.449708 -7.272630      -5.890907   \n",
       "1       public_00002 -3.237309 -5.631329 -6.532974 -5.641322      -6.938568   \n",
       "2       public_00003  1.617429 -3.309885 -5.771729 -3.733042      -4.878004   \n",
       "3       public_00004 -3.209992 -7.340166 -4.773160 -6.267713      -3.775096   \n",
       "4       public_00005 -2.450636 -2.718092  0.419123 -2.947644      -2.521025   \n",
       "...              ...       ...       ...       ...       ...            ...   \n",
       "29995  private_19996  0.166600  0.166600  0.166600  0.166600       0.166600   \n",
       "29996  private_19997  0.166600  0.166600  0.166600  0.166600       0.166600   \n",
       "29997  private_19998  0.166600  0.166600  0.166600  0.166600       0.166600   \n",
       "29998  private_19999  0.166600  0.166600  0.166600  0.166600       0.166600   \n",
       "29999  private_20000  0.166600  0.166600  0.166600  0.166600       0.166600   \n",
       "\n",
       "          Other  \n",
       "0      3.474462  \n",
       "1      3.150492  \n",
       "2     -4.212007  \n",
       "3      1.359558  \n",
       "4     -4.369037  \n",
       "...         ...  \n",
       "29995  0.167000  \n",
       "29996  0.167000  \n",
       "29997  0.167000  \n",
       "29998  0.167000  \n",
       "29999  0.167000  \n",
       "\n",
       "[30000 rows x 7 columns]"
      ]
     },
     "execution_count": 18,
     "metadata": {},
     "output_type": "execute_result"
    }
   ],
   "source": [
    "sample_submit = pd.read_csv('sample_submission.csv')\n",
    "model = model.to('cuda:0')\n",
    "model.eval()\n",
    "batch = 100\n",
    "for i in tqdm(range(0,X_test.shape[0]-batch+1,batch)):\n",
    "    sample_submit.iloc[i:i+batch,1:] = model(X_test[i:i+batch].to(torch.float32).cuda()).detach().cpu().numpy()\n",
    "sample_submit"
   ]
  },
  {
   "cell_type": "code",
   "execution_count": 19,
   "metadata": {},
   "outputs": [
    {
     "data": {
      "text/plain": [
       "array([[3.14525324e-04, 2.54685222e-05, 1.33054689e-04, 2.14954001e-05,\n",
       "        8.55893974e-05, 9.99419867e-01],\n",
       "       [1.67844081e-03, 1.53177901e-04, 6.21751132e-05, 1.51654805e-04,\n",
       "        4.14447583e-05, 9.97913107e-01],\n",
       "       [9.83226321e-01, 7.12440179e-03, 6.07551144e-04, 4.66631194e-03,\n",
       "        1.48498768e-03, 2.89042624e-03],\n",
       "       ...,\n",
       "       [1.66655554e-01, 1.66655554e-01, 1.66655554e-01, 1.66655554e-01,\n",
       "        1.66655554e-01, 1.66722230e-01],\n",
       "       [1.66655554e-01, 1.66655554e-01, 1.66655554e-01, 1.66655554e-01,\n",
       "        1.66655554e-01, 1.66722230e-01],\n",
       "       [1.66655554e-01, 1.66655554e-01, 1.66655554e-01, 1.66655554e-01,\n",
       "        1.66655554e-01, 1.66722230e-01]])"
      ]
     },
     "execution_count": 19,
     "metadata": {},
     "output_type": "execute_result"
    }
   ],
   "source": [
    "from scipy.special import softmax\n",
    "a = softmax(sample_submit.iloc[:,1:].values,axis=1)\n",
    "a"
   ]
  },
  {
   "cell_type": "code",
   "execution_count": 20,
   "metadata": {},
   "outputs": [
    {
     "data": {
      "text/html": [
       "<div>\n",
       "<style scoped>\n",
       "    .dataframe tbody tr th:only-of-type {\n",
       "        vertical-align: middle;\n",
       "    }\n",
       "\n",
       "    .dataframe tbody tr th {\n",
       "        vertical-align: top;\n",
       "    }\n",
       "\n",
       "    .dataframe thead th {\n",
       "        text-align: right;\n",
       "    }\n",
       "</style>\n",
       "<table border=\"1\" class=\"dataframe\">\n",
       "  <thead>\n",
       "    <tr style=\"text-align: right;\">\n",
       "      <th></th>\n",
       "      <th>Filename</th>\n",
       "      <th>Barking</th>\n",
       "      <th>Howling</th>\n",
       "      <th>Crying</th>\n",
       "      <th>COSmoke</th>\n",
       "      <th>GlassBreaking</th>\n",
       "      <th>Other</th>\n",
       "    </tr>\n",
       "  </thead>\n",
       "  <tbody>\n",
       "    <tr>\n",
       "      <th>0</th>\n",
       "      <td>public_00001</td>\n",
       "      <td>0.000315</td>\n",
       "      <td>0.000025</td>\n",
       "      <td>0.000133</td>\n",
       "      <td>0.000021</td>\n",
       "      <td>0.000086</td>\n",
       "      <td>0.999420</td>\n",
       "    </tr>\n",
       "    <tr>\n",
       "      <th>1</th>\n",
       "      <td>public_00002</td>\n",
       "      <td>0.001678</td>\n",
       "      <td>0.000153</td>\n",
       "      <td>0.000062</td>\n",
       "      <td>0.000152</td>\n",
       "      <td>0.000041</td>\n",
       "      <td>0.997913</td>\n",
       "    </tr>\n",
       "    <tr>\n",
       "      <th>2</th>\n",
       "      <td>public_00003</td>\n",
       "      <td>0.983226</td>\n",
       "      <td>0.007124</td>\n",
       "      <td>0.000608</td>\n",
       "      <td>0.004666</td>\n",
       "      <td>0.001485</td>\n",
       "      <td>0.002890</td>\n",
       "    </tr>\n",
       "    <tr>\n",
       "      <th>3</th>\n",
       "      <td>public_00004</td>\n",
       "      <td>0.010169</td>\n",
       "      <td>0.000164</td>\n",
       "      <td>0.002130</td>\n",
       "      <td>0.000478</td>\n",
       "      <td>0.005779</td>\n",
       "      <td>0.981281</td>\n",
       "    </tr>\n",
       "    <tr>\n",
       "      <th>4</th>\n",
       "      <td>public_00005</td>\n",
       "      <td>0.047426</td>\n",
       "      <td>0.036297</td>\n",
       "      <td>0.836258</td>\n",
       "      <td>0.028852</td>\n",
       "      <td>0.044203</td>\n",
       "      <td>0.006964</td>\n",
       "    </tr>\n",
       "    <tr>\n",
       "      <th>...</th>\n",
       "      <td>...</td>\n",
       "      <td>...</td>\n",
       "      <td>...</td>\n",
       "      <td>...</td>\n",
       "      <td>...</td>\n",
       "      <td>...</td>\n",
       "      <td>...</td>\n",
       "    </tr>\n",
       "    <tr>\n",
       "      <th>29995</th>\n",
       "      <td>private_19996</td>\n",
       "      <td>0.166656</td>\n",
       "      <td>0.166656</td>\n",
       "      <td>0.166656</td>\n",
       "      <td>0.166656</td>\n",
       "      <td>0.166656</td>\n",
       "      <td>0.166722</td>\n",
       "    </tr>\n",
       "    <tr>\n",
       "      <th>29996</th>\n",
       "      <td>private_19997</td>\n",
       "      <td>0.166656</td>\n",
       "      <td>0.166656</td>\n",
       "      <td>0.166656</td>\n",
       "      <td>0.166656</td>\n",
       "      <td>0.166656</td>\n",
       "      <td>0.166722</td>\n",
       "    </tr>\n",
       "    <tr>\n",
       "      <th>29997</th>\n",
       "      <td>private_19998</td>\n",
       "      <td>0.166656</td>\n",
       "      <td>0.166656</td>\n",
       "      <td>0.166656</td>\n",
       "      <td>0.166656</td>\n",
       "      <td>0.166656</td>\n",
       "      <td>0.166722</td>\n",
       "    </tr>\n",
       "    <tr>\n",
       "      <th>29998</th>\n",
       "      <td>private_19999</td>\n",
       "      <td>0.166656</td>\n",
       "      <td>0.166656</td>\n",
       "      <td>0.166656</td>\n",
       "      <td>0.166656</td>\n",
       "      <td>0.166656</td>\n",
       "      <td>0.166722</td>\n",
       "    </tr>\n",
       "    <tr>\n",
       "      <th>29999</th>\n",
       "      <td>private_20000</td>\n",
       "      <td>0.166656</td>\n",
       "      <td>0.166656</td>\n",
       "      <td>0.166656</td>\n",
       "      <td>0.166656</td>\n",
       "      <td>0.166656</td>\n",
       "      <td>0.166722</td>\n",
       "    </tr>\n",
       "  </tbody>\n",
       "</table>\n",
       "<p>30000 rows × 7 columns</p>\n",
       "</div>"
      ],
      "text/plain": [
       "            Filename   Barking   Howling    Crying   COSmoke  GlassBreaking  \\\n",
       "0       public_00001  0.000315  0.000025  0.000133  0.000021       0.000086   \n",
       "1       public_00002  0.001678  0.000153  0.000062  0.000152       0.000041   \n",
       "2       public_00003  0.983226  0.007124  0.000608  0.004666       0.001485   \n",
       "3       public_00004  0.010169  0.000164  0.002130  0.000478       0.005779   \n",
       "4       public_00005  0.047426  0.036297  0.836258  0.028852       0.044203   \n",
       "...              ...       ...       ...       ...       ...            ...   \n",
       "29995  private_19996  0.166656  0.166656  0.166656  0.166656       0.166656   \n",
       "29996  private_19997  0.166656  0.166656  0.166656  0.166656       0.166656   \n",
       "29997  private_19998  0.166656  0.166656  0.166656  0.166656       0.166656   \n",
       "29998  private_19999  0.166656  0.166656  0.166656  0.166656       0.166656   \n",
       "29999  private_20000  0.166656  0.166656  0.166656  0.166656       0.166656   \n",
       "\n",
       "          Other  \n",
       "0      0.999420  \n",
       "1      0.997913  \n",
       "2      0.002890  \n",
       "3      0.981281  \n",
       "4      0.006964  \n",
       "...         ...  \n",
       "29995  0.166722  \n",
       "29996  0.166722  \n",
       "29997  0.166722  \n",
       "29998  0.166722  \n",
       "29999  0.166722  \n",
       "\n",
       "[30000 rows x 7 columns]"
      ]
     },
     "execution_count": 20,
     "metadata": {},
     "output_type": "execute_result"
    }
   ],
   "source": [
    "sample_submit.iloc[:,1:] = a\n",
    "sample_submit"
   ]
  },
  {
   "cell_type": "code",
   "execution_count": 21,
   "metadata": {},
   "outputs": [
    {
     "data": {
      "text/plain": [
       "Filename         public_00123\n",
       "Barking               0.01261\n",
       "Howling              0.001419\n",
       "Crying               0.001449\n",
       "COSmoke               0.00033\n",
       "GlassBreaking        0.001056\n",
       "Other                0.983135\n",
       "Name: 122, dtype: object"
      ]
     },
     "execution_count": 21,
     "metadata": {},
     "output_type": "execute_result"
    }
   ],
   "source": [
    "sample_submit.iloc[122]"
   ]
  },
  {
   "cell_type": "code",
   "execution_count": 22,
   "metadata": {},
   "outputs": [
    {
     "data": {
      "text/plain": [
       "0        1.0\n",
       "1        1.0\n",
       "2        1.0\n",
       "3        1.0\n",
       "4        1.0\n",
       "        ... \n",
       "29995    1.0\n",
       "29996    1.0\n",
       "29997    1.0\n",
       "29998    1.0\n",
       "29999    1.0\n",
       "Length: 30000, dtype: float64"
      ]
     },
     "execution_count": 22,
     "metadata": {},
     "output_type": "execute_result"
    }
   ],
   "source": [
    "sample_submit.sum(axis=1)"
   ]
  },
  {
   "cell_type": "code",
   "execution_count": 23,
   "metadata": {},
   "outputs": [
    {
     "data": {
      "text/plain": [
       "0.9333333333333333"
      ]
     },
     "execution_count": 23,
     "metadata": {},
     "output_type": "execute_result"
    }
   ],
   "source": [
    "acc"
   ]
  },
  {
   "cell_type": "code",
   "execution_count": 24,
   "metadata": {},
   "outputs": [],
   "source": [
    "# save\n",
    "sample_submit.to_csv(f'senet20_20210605_random_state{seed}_validacc_{acc}.csv',index=False)\n",
    "torch.save(model.state_dict(),f'senet20_20210605_random_state{seed}_validacc_{acc}.pt')\n",
    "#print('done')"
   ]
  },
  {
   "cell_type": "code",
   "execution_count": null,
   "metadata": {},
   "outputs": [],
   "source": []
  }
 ],
 "metadata": {
  "kernelspec": {
   "display_name": "Python 3",
   "language": "python",
   "name": "python3"
  },
  "language_info": {
   "codemirror_mode": {
    "name": "ipython",
    "version": 3
   },
   "file_extension": ".py",
   "mimetype": "text/x-python",
   "name": "python",
   "nbconvert_exporter": "python",
   "pygments_lexer": "ipython3",
   "version": "3.7.4"
  }
 },
 "nbformat": 4,
 "nbformat_minor": 2
}
