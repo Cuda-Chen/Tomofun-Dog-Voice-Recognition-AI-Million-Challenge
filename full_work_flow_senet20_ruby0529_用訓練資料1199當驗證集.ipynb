{
 "cells": [
  {
   "cell_type": "code",
   "execution_count": 74,
   "metadata": {},
   "outputs": [
    {
     "name": "stdout",
     "output_type": "stream",
     "text": [
      "1.8.0+cu111\n"
     ]
    }
   ],
   "source": [
    "import torchaudio\n",
    "torchaudio.set_audio_backend(\"soundfile\")\n",
    "import pandas as pd\n",
    "from torch.utils.data import Dataset, DataLoader\n",
    "from torch.nn import functional as F\n",
    "import torch\n",
    "print(torch.__version__)\n",
    "from torch import nn\n",
    "from tqdm import tqdm\n",
    "from torch.optim import Adam,SGD,RMSprop\n",
    "import matplotlib.pyplot as plt\n",
    "import os\n",
    "import warnings\n",
    "import gc\n",
    "from copy import deepcopy\n",
    "from sklearn.metrics import roc_auc_score\n",
    "from sklearn.preprocessing import OneHotEncoder\n",
    "import librosa\n",
    "import numpy as np\n",
    "import noisereduce as nr\n",
    "import malaya_speech\n",
    "from malaya_speech import Pipeline\n",
    "import IPython.display as ipd\n",
    "warnings.filterwarnings(\"ignore\")\n",
    "from pysptk.sptk import rapt\n",
    "from efficientnet_pytorch import EfficientNet\n",
    "import gc"
   ]
  },
  {
   "cell_type": "code",
   "execution_count": 75,
   "metadata": {},
   "outputs": [],
   "source": [
    "seed = 529 #沛茵生日"
   ]
  },
  {
   "cell_type": "markdown",
   "metadata": {},
   "source": [
    "# path"
   ]
  },
  {
   "cell_type": "code",
   "execution_count": 76,
   "metadata": {},
   "outputs": [],
   "source": [
    "X_train_dir = 'train/train/'\n",
    "X_test_dir = 'public_test/public_test/'\n",
    "Y_train_path = 'train/meta_train.csv'"
   ]
  },
  {
   "cell_type": "markdown",
   "metadata": {},
   "source": [
    "# load data"
   ]
  },
  {
   "cell_type": "code",
   "execution_count": 77,
   "metadata": {},
   "outputs": [],
   "source": [
    "def preprocessing_X(wav_dir):\n",
    "    files = os.listdir(wav_dir)\n",
    "    files.sort() #正確排序很重要!!!!!!!!!!!!!!!!!!!!!!!!!!!!!!!!\n",
    "    X = torch.FloatTensor([])\n",
    "    for f in tqdm(files[:]):\n",
    "        try:\n",
    "            samples, sample_rate = malaya_speech.load(X_train_dir+f)\n",
    "            melspectrogram = wav2featuresflow(samples,sr=sample_rate)\n",
    "            melspectrogram = melspectrogram.reshape(-1,80,157).copy()\n",
    "            melspectrogram = torch.from_numpy(melspectrogram)\n",
    "            X = torch.cat([X,torch.unsqueeze(melspectrogram,0)],dim=0)\n",
    "            gc.collect()\n",
    "        except:\n",
    "            print(f)\n",
    "    print('X shape:',X.shape)\n",
    "    return X\n",
    "\n",
    "def preprocessing_Y(file_path):\n",
    "    Y = pd.read_csv(file_path).iloc[:,:]\n",
    "    Y = Y[Y.Filename != 'train_01046']\n",
    "    enc = OneHotEncoder().fit(Y[['Label']])\n",
    "    Y_one_hot = enc.transform(Y[['Label']]).toarray()\n",
    "    Y_one_hot = torch.FloatTensor(Y_one_hot)\n",
    "    print('Y_ont_hot shape',Y_one_hot.shape)\n",
    "    print('Y_df shape',Y.shape)\n",
    "    return Y_one_hot,Y"
   ]
  },
  {
   "cell_type": "code",
   "execution_count": 78,
   "metadata": {},
   "outputs": [
    {
     "data": {
      "text/plain": [
       "46"
      ]
     },
     "execution_count": 78,
     "metadata": {},
     "output_type": "execute_result"
    }
   ],
   "source": [
    "X_train_all = torch.load('X_train_吳啟聖教的方法.pt')\n",
    "X_test_all = torch.load('X_test_吳啟聖教的方法.pt')\n",
    "gc.collect()"
   ]
  },
  {
   "cell_type": "code",
   "execution_count": 79,
   "metadata": {},
   "outputs": [
    {
     "name": "stdout",
     "output_type": "stream",
     "text": [
      "Y_ont_hot shape torch.Size([1199, 6])\n",
      "Y_df shape (1199, 3)\n",
      "torch.Size([1199, 6])\n"
     ]
    },
    {
     "data": {
      "text/plain": [
       "{0: 'Barking',\n",
       " 1: 'Howling',\n",
       " 2: 'Crying',\n",
       " 3: 'COSmoke',\n",
       " 4: 'GlassBreaking',\n",
       " 5: 'Dishes'}"
      ]
     },
     "execution_count": 79,
     "metadata": {},
     "output_type": "execute_result"
    }
   ],
   "source": [
    "Y_train_all,Y_train_df = preprocessing_Y(Y_train_path)\n",
    "print(Y_train_all.shape)\n",
    "map_dict = {}\n",
    "for l in Y_train_df.Label.unique():\n",
    "    map_dict[l] = Y_train_df[Y_train_df.Label==l].sample(1)['Remark'].values[0]\n",
    "map_dict"
   ]
  },
  {
   "cell_type": "code",
   "execution_count": 80,
   "metadata": {},
   "outputs": [
    {
     "data": {
      "text/html": [
       "<div>\n",
       "<style scoped>\n",
       "    .dataframe tbody tr th:only-of-type {\n",
       "        vertical-align: middle;\n",
       "    }\n",
       "\n",
       "    .dataframe tbody tr th {\n",
       "        vertical-align: top;\n",
       "    }\n",
       "\n",
       "    .dataframe thead th {\n",
       "        text-align: right;\n",
       "    }\n",
       "</style>\n",
       "<table border=\"1\" class=\"dataframe\">\n",
       "  <thead>\n",
       "    <tr style=\"text-align: right;\">\n",
       "      <th></th>\n",
       "      <th>Filename</th>\n",
       "      <th>Barking</th>\n",
       "      <th>Howling</th>\n",
       "      <th>Crying</th>\n",
       "      <th>COSmoke</th>\n",
       "      <th>GlassBreaking</th>\n",
       "      <th>Other</th>\n",
       "    </tr>\n",
       "  </thead>\n",
       "  <tbody>\n",
       "    <tr>\n",
       "      <th>0</th>\n",
       "      <td>public_00001</td>\n",
       "      <td>0.020279</td>\n",
       "      <td>0.036152</td>\n",
       "      <td>0.108969</td>\n",
       "      <td>0.003787</td>\n",
       "      <td>0.342543</td>\n",
       "      <td>0.488269</td>\n",
       "    </tr>\n",
       "    <tr>\n",
       "      <th>1</th>\n",
       "      <td>public_00002</td>\n",
       "      <td>0.076431</td>\n",
       "      <td>0.008451</td>\n",
       "      <td>0.076741</td>\n",
       "      <td>0.023729</td>\n",
       "      <td>0.002206</td>\n",
       "      <td>0.812443</td>\n",
       "    </tr>\n",
       "    <tr>\n",
       "      <th>2</th>\n",
       "      <td>public_00003</td>\n",
       "      <td>0.777331</td>\n",
       "      <td>0.002195</td>\n",
       "      <td>0.003087</td>\n",
       "      <td>0.121380</td>\n",
       "      <td>0.091242</td>\n",
       "      <td>0.004764</td>\n",
       "    </tr>\n",
       "    <tr>\n",
       "      <th>3</th>\n",
       "      <td>public_00004</td>\n",
       "      <td>0.046524</td>\n",
       "      <td>0.004801</td>\n",
       "      <td>0.077419</td>\n",
       "      <td>0.049906</td>\n",
       "      <td>0.109408</td>\n",
       "      <td>0.711941</td>\n",
       "    </tr>\n",
       "    <tr>\n",
       "      <th>4</th>\n",
       "      <td>public_00005</td>\n",
       "      <td>0.558227</td>\n",
       "      <td>0.007525</td>\n",
       "      <td>0.426386</td>\n",
       "      <td>0.001161</td>\n",
       "      <td>0.001056</td>\n",
       "      <td>0.005645</td>\n",
       "    </tr>\n",
       "  </tbody>\n",
       "</table>\n",
       "</div>"
      ],
      "text/plain": [
       "       Filename   Barking   Howling    Crying   COSmoke  GlassBreaking  \\\n",
       "0  public_00001  0.020279  0.036152  0.108969  0.003787       0.342543   \n",
       "1  public_00002  0.076431  0.008451  0.076741  0.023729       0.002206   \n",
       "2  public_00003  0.777331  0.002195  0.003087  0.121380       0.091242   \n",
       "3  public_00004  0.046524  0.004801  0.077419  0.049906       0.109408   \n",
       "4  public_00005  0.558227  0.007525  0.426386  0.001161       0.001056   \n",
       "\n",
       "      Other  \n",
       "0  0.488269  \n",
       "1  0.812443  \n",
       "2  0.004764  \n",
       "3  0.711941  \n",
       "4  0.005645  "
      ]
     },
     "execution_count": 80,
     "metadata": {},
     "output_type": "execute_result"
    }
   ],
   "source": [
    "Y_test_all = pd.read_csv('vote_V6_排行榜0.975345284.csv') #拿目前分數最高的\n",
    "Y_test_all.head(5)"
   ]
  },
  {
   "cell_type": "code",
   "execution_count": 81,
   "metadata": {},
   "outputs": [
    {
     "data": {
      "text/plain": [
       "array([[0., 0., 0., 0., 0., 1.],\n",
       "       [0., 0., 0., 0., 0., 1.],\n",
       "       [1., 0., 0., 0., 0., 0.],\n",
       "       [0., 0., 0., 0., 0., 1.],\n",
       "       [1., 0., 0., 0., 0., 0.]])"
      ]
     },
     "execution_count": 81,
     "metadata": {},
     "output_type": "execute_result"
    }
   ],
   "source": [
    "values = Y_test_all.iloc[:,1:].values.argmax(axis=1) #轉換成one hot格式\n",
    "n_values = np.max(values) + 1\n",
    "np.eye(n_values)[values][:5]"
   ]
  },
  {
   "cell_type": "code",
   "execution_count": 83,
   "metadata": {},
   "outputs": [
    {
     "data": {
      "text/html": [
       "<div>\n",
       "<style scoped>\n",
       "    .dataframe tbody tr th:only-of-type {\n",
       "        vertical-align: middle;\n",
       "    }\n",
       "\n",
       "    .dataframe tbody tr th {\n",
       "        vertical-align: top;\n",
       "    }\n",
       "\n",
       "    .dataframe thead th {\n",
       "        text-align: right;\n",
       "    }\n",
       "</style>\n",
       "<table border=\"1\" class=\"dataframe\">\n",
       "  <thead>\n",
       "    <tr style=\"text-align: right;\">\n",
       "      <th></th>\n",
       "      <th>Filename</th>\n",
       "      <th>Barking</th>\n",
       "      <th>Howling</th>\n",
       "      <th>Crying</th>\n",
       "      <th>COSmoke</th>\n",
       "      <th>GlassBreaking</th>\n",
       "      <th>Other</th>\n",
       "    </tr>\n",
       "  </thead>\n",
       "  <tbody>\n",
       "    <tr>\n",
       "      <th>0</th>\n",
       "      <td>public_00001</td>\n",
       "      <td>0.0</td>\n",
       "      <td>0.0</td>\n",
       "      <td>0.0</td>\n",
       "      <td>0.0</td>\n",
       "      <td>0.0</td>\n",
       "      <td>1.0</td>\n",
       "    </tr>\n",
       "    <tr>\n",
       "      <th>1</th>\n",
       "      <td>public_00002</td>\n",
       "      <td>0.0</td>\n",
       "      <td>0.0</td>\n",
       "      <td>0.0</td>\n",
       "      <td>0.0</td>\n",
       "      <td>0.0</td>\n",
       "      <td>1.0</td>\n",
       "    </tr>\n",
       "    <tr>\n",
       "      <th>2</th>\n",
       "      <td>public_00003</td>\n",
       "      <td>1.0</td>\n",
       "      <td>0.0</td>\n",
       "      <td>0.0</td>\n",
       "      <td>0.0</td>\n",
       "      <td>0.0</td>\n",
       "      <td>0.0</td>\n",
       "    </tr>\n",
       "    <tr>\n",
       "      <th>3</th>\n",
       "      <td>public_00004</td>\n",
       "      <td>0.0</td>\n",
       "      <td>0.0</td>\n",
       "      <td>0.0</td>\n",
       "      <td>0.0</td>\n",
       "      <td>0.0</td>\n",
       "      <td>1.0</td>\n",
       "    </tr>\n",
       "    <tr>\n",
       "      <th>4</th>\n",
       "      <td>public_00005</td>\n",
       "      <td>1.0</td>\n",
       "      <td>0.0</td>\n",
       "      <td>0.0</td>\n",
       "      <td>0.0</td>\n",
       "      <td>0.0</td>\n",
       "      <td>0.0</td>\n",
       "    </tr>\n",
       "    <tr>\n",
       "      <th>...</th>\n",
       "      <td>...</td>\n",
       "      <td>...</td>\n",
       "      <td>...</td>\n",
       "      <td>...</td>\n",
       "      <td>...</td>\n",
       "      <td>...</td>\n",
       "      <td>...</td>\n",
       "    </tr>\n",
       "    <tr>\n",
       "      <th>29995</th>\n",
       "      <td>private_19996</td>\n",
       "      <td>0.0</td>\n",
       "      <td>0.0</td>\n",
       "      <td>0.0</td>\n",
       "      <td>0.0</td>\n",
       "      <td>0.0</td>\n",
       "      <td>1.0</td>\n",
       "    </tr>\n",
       "    <tr>\n",
       "      <th>29996</th>\n",
       "      <td>private_19997</td>\n",
       "      <td>0.0</td>\n",
       "      <td>0.0</td>\n",
       "      <td>0.0</td>\n",
       "      <td>0.0</td>\n",
       "      <td>0.0</td>\n",
       "      <td>1.0</td>\n",
       "    </tr>\n",
       "    <tr>\n",
       "      <th>29997</th>\n",
       "      <td>private_19998</td>\n",
       "      <td>0.0</td>\n",
       "      <td>0.0</td>\n",
       "      <td>0.0</td>\n",
       "      <td>0.0</td>\n",
       "      <td>0.0</td>\n",
       "      <td>1.0</td>\n",
       "    </tr>\n",
       "    <tr>\n",
       "      <th>29998</th>\n",
       "      <td>private_19999</td>\n",
       "      <td>0.0</td>\n",
       "      <td>0.0</td>\n",
       "      <td>0.0</td>\n",
       "      <td>0.0</td>\n",
       "      <td>0.0</td>\n",
       "      <td>1.0</td>\n",
       "    </tr>\n",
       "    <tr>\n",
       "      <th>29999</th>\n",
       "      <td>private_20000</td>\n",
       "      <td>0.0</td>\n",
       "      <td>0.0</td>\n",
       "      <td>0.0</td>\n",
       "      <td>0.0</td>\n",
       "      <td>0.0</td>\n",
       "      <td>1.0</td>\n",
       "    </tr>\n",
       "  </tbody>\n",
       "</table>\n",
       "<p>30000 rows × 7 columns</p>\n",
       "</div>"
      ],
      "text/plain": [
       "            Filename  Barking  Howling  Crying  COSmoke  GlassBreaking  Other\n",
       "0       public_00001      0.0      0.0     0.0      0.0            0.0    1.0\n",
       "1       public_00002      0.0      0.0     0.0      0.0            0.0    1.0\n",
       "2       public_00003      1.0      0.0     0.0      0.0            0.0    0.0\n",
       "3       public_00004      0.0      0.0     0.0      0.0            0.0    1.0\n",
       "4       public_00005      1.0      0.0     0.0      0.0            0.0    0.0\n",
       "...              ...      ...      ...     ...      ...            ...    ...\n",
       "29995  private_19996      0.0      0.0     0.0      0.0            0.0    1.0\n",
       "29996  private_19997      0.0      0.0     0.0      0.0            0.0    1.0\n",
       "29997  private_19998      0.0      0.0     0.0      0.0            0.0    1.0\n",
       "29998  private_19999      0.0      0.0     0.0      0.0            0.0    1.0\n",
       "29999  private_20000      0.0      0.0     0.0      0.0            0.0    1.0\n",
       "\n",
       "[30000 rows x 7 columns]"
      ]
     },
     "execution_count": 83,
     "metadata": {},
     "output_type": "execute_result"
    }
   ],
   "source": [
    "Y_test_all.iloc[:,1:] = np.eye(n_values)[values] #轉換成df格式\n",
    "Y_test_all"
   ]
  },
  {
   "cell_type": "markdown",
   "metadata": {},
   "source": [
    "# help functions"
   ]
  },
  {
   "cell_type": "code",
   "execution_count": 84,
   "metadata": {},
   "outputs": [
    {
     "name": "stderr",
     "output_type": "stream",
     "text": [
      "WARNING:root:Load quantized model will cause accuracy drop.\n"
     ]
    }
   ],
   "source": [
    "def norm_mel(y, sr):\n",
    "    mel = librosa.feature.melspectrogram(y, sr = sr, n_mels = 80,hop_length=512)\n",
    "    mel = librosa.power_to_db(mel, ref=np.max)\n",
    "    return mel.T\n",
    "\n",
    "def plot(y, sr):\n",
    "    mel = norm_mel(y, sr)\n",
    "    fig, axs = plt.subplots(2, figsize=(10, 8))\n",
    "    axs[0].plot(y)\n",
    "    im = axs[1].imshow(np.rot90(mel), aspect='auto', interpolation='none')\n",
    "    fig.colorbar(mappable=im, shrink=0.65, orientation='horizontal', ax=axs[1])\n",
    "    print('mel shape:',mel.shape)\n",
    "    plt.show()\n",
    "\n",
    "# 靜音部分消除\n",
    "quantized_model = malaya_speech.vad.deep_model(model = 'vggvox-v2', quantized = True)\n",
    "p = Pipeline()\n",
    "\n",
    "pipeline_left = (\n",
    "    p.map(malaya_speech.generator.frames, frame_duration_ms = 30, sample_rate = 16000)\n",
    ")\n",
    "\n",
    "pipeline_right = (\n",
    "    pipeline_left.batching(5)\n",
    "    .foreach_map(quantized_model.predict)\n",
    "    .flatten()\n",
    ")\n",
    "\n",
    "pipeline_left.foreach_zip(pipeline_right).map(malaya_speech.combine.without_silent,\n",
    "                                             threshold_to_stop = 0.05)\n",
    "def remove_silent(y,sr,time_length=80000):\n",
    "    y =  p(y)['without_silent']\n",
    "    if len(y) > time_length:\n",
    "        y = y[0:0+time_length]\n",
    "    else:\n",
    "        y = np.pad(y, (0,time_length-len(y)))\n",
    "    return y\n",
    "\n",
    "def wav2featuresflow(y, sr):\n",
    "    y_without_silent = remove_silent(y,sr)\n",
    "    melspectrogram = np.rot90(norm_mel(y, sr))\n",
    "    return melspectrogram\n",
    "\n",
    "\n",
    "\n",
    "from sklearn.metrics import confusion_matrix,accuracy_score\n",
    "def plot_confusion_matrix(model,data_iter,map_dict=map_dict):\n",
    "    y_true = np.array([])\n",
    "    y_pred = np.array([])\n",
    "    for bx,by in tqdm(data_iter):\n",
    "        bx = bx.to(device)\n",
    "        by = by.to(device)\n",
    "        y_hat = model(bx)\n",
    "        try:\n",
    "            if len(y_true) == 0:\n",
    "                y_true = by.argmax(axis=1).detach().cpu().numpy()\n",
    "                y_pred = y_hat.argmax(axis=1).detach().cpu().numpy()\n",
    "            else:\n",
    "                y_true = np.hstack((y_true,by.argmax(axis=1).detach().cpu().numpy()))\n",
    "                y_pred = np.hstack((y_pred,y_hat.argmax(axis=1).detach().cpu().numpy()))\n",
    "        except:\n",
    "            pass\n",
    "    cm = pd.DataFrame(confusion_matrix(y_pred,y_true))\n",
    "    cm.columns = list(map_dict.values())\n",
    "    acc = accuracy_score(y_pred,y_true)\n",
    "    return cm,acc\n",
    "\n",
    "def 找超參數(search_iteration=30,max_epochs=30):\n",
    "    import optuna\n",
    "    sampler = optuna.samplers.CmaEsSampler()\n",
    "    study = optuna.create_study(sampler=sampler,direction='maximize')\n",
    "    for i in tqdm(range(search_iteration)):\n",
    "        trial = study.ask()\n",
    "        lr = trial.suggest_uniform('lr',1e-5,1e-2)\n",
    "        valid_size = trial.suggest_uniform('valid_size',0.1,0.5)\n",
    "        batch_size = trial.suggest_int(\"batch_size\", 16, 128)\n",
    "        X_train, X_valid , y_train, y_valid = train_test_split(X_train_all, Y_train_all,\n",
    "                                                               test_size = valid_size, \n",
    "                                                               random_state = 1,\n",
    "                                                               stratify=Y_train_all)\n",
    "        trainset = TensorDataset(torch.FloatTensor(X_train.to(torch.float32)),torch.FloatTensor(y_train))\n",
    "        vaildset = TensorDataset(torch.FloatTensor(X_valid.to(torch.float32)),torch.FloatTensor(y_valid))\n",
    "        train_iter = DataLoader(trainset,batch_size=batch_size,num_workers=4)\n",
    "        vaild_iter = DataLoader(vaildset,batch_size=batch_size,num_workers=4)\n",
    "        model = torch.hub.load('moskomule/senet.pytorch','se_resnet20',num_classes=6)\n",
    "        model.conv1 = nn.Conv2d(1, 16, kernel_size=(3, 3), stride=(1, 1), padding=(1, 1), bias=False)\n",
    "        device = 'cuda:0'\n",
    "        model = model.to(device)\n",
    "        model = torch.nn.DataParallel(model, device_ids=[0, 1, 2 ,3])\n",
    "        optimizer = Adam(model.parameters(),lr=lr)\n",
    "        loss_fn = nn.BCEWithLogitsLoss()\n",
    "        model = train(model,train_iter,vaild_iter,optimizer,loss_fn,max_epochs=max_epochs,log_interval=1,device=device)\n",
    "        model.eval()\n",
    "        cm,acc = plot_confusion_matrix(model.to(device),vaild_iter)\n",
    "        study.tell(trial,acc)\n",
    "        print(study.best_params,study.best_value)\n",
    "    return study.best_params,study.best_value"
   ]
  },
  {
   "cell_type": "markdown",
   "metadata": {},
   "source": [
    "# train valid split"
   ]
  },
  {
   "cell_type": "code",
   "execution_count": 85,
   "metadata": {},
   "outputs": [
    {
     "data": {
      "text/html": [
       "<div>\n",
       "<style scoped>\n",
       "    .dataframe tbody tr th:only-of-type {\n",
       "        vertical-align: middle;\n",
       "    }\n",
       "\n",
       "    .dataframe tbody tr th {\n",
       "        vertical-align: top;\n",
       "    }\n",
       "\n",
       "    .dataframe thead th {\n",
       "        text-align: right;\n",
       "    }\n",
       "</style>\n",
       "<table border=\"1\" class=\"dataframe\">\n",
       "  <thead>\n",
       "    <tr style=\"text-align: right;\">\n",
       "      <th></th>\n",
       "      <th>Filename</th>\n",
       "      <th>Barking</th>\n",
       "      <th>Howling</th>\n",
       "      <th>Crying</th>\n",
       "      <th>COSmoke</th>\n",
       "      <th>GlassBreaking</th>\n",
       "      <th>Other</th>\n",
       "    </tr>\n",
       "  </thead>\n",
       "  <tbody>\n",
       "    <tr>\n",
       "      <th>0</th>\n",
       "      <td>public_00001</td>\n",
       "      <td>0.0</td>\n",
       "      <td>0.0</td>\n",
       "      <td>0.0</td>\n",
       "      <td>0.0</td>\n",
       "      <td>0.0</td>\n",
       "      <td>1.0</td>\n",
       "    </tr>\n",
       "    <tr>\n",
       "      <th>1</th>\n",
       "      <td>public_00002</td>\n",
       "      <td>0.0</td>\n",
       "      <td>0.0</td>\n",
       "      <td>0.0</td>\n",
       "      <td>0.0</td>\n",
       "      <td>0.0</td>\n",
       "      <td>1.0</td>\n",
       "    </tr>\n",
       "    <tr>\n",
       "      <th>2</th>\n",
       "      <td>public_00003</td>\n",
       "      <td>1.0</td>\n",
       "      <td>0.0</td>\n",
       "      <td>0.0</td>\n",
       "      <td>0.0</td>\n",
       "      <td>0.0</td>\n",
       "      <td>0.0</td>\n",
       "    </tr>\n",
       "    <tr>\n",
       "      <th>3</th>\n",
       "      <td>public_00004</td>\n",
       "      <td>0.0</td>\n",
       "      <td>0.0</td>\n",
       "      <td>0.0</td>\n",
       "      <td>0.0</td>\n",
       "      <td>0.0</td>\n",
       "      <td>1.0</td>\n",
       "    </tr>\n",
       "    <tr>\n",
       "      <th>4</th>\n",
       "      <td>public_00005</td>\n",
       "      <td>1.0</td>\n",
       "      <td>0.0</td>\n",
       "      <td>0.0</td>\n",
       "      <td>0.0</td>\n",
       "      <td>0.0</td>\n",
       "      <td>0.0</td>\n",
       "    </tr>\n",
       "    <tr>\n",
       "      <th>...</th>\n",
       "      <td>...</td>\n",
       "      <td>...</td>\n",
       "      <td>...</td>\n",
       "      <td>...</td>\n",
       "      <td>...</td>\n",
       "      <td>...</td>\n",
       "      <td>...</td>\n",
       "    </tr>\n",
       "    <tr>\n",
       "      <th>29995</th>\n",
       "      <td>private_19996</td>\n",
       "      <td>0.0</td>\n",
       "      <td>0.0</td>\n",
       "      <td>0.0</td>\n",
       "      <td>0.0</td>\n",
       "      <td>0.0</td>\n",
       "      <td>1.0</td>\n",
       "    </tr>\n",
       "    <tr>\n",
       "      <th>29996</th>\n",
       "      <td>private_19997</td>\n",
       "      <td>0.0</td>\n",
       "      <td>0.0</td>\n",
       "      <td>0.0</td>\n",
       "      <td>0.0</td>\n",
       "      <td>0.0</td>\n",
       "      <td>1.0</td>\n",
       "    </tr>\n",
       "    <tr>\n",
       "      <th>29997</th>\n",
       "      <td>private_19998</td>\n",
       "      <td>0.0</td>\n",
       "      <td>0.0</td>\n",
       "      <td>0.0</td>\n",
       "      <td>0.0</td>\n",
       "      <td>0.0</td>\n",
       "      <td>1.0</td>\n",
       "    </tr>\n",
       "    <tr>\n",
       "      <th>29998</th>\n",
       "      <td>private_19999</td>\n",
       "      <td>0.0</td>\n",
       "      <td>0.0</td>\n",
       "      <td>0.0</td>\n",
       "      <td>0.0</td>\n",
       "      <td>0.0</td>\n",
       "      <td>1.0</td>\n",
       "    </tr>\n",
       "    <tr>\n",
       "      <th>29999</th>\n",
       "      <td>private_20000</td>\n",
       "      <td>0.0</td>\n",
       "      <td>0.0</td>\n",
       "      <td>0.0</td>\n",
       "      <td>0.0</td>\n",
       "      <td>0.0</td>\n",
       "      <td>1.0</td>\n",
       "    </tr>\n",
       "  </tbody>\n",
       "</table>\n",
       "<p>30000 rows × 7 columns</p>\n",
       "</div>"
      ],
      "text/plain": [
       "            Filename  Barking  Howling  Crying  COSmoke  GlassBreaking  Other\n",
       "0       public_00001      0.0      0.0     0.0      0.0            0.0    1.0\n",
       "1       public_00002      0.0      0.0     0.0      0.0            0.0    1.0\n",
       "2       public_00003      1.0      0.0     0.0      0.0            0.0    0.0\n",
       "3       public_00004      0.0      0.0     0.0      0.0            0.0    1.0\n",
       "4       public_00005      1.0      0.0     0.0      0.0            0.0    0.0\n",
       "...              ...      ...      ...     ...      ...            ...    ...\n",
       "29995  private_19996      0.0      0.0     0.0      0.0            0.0    1.0\n",
       "29996  private_19997      0.0      0.0     0.0      0.0            0.0    1.0\n",
       "29997  private_19998      0.0      0.0     0.0      0.0            0.0    1.0\n",
       "29998  private_19999      0.0      0.0     0.0      0.0            0.0    1.0\n",
       "29999  private_20000      0.0      0.0     0.0      0.0            0.0    1.0\n",
       "\n",
       "[30000 rows x 7 columns]"
      ]
     },
     "execution_count": 85,
     "metadata": {},
     "output_type": "execute_result"
    }
   ],
   "source": [
    "Y_test_all"
   ]
  },
  {
   "cell_type": "code",
   "execution_count": 86,
   "metadata": {},
   "outputs": [
    {
     "data": {
      "text/plain": [
       "(tensor([[0., 0., 0., 0., 0., 1.],\n",
       "         [0., 0., 0., 0., 0., 1.],\n",
       "         [1., 0., 0., 0., 0., 0.],\n",
       "         ...,\n",
       "         [0., 1., 0., 0., 0., 0.],\n",
       "         [0., 0., 1., 0., 0., 0.],\n",
       "         [0., 0., 1., 0., 0., 0.]]), torch.Size([10000, 6]))"
      ]
     },
     "execution_count": 86,
     "metadata": {},
     "output_type": "execute_result"
    }
   ],
   "source": [
    "Y_test_all = torch.FloatTensor(Y_test_all.iloc[:10000,1:].values) #轉換成tensor格式\n",
    "Y_test_all,Y_test_all.shape"
   ]
  },
  {
   "cell_type": "code",
   "execution_count": 87,
   "metadata": {},
   "outputs": [
    {
     "name": "stdout",
     "output_type": "stream",
     "text": [
      "torch.Size([10000, 1, 80, 157])\n",
      "torch.Size([1199, 1, 80, 157])\n",
      "5    3556\n",
      "2    2152\n",
      "1    1716\n",
      "0    1264\n",
      "3     869\n",
      "4     443\n",
      "dtype: int64\n",
      "0    200\n",
      "1    200\n",
      "2    200\n",
      "3    200\n",
      "5    200\n",
      "4    199\n",
      "dtype: int64\n"
     ]
    }
   ],
   "source": [
    "from sklearn.model_selection import train_test_split\n",
    "\n",
    "# 訓練驗證切分\n",
    "a = X_test_all\n",
    "b = Y_test_all\n",
    "\n",
    "X_valid = X_train_all\n",
    "y_valid = Y_train_all\n",
    "\n",
    "X_train = a\n",
    "y_train = b\n",
    "\n",
    "print(X_train.shape)\n",
    "print(X_valid.shape)\n",
    "print(pd.DataFrame(y_train.argmax(axis=1)).value_counts())\n",
    "print(pd.DataFrame(y_valid.argmax(axis=1)).value_counts())"
   ]
  },
  {
   "cell_type": "markdown",
   "metadata": {},
   "source": [
    "#  create pytorch dataloader and save"
   ]
  },
  {
   "cell_type": "code",
   "execution_count": 88,
   "metadata": {},
   "outputs": [
    {
     "name": "stdout",
     "output_type": "stream",
     "text": [
      "torch.Size([32, 1, 80, 157]) cpu\n",
      "torch.Size([32, 6]) cpu\n"
     ]
    }
   ],
   "source": [
    "from torch.utils.data import TensorDataset,DataLoader\n",
    "trainset = TensorDataset(torch.FloatTensor(X_train.to(torch.float32)),torch.FloatTensor(y_train))\n",
    "vaildset = TensorDataset(torch.FloatTensor(X_valid.to(torch.float32)),torch.FloatTensor(y_valid))\n",
    "train_iter = DataLoader(trainset,batch_size=32,num_workers=4)\n",
    "vaild_iter = DataLoader(vaildset,batch_size=32,num_workers=4)\n",
    "for bx,by in train_iter:\n",
    "    print(bx.shape,bx.device) # batch,channel,freq,time\n",
    "    print(by.shape,by.device) # batch,n_class\n",
    "    break"
   ]
  },
  {
   "cell_type": "markdown",
   "metadata": {},
   "source": [
    "# define model"
   ]
  },
  {
   "cell_type": "code",
   "execution_count": 89,
   "metadata": {},
   "outputs": [
    {
     "name": "stderr",
     "output_type": "stream",
     "text": [
      "Using cache found in /root/.cache/torch/hub/moskomule_senet.pytorch_master\n"
     ]
    },
    {
     "name": "stdout",
     "output_type": "stream",
     "text": [
      "CifarSEResNet(\n",
      "  (conv1): Conv2d(1, 16, kernel_size=(3, 3), stride=(1, 1), padding=(1, 1), bias=False)\n",
      "  (bn1): BatchNorm2d(16, eps=1e-05, momentum=0.1, affine=True, track_running_stats=True)\n",
      "  (relu): ReLU(inplace=True)\n",
      "  (layer1): Sequential(\n",
      "    (0): CifarSEBasicBlock(\n",
      "      (conv1): Conv2d(16, 16, kernel_size=(3, 3), stride=(1, 1), padding=(1, 1), bias=False)\n",
      "      (bn1): BatchNorm2d(16, eps=1e-05, momentum=0.1, affine=True, track_running_stats=True)\n",
      "      (relu): ReLU(inplace=True)\n",
      "      (conv2): Conv2d(16, 16, kernel_size=(3, 3), stride=(1, 1), padding=(1, 1), bias=False)\n",
      "      (bn2): BatchNorm2d(16, eps=1e-05, momentum=0.1, affine=True, track_running_stats=True)\n",
      "      (se): SELayer(\n",
      "        (avg_pool): AdaptiveAvgPool2d(output_size=1)\n",
      "        (fc): Sequential(\n",
      "          (0): Linear(in_features=16, out_features=1, bias=False)\n",
      "          (1): ReLU(inplace=True)\n",
      "          (2): Linear(in_features=1, out_features=16, bias=False)\n",
      "          (3): Sigmoid()\n",
      "        )\n",
      "      )\n",
      "    )\n",
      "    (1): CifarSEBasicBlock(\n",
      "      (conv1): Conv2d(16, 16, kernel_size=(3, 3), stride=(1, 1), padding=(1, 1), bias=False)\n",
      "      (bn1): BatchNorm2d(16, eps=1e-05, momentum=0.1, affine=True, track_running_stats=True)\n",
      "      (relu): ReLU(inplace=True)\n",
      "      (conv2): Conv2d(16, 16, kernel_size=(3, 3), stride=(1, 1), padding=(1, 1), bias=False)\n",
      "      (bn2): BatchNorm2d(16, eps=1e-05, momentum=0.1, affine=True, track_running_stats=True)\n",
      "      (se): SELayer(\n",
      "        (avg_pool): AdaptiveAvgPool2d(output_size=1)\n",
      "        (fc): Sequential(\n",
      "          (0): Linear(in_features=16, out_features=1, bias=False)\n",
      "          (1): ReLU(inplace=True)\n",
      "          (2): Linear(in_features=1, out_features=16, bias=False)\n",
      "          (3): Sigmoid()\n",
      "        )\n",
      "      )\n",
      "    )\n",
      "    (2): CifarSEBasicBlock(\n",
      "      (conv1): Conv2d(16, 16, kernel_size=(3, 3), stride=(1, 1), padding=(1, 1), bias=False)\n",
      "      (bn1): BatchNorm2d(16, eps=1e-05, momentum=0.1, affine=True, track_running_stats=True)\n",
      "      (relu): ReLU(inplace=True)\n",
      "      (conv2): Conv2d(16, 16, kernel_size=(3, 3), stride=(1, 1), padding=(1, 1), bias=False)\n",
      "      (bn2): BatchNorm2d(16, eps=1e-05, momentum=0.1, affine=True, track_running_stats=True)\n",
      "      (se): SELayer(\n",
      "        (avg_pool): AdaptiveAvgPool2d(output_size=1)\n",
      "        (fc): Sequential(\n",
      "          (0): Linear(in_features=16, out_features=1, bias=False)\n",
      "          (1): ReLU(inplace=True)\n",
      "          (2): Linear(in_features=1, out_features=16, bias=False)\n",
      "          (3): Sigmoid()\n",
      "        )\n",
      "      )\n",
      "    )\n",
      "  )\n",
      "  (layer2): Sequential(\n",
      "    (0): CifarSEBasicBlock(\n",
      "      (conv1): Conv2d(16, 32, kernel_size=(3, 3), stride=(2, 2), padding=(1, 1), bias=False)\n",
      "      (bn1): BatchNorm2d(32, eps=1e-05, momentum=0.1, affine=True, track_running_stats=True)\n",
      "      (relu): ReLU(inplace=True)\n",
      "      (conv2): Conv2d(32, 32, kernel_size=(3, 3), stride=(1, 1), padding=(1, 1), bias=False)\n",
      "      (bn2): BatchNorm2d(32, eps=1e-05, momentum=0.1, affine=True, track_running_stats=True)\n",
      "      (se): SELayer(\n",
      "        (avg_pool): AdaptiveAvgPool2d(output_size=1)\n",
      "        (fc): Sequential(\n",
      "          (0): Linear(in_features=32, out_features=2, bias=False)\n",
      "          (1): ReLU(inplace=True)\n",
      "          (2): Linear(in_features=2, out_features=32, bias=False)\n",
      "          (3): Sigmoid()\n",
      "        )\n",
      "      )\n",
      "      (downsample): Sequential(\n",
      "        (0): Conv2d(16, 32, kernel_size=(1, 1), stride=(2, 2), bias=False)\n",
      "        (1): BatchNorm2d(32, eps=1e-05, momentum=0.1, affine=True, track_running_stats=True)\n",
      "      )\n",
      "    )\n",
      "    (1): CifarSEBasicBlock(\n",
      "      (conv1): Conv2d(32, 32, kernel_size=(3, 3), stride=(1, 1), padding=(1, 1), bias=False)\n",
      "      (bn1): BatchNorm2d(32, eps=1e-05, momentum=0.1, affine=True, track_running_stats=True)\n",
      "      (relu): ReLU(inplace=True)\n",
      "      (conv2): Conv2d(32, 32, kernel_size=(3, 3), stride=(1, 1), padding=(1, 1), bias=False)\n",
      "      (bn2): BatchNorm2d(32, eps=1e-05, momentum=0.1, affine=True, track_running_stats=True)\n",
      "      (se): SELayer(\n",
      "        (avg_pool): AdaptiveAvgPool2d(output_size=1)\n",
      "        (fc): Sequential(\n",
      "          (0): Linear(in_features=32, out_features=2, bias=False)\n",
      "          (1): ReLU(inplace=True)\n",
      "          (2): Linear(in_features=2, out_features=32, bias=False)\n",
      "          (3): Sigmoid()\n",
      "        )\n",
      "      )\n",
      "    )\n",
      "    (2): CifarSEBasicBlock(\n",
      "      (conv1): Conv2d(32, 32, kernel_size=(3, 3), stride=(1, 1), padding=(1, 1), bias=False)\n",
      "      (bn1): BatchNorm2d(32, eps=1e-05, momentum=0.1, affine=True, track_running_stats=True)\n",
      "      (relu): ReLU(inplace=True)\n",
      "      (conv2): Conv2d(32, 32, kernel_size=(3, 3), stride=(1, 1), padding=(1, 1), bias=False)\n",
      "      (bn2): BatchNorm2d(32, eps=1e-05, momentum=0.1, affine=True, track_running_stats=True)\n",
      "      (se): SELayer(\n",
      "        (avg_pool): AdaptiveAvgPool2d(output_size=1)\n",
      "        (fc): Sequential(\n",
      "          (0): Linear(in_features=32, out_features=2, bias=False)\n",
      "          (1): ReLU(inplace=True)\n",
      "          (2): Linear(in_features=2, out_features=32, bias=False)\n",
      "          (3): Sigmoid()\n",
      "        )\n",
      "      )\n",
      "    )\n",
      "  )\n",
      "  (layer3): Sequential(\n",
      "    (0): CifarSEBasicBlock(\n",
      "      (conv1): Conv2d(32, 64, kernel_size=(3, 3), stride=(2, 2), padding=(1, 1), bias=False)\n",
      "      (bn1): BatchNorm2d(64, eps=1e-05, momentum=0.1, affine=True, track_running_stats=True)\n",
      "      (relu): ReLU(inplace=True)\n",
      "      (conv2): Conv2d(64, 64, kernel_size=(3, 3), stride=(1, 1), padding=(1, 1), bias=False)\n",
      "      (bn2): BatchNorm2d(64, eps=1e-05, momentum=0.1, affine=True, track_running_stats=True)\n",
      "      (se): SELayer(\n",
      "        (avg_pool): AdaptiveAvgPool2d(output_size=1)\n",
      "        (fc): Sequential(\n",
      "          (0): Linear(in_features=64, out_features=4, bias=False)\n",
      "          (1): ReLU(inplace=True)\n",
      "          (2): Linear(in_features=4, out_features=64, bias=False)\n",
      "          (3): Sigmoid()\n",
      "        )\n",
      "      )\n",
      "      (downsample): Sequential(\n",
      "        (0): Conv2d(32, 64, kernel_size=(1, 1), stride=(2, 2), bias=False)\n",
      "        (1): BatchNorm2d(64, eps=1e-05, momentum=0.1, affine=True, track_running_stats=True)\n",
      "      )\n",
      "    )\n",
      "    (1): CifarSEBasicBlock(\n",
      "      (conv1): Conv2d(64, 64, kernel_size=(3, 3), stride=(1, 1), padding=(1, 1), bias=False)\n",
      "      (bn1): BatchNorm2d(64, eps=1e-05, momentum=0.1, affine=True, track_running_stats=True)\n",
      "      (relu): ReLU(inplace=True)\n",
      "      (conv2): Conv2d(64, 64, kernel_size=(3, 3), stride=(1, 1), padding=(1, 1), bias=False)\n",
      "      (bn2): BatchNorm2d(64, eps=1e-05, momentum=0.1, affine=True, track_running_stats=True)\n",
      "      (se): SELayer(\n",
      "        (avg_pool): AdaptiveAvgPool2d(output_size=1)\n",
      "        (fc): Sequential(\n",
      "          (0): Linear(in_features=64, out_features=4, bias=False)\n",
      "          (1): ReLU(inplace=True)\n",
      "          (2): Linear(in_features=4, out_features=64, bias=False)\n",
      "          (3): Sigmoid()\n",
      "        )\n",
      "      )\n",
      "    )\n",
      "    (2): CifarSEBasicBlock(\n",
      "      (conv1): Conv2d(64, 64, kernel_size=(3, 3), stride=(1, 1), padding=(1, 1), bias=False)\n",
      "      (bn1): BatchNorm2d(64, eps=1e-05, momentum=0.1, affine=True, track_running_stats=True)\n",
      "      (relu): ReLU(inplace=True)\n",
      "      (conv2): Conv2d(64, 64, kernel_size=(3, 3), stride=(1, 1), padding=(1, 1), bias=False)\n",
      "      (bn2): BatchNorm2d(64, eps=1e-05, momentum=0.1, affine=True, track_running_stats=True)\n",
      "      (se): SELayer(\n",
      "        (avg_pool): AdaptiveAvgPool2d(output_size=1)\n",
      "        (fc): Sequential(\n",
      "          (0): Linear(in_features=64, out_features=4, bias=False)\n",
      "          (1): ReLU(inplace=True)\n",
      "          (2): Linear(in_features=4, out_features=64, bias=False)\n",
      "          (3): Sigmoid()\n",
      "        )\n",
      "      )\n",
      "    )\n",
      "  )\n",
      "  (avgpool): AdaptiveAvgPool2d(output_size=1)\n",
      "  (fc): Sequential(\n",
      "    (0): Linear(in_features=64, out_features=64, bias=True)\n",
      "    (1): LeakyReLU(negative_slope=0.01)\n",
      "    (2): Dropout(p=0.5, inplace=False)\n",
      "    (3): Linear(in_features=64, out_features=6, bias=True)\n",
      "  )\n",
      ")\n",
      "Conv2d(1, 16, kernel_size=(3, 3), stride=(1, 1), padding=(1, 1), bias=False) 初始化\n",
      "Conv2d(16, 16, kernel_size=(3, 3), stride=(1, 1), padding=(1, 1), bias=False) 初始化\n",
      "Conv2d(16, 16, kernel_size=(3, 3), stride=(1, 1), padding=(1, 1), bias=False) 初始化\n",
      "Linear(in_features=16, out_features=1, bias=False) 初始化\n",
      "Linear(in_features=1, out_features=16, bias=False) 初始化\n",
      "Conv2d(16, 16, kernel_size=(3, 3), stride=(1, 1), padding=(1, 1), bias=False) 初始化\n",
      "Conv2d(16, 16, kernel_size=(3, 3), stride=(1, 1), padding=(1, 1), bias=False) 初始化\n",
      "Linear(in_features=16, out_features=1, bias=False) 初始化\n",
      "Linear(in_features=1, out_features=16, bias=False) 初始化\n",
      "Conv2d(16, 16, kernel_size=(3, 3), stride=(1, 1), padding=(1, 1), bias=False) 初始化\n",
      "Conv2d(16, 16, kernel_size=(3, 3), stride=(1, 1), padding=(1, 1), bias=False) 初始化\n",
      "Linear(in_features=16, out_features=1, bias=False) 初始化\n",
      "Linear(in_features=1, out_features=16, bias=False) 初始化\n",
      "Conv2d(16, 32, kernel_size=(3, 3), stride=(2, 2), padding=(1, 1), bias=False) 初始化\n",
      "Conv2d(32, 32, kernel_size=(3, 3), stride=(1, 1), padding=(1, 1), bias=False) 初始化\n",
      "Linear(in_features=32, out_features=2, bias=False) 初始化\n",
      "Linear(in_features=2, out_features=32, bias=False) 初始化\n",
      "Conv2d(16, 32, kernel_size=(1, 1), stride=(2, 2), bias=False) 初始化\n",
      "Conv2d(32, 32, kernel_size=(3, 3), stride=(1, 1), padding=(1, 1), bias=False) 初始化\n",
      "Conv2d(32, 32, kernel_size=(3, 3), stride=(1, 1), padding=(1, 1), bias=False) 初始化\n",
      "Linear(in_features=32, out_features=2, bias=False) 初始化\n",
      "Linear(in_features=2, out_features=32, bias=False) 初始化\n",
      "Conv2d(32, 32, kernel_size=(3, 3), stride=(1, 1), padding=(1, 1), bias=False) 初始化\n",
      "Conv2d(32, 32, kernel_size=(3, 3), stride=(1, 1), padding=(1, 1), bias=False) 初始化\n",
      "Linear(in_features=32, out_features=2, bias=False) 初始化\n",
      "Linear(in_features=2, out_features=32, bias=False) 初始化\n",
      "Conv2d(32, 64, kernel_size=(3, 3), stride=(2, 2), padding=(1, 1), bias=False) 初始化\n",
      "Conv2d(64, 64, kernel_size=(3, 3), stride=(1, 1), padding=(1, 1), bias=False) 初始化\n",
      "Linear(in_features=64, out_features=4, bias=False) 初始化\n",
      "Linear(in_features=4, out_features=64, bias=False) 初始化\n",
      "Conv2d(32, 64, kernel_size=(1, 1), stride=(2, 2), bias=False) 初始化\n",
      "Conv2d(64, 64, kernel_size=(3, 3), stride=(1, 1), padding=(1, 1), bias=False) 初始化\n",
      "Conv2d(64, 64, kernel_size=(3, 3), stride=(1, 1), padding=(1, 1), bias=False) 初始化\n",
      "Linear(in_features=64, out_features=4, bias=False) 初始化\n",
      "Linear(in_features=4, out_features=64, bias=False) 初始化\n",
      "Conv2d(64, 64, kernel_size=(3, 3), stride=(1, 1), padding=(1, 1), bias=False) 初始化\n",
      "Conv2d(64, 64, kernel_size=(3, 3), stride=(1, 1), padding=(1, 1), bias=False) 初始化\n",
      "Linear(in_features=64, out_features=4, bias=False) 初始化\n",
      "Linear(in_features=4, out_features=64, bias=False) 初始化\n",
      "Linear(in_features=64, out_features=64, bias=True) 初始化\n",
      "Linear(in_features=64, out_features=6, bias=True) 初始化\n"
     ]
    },
    {
     "name": "stdout",
     "output_type": "stream",
     "text": [
      "torch.Size([32, 1, 80, 157]) torch.Size([32, 6])\n"
     ]
    },
    {
     "data": {
      "text/plain": [
       "torch.Size([32, 6])"
      ]
     },
     "execution_count": 89,
     "metadata": {},
     "output_type": "execute_result"
    }
   ],
   "source": [
    "import torch.hub\n",
    "model = torch.hub.load('moskomule/senet.pytorch','se_resnet20',num_classes=64)\n",
    "model.conv1 = nn.Conv2d(1, 16, kernel_size=(3, 3), stride=(1, 1), padding=(1, 1), bias=False)\n",
    "model.fc = nn.Sequential(\n",
    "    nn.Linear(64,64),\n",
    "    nn.LeakyReLU(),\n",
    "    nn.Dropout(0.5),#三個臭皮匠勝過一個諸葛亮\n",
    "    nn.Linear(64,6))\n",
    "print(model)\n",
    "for m in model.modules():\n",
    "    if isinstance(m, (nn.Conv2d, nn.Linear)):\n",
    "        print(m,'初始化')\n",
    "        nn.init.xavier_uniform_(m.weight)\n",
    "# forward test\n",
    "y_hat = model(bx)\n",
    "print(bx.shape,y_hat.shape)\n",
    "y_hat.shape"
   ]
  },
  {
   "cell_type": "markdown",
   "metadata": {},
   "source": [
    "# def train loop"
   ]
  },
  {
   "cell_type": "code",
   "execution_count": 90,
   "metadata": {},
   "outputs": [],
   "source": [
    "from sklearn.metrics import accuracy_score\n",
    "\n",
    "def train_step(model,train_iter,loss_fn,optimizer,device):\n",
    "        model.train()\n",
    "        total_loss = 0\n",
    "        total_auc = 0\n",
    "        for t,(x,y) in enumerate(train_iter):\n",
    "            x,y = x.to(device),y.to(device)\n",
    "            y_hat = model(x)\n",
    "            total_auc += calculate_auc_score(model,x,y)\n",
    "            loss = loss_fn(y_hat,y)\n",
    "            loss.backward()\n",
    "            optimizer.step()\n",
    "            optimizer.zero_grad()\n",
    "            total_loss += loss.item()\n",
    "        return total_loss/(t+1) ,total_auc/(t+1)\n",
    "\n",
    "def valid_step(model,vaild_iter,loss_fn,optimizer,device):\n",
    "    model.eval()\n",
    "    total_loss = 0\n",
    "    total_auc = 0\n",
    "    for t,(x,y) in enumerate(vaild_iter):\n",
    "        x,y = x.to(device),y.to(device)\n",
    "        y_hat = model(x)\n",
    "        total_auc += calculate_auc_score(model,x,y)\n",
    "        loss = loss_fn(y_hat,y)\n",
    "        total_loss += loss.item()\n",
    "    return total_loss/(t+1) ,total_auc/(t+1)\n",
    "\n",
    "def softmax2onehot(probs):\n",
    "  probs = torch.FloatTensor(probs)\n",
    "  max_idx = torch.argmax(probs, 1, keepdim=True)\n",
    "  one_hot = torch.FloatTensor(probs.shape)\n",
    "  one_hot.zero_()\n",
    "  one_hot.scatter_(1, max_idx, 1)\n",
    "  return one_hot.detach().cpu().numpy().astype(int)\n",
    "\n",
    "# calculate roc_auc_score\n",
    "def calculate_auc_score(model,x,y):\n",
    "    y_hat = model(x).argmax(dim=1).detach().cpu().numpy()\n",
    "    y = y.argmax(dim=1).detach().cpu().numpy()\n",
    "    return accuracy_score(y,y_hat)\n",
    "\n",
    "\n",
    "# train_loop\n",
    "def train(model,train_iter,vaild_iter,optimizer,loss_fn,max_epochs=300,log_interval=10,device=None):\n",
    "        history = {\n",
    "            'train_loss':[],\n",
    "            'valid_loss':[],\n",
    "            'train_auc':[],\n",
    "            'valid_auc':[],\n",
    "            }\n",
    "        current_auc = -np.inf\n",
    "        best_model = None\n",
    "        for i in tqdm(range(max_epochs)):\n",
    "            # step\n",
    "            train_loss,train_auc = train_step(model,train_iter,loss_fn,optimizer,device)\n",
    "            valid_loss,valid_auc = valid_step(model,vaild_iter,loss_fn,optimizer,device)\n",
    "            # record history\n",
    "            history['train_loss'].append(train_loss)\n",
    "            history['valid_loss'].append(valid_loss)\n",
    "            history['train_auc'].append(train_auc)\n",
    "            history['valid_auc'].append(valid_auc)\n",
    "            # print info\n",
    "            if i % log_interval == 0:\n",
    "                print(\"epoch:{} train_loss:{:.4f} valid_loss:{:.4f} train_auc:{:.4f} valid_auc:{:.4f}\".format(\n",
    "                    i,history['train_loss'][-1],history['valid_loss'][-1],history['train_auc'][-1],history['valid_auc'][-1])\n",
    "                    )\n",
    "            # record the best model\n",
    "            if history['valid_auc'][-1] >= current_auc:\n",
    "                best_model = deepcopy(model.eval())\n",
    "                current_auc = history['valid_auc'][-1]\n",
    "                print('有進步')\n",
    "            gc.collect()\n",
    "        # copy best model\n",
    "        model = deepcopy(best_model.eval())\n",
    "        \n",
    "        # plot\n",
    "        plt.plot(history['train_loss'],label='train_loss')\n",
    "        plt.plot(history['valid_loss'],label='valid_loss')\n",
    "        plt.legend()\n",
    "        plt.savefig('loss.jpg')\n",
    "        plt.show()\n",
    "        \n",
    "        \n",
    "        plt.plot(history['train_auc'],label='train_auc')\n",
    "        plt.plot(history['valid_auc'],label='valid_auc')\n",
    "        plt.legend()\n",
    "        plt.savefig('auc.jpg')\n",
    "        plt.show()\n",
    "        \n",
    "        \n",
    "        return model"
   ]
  },
  {
   "cell_type": "code",
   "execution_count": 91,
   "metadata": {},
   "outputs": [],
   "source": [
    "device = 'cuda:0'\n",
    "model = model.to(device)\n",
    "model = torch.nn.DataParallel(model, device_ids=[0, 1, 2 ,3])"
   ]
  },
  {
   "cell_type": "code",
   "execution_count": 92,
   "metadata": {},
   "outputs": [],
   "source": [
    "loss_fn = nn.BCEWithLogitsLoss()"
   ]
  },
  {
   "cell_type": "code",
   "execution_count": 93,
   "metadata": {},
   "outputs": [
    {
     "name": "stderr",
     "output_type": "stream",
     "text": [
      " 10%|█         | 1/10 [00:34<05:13, 34.88s/it]"
     ]
    },
    {
     "name": "stdout",
     "output_type": "stream",
     "text": [
      "epoch:0 train_loss:0.3402 valid_loss:0.3927 train_auc:0.5377 valid_auc:0.4400\n",
      "有進步\n"
     ]
    },
    {
     "name": "stderr",
     "output_type": "stream",
     "text": [
      "\r",
      " 20%|██        | 2/10 [01:10<04:41, 35.14s/it]"
     ]
    },
    {
     "name": "stdout",
     "output_type": "stream",
     "text": [
      "epoch:1 train_loss:0.2712 valid_loss:0.3350 train_auc:0.6505 valid_auc:0.5400\n",
      "有進步\n"
     ]
    },
    {
     "name": "stderr",
     "output_type": "stream",
     "text": [
      "\r",
      " 30%|███       | 3/10 [01:47<04:11, 35.92s/it]"
     ]
    },
    {
     "name": "stdout",
     "output_type": "stream",
     "text": [
      "epoch:2 train_loss:0.2312 valid_loss:0.2268 train_auc:0.7159 valid_auc:0.6534\n",
      "有進步\n"
     ]
    },
    {
     "name": "stderr",
     "output_type": "stream",
     "text": [
      "\r",
      " 40%|████      | 4/10 [02:22<03:34, 35.76s/it]"
     ]
    },
    {
     "name": "stdout",
     "output_type": "stream",
     "text": [
      "epoch:3 train_loss:0.2092 valid_loss:0.2061 train_auc:0.7488 valid_auc:0.7191\n",
      "有進步\n"
     ]
    },
    {
     "name": "stderr",
     "output_type": "stream",
     "text": [
      "\r",
      " 50%|█████     | 5/10 [02:58<02:58, 35.67s/it]"
     ]
    },
    {
     "name": "stdout",
     "output_type": "stream",
     "text": [
      "epoch:4 train_loss:0.1879 valid_loss:0.1770 train_auc:0.7764 valid_auc:0.8032\n",
      "有進步\n"
     ]
    },
    {
     "name": "stderr",
     "output_type": "stream",
     "text": [
      "\r",
      " 60%|██████    | 6/10 [03:33<02:21, 35.48s/it]"
     ]
    },
    {
     "name": "stdout",
     "output_type": "stream",
     "text": [
      "epoch:5 train_loss:0.1755 valid_loss:0.1677 train_auc:0.7934 valid_auc:0.8009\n"
     ]
    },
    {
     "name": "stderr",
     "output_type": "stream",
     "text": [
      "\r",
      " 70%|███████   | 7/10 [04:10<01:47, 35.96s/it]"
     ]
    },
    {
     "name": "stdout",
     "output_type": "stream",
     "text": [
      "epoch:6 train_loss:0.1637 valid_loss:0.1269 train_auc:0.8082 valid_auc:0.8627\n",
      "有進步\n"
     ]
    },
    {
     "name": "stderr",
     "output_type": "stream",
     "text": [
      "\r",
      " 80%|████████  | 8/10 [04:45<01:11, 35.81s/it]"
     ]
    },
    {
     "name": "stdout",
     "output_type": "stream",
     "text": [
      "epoch:7 train_loss:0.1545 valid_loss:0.1202 train_auc:0.8227 valid_auc:0.8544\n"
     ]
    },
    {
     "name": "stderr",
     "output_type": "stream",
     "text": [
      "\r",
      " 90%|█████████ | 9/10 [05:20<00:35, 35.60s/it]"
     ]
    },
    {
     "name": "stdout",
     "output_type": "stream",
     "text": [
      "epoch:8 train_loss:0.1484 valid_loss:0.1339 train_auc:0.8315 valid_auc:0.8599\n"
     ]
    },
    {
     "name": "stderr",
     "output_type": "stream",
     "text": [
      "100%|██████████| 10/10 [05:57<00:00, 35.74s/it]"
     ]
    },
    {
     "name": "stdout",
     "output_type": "stream",
     "text": [
      "epoch:9 train_loss:0.1417 valid_loss:0.1138 train_auc:0.8341 valid_auc:0.8692\n",
      "有進步\n"
     ]
    },
    {
     "name": "stderr",
     "output_type": "stream",
     "text": [
      "\n"
     ]
    },
    {
     "data": {
      "image/png": "[encoded data removed]",
      "text/plain": [
       "<Figure size 432x288 with 1 Axes>"
      ]
     },
     "metadata": {
      "needs_background": "light"
     },
     "output_type": "display_data"
    },
    {
     "data": {
      "image/png": "[encoded data removed]",
      "text/plain": [
       "<Figure size 432x288 with 1 Axes>"
      ]
     },
     "metadata": {
      "needs_background": "light"
     },
     "output_type": "display_data"
    }
   ],
   "source": [
    "optimizer = Adam(model.parameters(),lr=1e-2)\n",
    "model = train(model,train_iter,vaild_iter,optimizer,loss_fn,max_epochs=10,log_interval=1,device=device)"
   ]
  },
  {
   "cell_type": "code",
   "execution_count": 94,
   "metadata": {},
   "outputs": [
    {
     "name": "stderr",
     "output_type": "stream",
     "text": [
      " 10%|█         | 1/10 [00:35<05:18, 35.37s/it]"
     ]
    },
    {
     "name": "stdout",
     "output_type": "stream",
     "text": [
      "epoch:0 train_loss:0.1116 valid_loss:0.0988 train_auc:0.8712 valid_auc:0.9013\n",
      "有進步\n"
     ]
    },
    {
     "name": "stderr",
     "output_type": "stream",
     "text": [
      "\r",
      " 20%|██        | 2/10 [01:10<04:43, 35.44s/it]"
     ]
    },
    {
     "name": "stdout",
     "output_type": "stream",
     "text": [
      "epoch:1 train_loss:0.0991 valid_loss:0.1092 train_auc:0.8865 valid_auc:0.8956\n"
     ]
    },
    {
     "name": "stderr",
     "output_type": "stream",
     "text": [
      "\r",
      " 30%|███       | 3/10 [01:47<04:10, 35.79s/it]"
     ]
    },
    {
     "name": "stdout",
     "output_type": "stream",
     "text": [
      "epoch:2 train_loss:0.0970 valid_loss:0.1114 train_auc:0.8926 valid_auc:0.9021\n",
      "有進步\n"
     ]
    },
    {
     "name": "stderr",
     "output_type": "stream",
     "text": [
      "\r",
      " 40%|████      | 4/10 [02:22<03:34, 35.79s/it]"
     ]
    },
    {
     "name": "stdout",
     "output_type": "stream",
     "text": [
      "epoch:3 train_loss:0.0925 valid_loss:0.1075 train_auc:0.8992 valid_auc:0.9029\n",
      "有進步\n"
     ]
    },
    {
     "name": "stderr",
     "output_type": "stream",
     "text": [
      "\r",
      " 50%|█████     | 5/10 [02:58<02:57, 35.59s/it]"
     ]
    },
    {
     "name": "stdout",
     "output_type": "stream",
     "text": [
      "epoch:4 train_loss:0.0897 valid_loss:0.1149 train_auc:0.9045 valid_auc:0.8931\n"
     ]
    },
    {
     "name": "stderr",
     "output_type": "stream",
     "text": [
      "\r",
      " 60%|██████    | 6/10 [03:33<02:21, 35.37s/it]"
     ]
    },
    {
     "name": "stdout",
     "output_type": "stream",
     "text": [
      "epoch:5 train_loss:0.0836 valid_loss:0.1127 train_auc:0.9096 valid_auc:0.9013\n"
     ]
    },
    {
     "name": "stderr",
     "output_type": "stream",
     "text": [
      "\r",
      " 70%|███████   | 7/10 [04:10<01:48, 36.04s/it]"
     ]
    },
    {
     "name": "stdout",
     "output_type": "stream",
     "text": [
      "epoch:6 train_loss:0.0818 valid_loss:0.1178 train_auc:0.9104 valid_auc:0.8979\n"
     ]
    },
    {
     "name": "stderr",
     "output_type": "stream",
     "text": [
      "\r",
      " 80%|████████  | 8/10 [04:45<01:11, 35.85s/it]"
     ]
    },
    {
     "name": "stdout",
     "output_type": "stream",
     "text": [
      "epoch:7 train_loss:0.0762 valid_loss:0.1250 train_auc:0.9140 valid_auc:0.8914\n"
     ]
    },
    {
     "name": "stderr",
     "output_type": "stream",
     "text": [
      "\r",
      " 90%|█████████ | 9/10 [05:21<00:35, 35.70s/it]"
     ]
    },
    {
     "name": "stdout",
     "output_type": "stream",
     "text": [
      "epoch:8 train_loss:0.0748 valid_loss:0.1261 train_auc:0.9191 valid_auc:0.8939\n"
     ]
    },
    {
     "name": "stderr",
     "output_type": "stream",
     "text": [
      "100%|██████████| 10/10 [05:58<00:00, 35.82s/it]"
     ]
    },
    {
     "name": "stdout",
     "output_type": "stream",
     "text": [
      "epoch:9 train_loss:0.0718 valid_loss:0.1362 train_auc:0.9225 valid_auc:0.8938\n"
     ]
    },
    {
     "name": "stderr",
     "output_type": "stream",
     "text": [
      "\n"
     ]
    },
    {
     "data": {
      "image/png": "[encoded data removed]",
      "text/plain": [
       "<Figure size 432x288 with 1 Axes>"
      ]
     },
     "metadata": {
      "needs_background": "light"
     },
     "output_type": "display_data"
    },
    {
     "data": {
      "image/png": "[encoded data removed]",
      "text/plain": [
       "<Figure size 432x288 with 1 Axes>"
      ]
     },
     "metadata": {
      "needs_background": "light"
     },
     "output_type": "display_data"
    }
   ],
   "source": [
    "optimizer = Adam(model.parameters(),lr=1e-3)\n",
    "model = train(model,train_iter,vaild_iter,optimizer,loss_fn,max_epochs=10,log_interval=1,device=device)"
   ]
  },
  {
   "cell_type": "code",
   "execution_count": 95,
   "metadata": {},
   "outputs": [],
   "source": [
    "#optimizer = Adam(model.parameters(),lr=1e-4)\n",
    "#model = train(model,train_iter,vaild_iter,optimizer,loss_fn,max_epochs=10,log_interval=1,device=device)"
   ]
  },
  {
   "cell_type": "markdown",
   "metadata": {},
   "source": [
    "# model infernce test"
   ]
  },
  {
   "cell_type": "code",
   "execution_count": 96,
   "metadata": {},
   "outputs": [
    {
     "name": "stderr",
     "output_type": "stream",
     "text": [
      "100%|██████████| 313/313 [00:12<00:00, 25.92it/s]"
     ]
    },
    {
     "name": "stdout",
     "output_type": "stream",
     "text": [
      "0.9046\n"
     ]
    },
    {
     "name": "stderr",
     "output_type": "stream",
     "text": [
      "\n"
     ]
    },
    {
     "data": {
      "text/html": [
       "<div>\n",
       "<style scoped>\n",
       "    .dataframe tbody tr th:only-of-type {\n",
       "        vertical-align: middle;\n",
       "    }\n",
       "\n",
       "    .dataframe tbody tr th {\n",
       "        vertical-align: top;\n",
       "    }\n",
       "\n",
       "    .dataframe thead th {\n",
       "        text-align: right;\n",
       "    }\n",
       "</style>\n",
       "<table border=\"1\" class=\"dataframe\">\n",
       "  <thead>\n",
       "    <tr style=\"text-align: right;\">\n",
       "      <th></th>\n",
       "      <th>Barking</th>\n",
       "      <th>Howling</th>\n",
       "      <th>Crying</th>\n",
       "      <th>COSmoke</th>\n",
       "      <th>GlassBreaking</th>\n",
       "      <th>Dishes</th>\n",
       "    </tr>\n",
       "  </thead>\n",
       "  <tbody>\n",
       "    <tr>\n",
       "      <th>0</th>\n",
       "      <td>1084</td>\n",
       "      <td>73</td>\n",
       "      <td>34</td>\n",
       "      <td>1</td>\n",
       "      <td>45</td>\n",
       "      <td>86</td>\n",
       "    </tr>\n",
       "    <tr>\n",
       "      <th>1</th>\n",
       "      <td>21</td>\n",
       "      <td>1447</td>\n",
       "      <td>21</td>\n",
       "      <td>1</td>\n",
       "      <td>1</td>\n",
       "      <td>19</td>\n",
       "    </tr>\n",
       "    <tr>\n",
       "      <th>2</th>\n",
       "      <td>75</td>\n",
       "      <td>138</td>\n",
       "      <td>2047</td>\n",
       "      <td>16</td>\n",
       "      <td>0</td>\n",
       "      <td>81</td>\n",
       "    </tr>\n",
       "    <tr>\n",
       "      <th>3</th>\n",
       "      <td>8</td>\n",
       "      <td>22</td>\n",
       "      <td>8</td>\n",
       "      <td>837</td>\n",
       "      <td>4</td>\n",
       "      <td>20</td>\n",
       "    </tr>\n",
       "    <tr>\n",
       "      <th>4</th>\n",
       "      <td>12</td>\n",
       "      <td>0</td>\n",
       "      <td>0</td>\n",
       "      <td>5</td>\n",
       "      <td>322</td>\n",
       "      <td>41</td>\n",
       "    </tr>\n",
       "    <tr>\n",
       "      <th>5</th>\n",
       "      <td>64</td>\n",
       "      <td>36</td>\n",
       "      <td>42</td>\n",
       "      <td>9</td>\n",
       "      <td>71</td>\n",
       "      <td>3309</td>\n",
       "    </tr>\n",
       "  </tbody>\n",
       "</table>\n",
       "</div>"
      ],
      "text/plain": [
       "   Barking  Howling  Crying  COSmoke  GlassBreaking  Dishes\n",
       "0     1084       73      34        1             45      86\n",
       "1       21     1447      21        1              1      19\n",
       "2       75      138    2047       16              0      81\n",
       "3        8       22       8      837              4      20\n",
       "4       12        0       0        5            322      41\n",
       "5       64       36      42        9             71    3309"
      ]
     },
     "execution_count": 96,
     "metadata": {},
     "output_type": "execute_result"
    }
   ],
   "source": [
    "model.eval()\n",
    "cm,acc = plot_confusion_matrix(model.to(device),train_iter)\n",
    "print(acc)\n",
    "cm"
   ]
  },
  {
   "cell_type": "code",
   "execution_count": 97,
   "metadata": {},
   "outputs": [
    {
     "name": "stderr",
     "output_type": "stream",
     "text": [
      "100%|██████████| 38/38 [00:02<00:00, 17.17it/s]"
     ]
    },
    {
     "name": "stdout",
     "output_type": "stream",
     "text": [
      "0.902418682235196\n"
     ]
    },
    {
     "name": "stderr",
     "output_type": "stream",
     "text": [
      "\n"
     ]
    },
    {
     "data": {
      "text/html": [
       "<div>\n",
       "<style scoped>\n",
       "    .dataframe tbody tr th:only-of-type {\n",
       "        vertical-align: middle;\n",
       "    }\n",
       "\n",
       "    .dataframe tbody tr th {\n",
       "        vertical-align: top;\n",
       "    }\n",
       "\n",
       "    .dataframe thead th {\n",
       "        text-align: right;\n",
       "    }\n",
       "</style>\n",
       "<table border=\"1\" class=\"dataframe\">\n",
       "  <thead>\n",
       "    <tr style=\"text-align: right;\">\n",
       "      <th></th>\n",
       "      <th>Barking</th>\n",
       "      <th>Howling</th>\n",
       "      <th>Crying</th>\n",
       "      <th>COSmoke</th>\n",
       "      <th>GlassBreaking</th>\n",
       "      <th>Dishes</th>\n",
       "    </tr>\n",
       "  </thead>\n",
       "  <tbody>\n",
       "    <tr>\n",
       "      <th>0</th>\n",
       "      <td>175</td>\n",
       "      <td>3</td>\n",
       "      <td>4</td>\n",
       "      <td>2</td>\n",
       "      <td>16</td>\n",
       "      <td>0</td>\n",
       "    </tr>\n",
       "    <tr>\n",
       "      <th>1</th>\n",
       "      <td>6</td>\n",
       "      <td>168</td>\n",
       "      <td>15</td>\n",
       "      <td>0</td>\n",
       "      <td>0</td>\n",
       "      <td>1</td>\n",
       "    </tr>\n",
       "    <tr>\n",
       "      <th>2</th>\n",
       "      <td>13</td>\n",
       "      <td>25</td>\n",
       "      <td>175</td>\n",
       "      <td>1</td>\n",
       "      <td>0</td>\n",
       "      <td>5</td>\n",
       "    </tr>\n",
       "    <tr>\n",
       "      <th>3</th>\n",
       "      <td>0</td>\n",
       "      <td>1</td>\n",
       "      <td>1</td>\n",
       "      <td>194</td>\n",
       "      <td>0</td>\n",
       "      <td>0</td>\n",
       "    </tr>\n",
       "    <tr>\n",
       "      <th>4</th>\n",
       "      <td>1</td>\n",
       "      <td>0</td>\n",
       "      <td>0</td>\n",
       "      <td>1</td>\n",
       "      <td>181</td>\n",
       "      <td>5</td>\n",
       "    </tr>\n",
       "    <tr>\n",
       "      <th>5</th>\n",
       "      <td>5</td>\n",
       "      <td>3</td>\n",
       "      <td>5</td>\n",
       "      <td>2</td>\n",
       "      <td>2</td>\n",
       "      <td>189</td>\n",
       "    </tr>\n",
       "  </tbody>\n",
       "</table>\n",
       "</div>"
      ],
      "text/plain": [
       "   Barking  Howling  Crying  COSmoke  GlassBreaking  Dishes\n",
       "0      175        3       4        2             16       0\n",
       "1        6      168      15        0              0       1\n",
       "2       13       25     175        1              0       5\n",
       "3        0        1       1      194              0       0\n",
       "4        1        0       0        1            181       5\n",
       "5        5        3       5        2              2     189"
      ]
     },
     "execution_count": 97,
     "metadata": {},
     "output_type": "execute_result"
    }
   ],
   "source": [
    "cm,acc = plot_confusion_matrix(model.to(device),vaild_iter)\n",
    "print(acc)\n",
    "cm"
   ]
  },
  {
   "cell_type": "markdown",
   "metadata": {},
   "source": [
    "# submit"
   ]
  },
  {
   "cell_type": "code",
   "execution_count": 98,
   "metadata": {},
   "outputs": [
    {
     "name": "stdout",
     "output_type": "stream",
     "text": [
      "10000\n"
     ]
    }
   ],
   "source": [
    "print(X_test.shape[0])"
   ]
  },
  {
   "cell_type": "code",
   "execution_count": 99,
   "metadata": {},
   "outputs": [
    {
     "name": "stdout",
     "output_type": "stream",
     "text": [
      "10000\n"
     ]
    }
   ],
   "source": [
    "print(X_train.shape[0])"
   ]
  },
  {
   "cell_type": "code",
   "execution_count": 100,
   "metadata": {},
   "outputs": [
    {
     "name": "stdout",
     "output_type": "stream",
     "text": [
      "1199\n"
     ]
    }
   ],
   "source": [
    "print(X_valid.shape[0])"
   ]
  },
  {
   "cell_type": "code",
   "execution_count": 101,
   "metadata": {},
   "outputs": [
    {
     "name": "stderr",
     "output_type": "stream",
     "text": [
      "100%|██████████| 100/100 [00:03<00:00, 25.11it/s]\n"
     ]
    },
    {
     "data": {
      "text/html": [
       "<div>\n",
       "<style scoped>\n",
       "    .dataframe tbody tr th:only-of-type {\n",
       "        vertical-align: middle;\n",
       "    }\n",
       "\n",
       "    .dataframe tbody tr th {\n",
       "        vertical-align: top;\n",
       "    }\n",
       "\n",
       "    .dataframe thead th {\n",
       "        text-align: right;\n",
       "    }\n",
       "</style>\n",
       "<table border=\"1\" class=\"dataframe\">\n",
       "  <thead>\n",
       "    <tr style=\"text-align: right;\">\n",
       "      <th></th>\n",
       "      <th>Filename</th>\n",
       "      <th>Barking</th>\n",
       "      <th>Howling</th>\n",
       "      <th>Crying</th>\n",
       "      <th>COSmoke</th>\n",
       "      <th>GlassBreaking</th>\n",
       "      <th>Other</th>\n",
       "    </tr>\n",
       "  </thead>\n",
       "  <tbody>\n",
       "    <tr>\n",
       "      <th>0</th>\n",
       "      <td>public_00001</td>\n",
       "      <td>-7.939251</td>\n",
       "      <td>-9.543036</td>\n",
       "      <td>-8.490507</td>\n",
       "      <td>-12.464724</td>\n",
       "      <td>-3.987186</td>\n",
       "      <td>4.325692</td>\n",
       "    </tr>\n",
       "    <tr>\n",
       "      <th>1</th>\n",
       "      <td>public_00002</td>\n",
       "      <td>-9.493719</td>\n",
       "      <td>-9.338923</td>\n",
       "      <td>-9.646595</td>\n",
       "      <td>-22.629076</td>\n",
       "      <td>-7.828061</td>\n",
       "      <td>10.968021</td>\n",
       "    </tr>\n",
       "    <tr>\n",
       "      <th>2</th>\n",
       "      <td>public_00003</td>\n",
       "      <td>3.567497</td>\n",
       "      <td>-7.542819</td>\n",
       "      <td>-7.363988</td>\n",
       "      <td>-12.509758</td>\n",
       "      <td>-6.800704</td>\n",
       "      <td>-10.443600</td>\n",
       "    </tr>\n",
       "    <tr>\n",
       "      <th>3</th>\n",
       "      <td>public_00004</td>\n",
       "      <td>-7.604876</td>\n",
       "      <td>-11.053317</td>\n",
       "      <td>-6.949267</td>\n",
       "      <td>-16.796406</td>\n",
       "      <td>-5.625511</td>\n",
       "      <td>6.550327</td>\n",
       "    </tr>\n",
       "    <tr>\n",
       "      <th>4</th>\n",
       "      <td>public_00005</td>\n",
       "      <td>-0.995990</td>\n",
       "      <td>-3.873055</td>\n",
       "      <td>0.132129</td>\n",
       "      <td>-10.236265</td>\n",
       "      <td>-11.325241</td>\n",
       "      <td>-5.721436</td>\n",
       "    </tr>\n",
       "    <tr>\n",
       "      <th>...</th>\n",
       "      <td>...</td>\n",
       "      <td>...</td>\n",
       "      <td>...</td>\n",
       "      <td>...</td>\n",
       "      <td>...</td>\n",
       "      <td>...</td>\n",
       "      <td>...</td>\n",
       "    </tr>\n",
       "    <tr>\n",
       "      <th>29995</th>\n",
       "      <td>private_19996</td>\n",
       "      <td>0.166600</td>\n",
       "      <td>0.166600</td>\n",
       "      <td>0.166600</td>\n",
       "      <td>0.166600</td>\n",
       "      <td>0.166600</td>\n",
       "      <td>0.167000</td>\n",
       "    </tr>\n",
       "    <tr>\n",
       "      <th>29996</th>\n",
       "      <td>private_19997</td>\n",
       "      <td>0.166600</td>\n",
       "      <td>0.166600</td>\n",
       "      <td>0.166600</td>\n",
       "      <td>0.166600</td>\n",
       "      <td>0.166600</td>\n",
       "      <td>0.167000</td>\n",
       "    </tr>\n",
       "    <tr>\n",
       "      <th>29997</th>\n",
       "      <td>private_19998</td>\n",
       "      <td>0.166600</td>\n",
       "      <td>0.166600</td>\n",
       "      <td>0.166600</td>\n",
       "      <td>0.166600</td>\n",
       "      <td>0.166600</td>\n",
       "      <td>0.167000</td>\n",
       "    </tr>\n",
       "    <tr>\n",
       "      <th>29998</th>\n",
       "      <td>private_19999</td>\n",
       "      <td>0.166600</td>\n",
       "      <td>0.166600</td>\n",
       "      <td>0.166600</td>\n",
       "      <td>0.166600</td>\n",
       "      <td>0.166600</td>\n",
       "      <td>0.167000</td>\n",
       "    </tr>\n",
       "    <tr>\n",
       "      <th>29999</th>\n",
       "      <td>private_20000</td>\n",
       "      <td>0.166600</td>\n",
       "      <td>0.166600</td>\n",
       "      <td>0.166600</td>\n",
       "      <td>0.166600</td>\n",
       "      <td>0.166600</td>\n",
       "      <td>0.167000</td>\n",
       "    </tr>\n",
       "  </tbody>\n",
       "</table>\n",
       "<p>30000 rows × 7 columns</p>\n",
       "</div>"
      ],
      "text/plain": [
       "            Filename   Barking    Howling    Crying    COSmoke  GlassBreaking  \\\n",
       "0       public_00001 -7.939251  -9.543036 -8.490507 -12.464724      -3.987186   \n",
       "1       public_00002 -9.493719  -9.338923 -9.646595 -22.629076      -7.828061   \n",
       "2       public_00003  3.567497  -7.542819 -7.363988 -12.509758      -6.800704   \n",
       "3       public_00004 -7.604876 -11.053317 -6.949267 -16.796406      -5.625511   \n",
       "4       public_00005 -0.995990  -3.873055  0.132129 -10.236265     -11.325241   \n",
       "...              ...       ...        ...       ...        ...            ...   \n",
       "29995  private_19996  0.166600   0.166600  0.166600   0.166600       0.166600   \n",
       "29996  private_19997  0.166600   0.166600  0.166600   0.166600       0.166600   \n",
       "29997  private_19998  0.166600   0.166600  0.166600   0.166600       0.166600   \n",
       "29998  private_19999  0.166600   0.166600  0.166600   0.166600       0.166600   \n",
       "29999  private_20000  0.166600   0.166600  0.166600   0.166600       0.166600   \n",
       "\n",
       "           Other  \n",
       "0       4.325692  \n",
       "1      10.968021  \n",
       "2     -10.443600  \n",
       "3       6.550327  \n",
       "4      -5.721436  \n",
       "...          ...  \n",
       "29995   0.167000  \n",
       "29996   0.167000  \n",
       "29997   0.167000  \n",
       "29998   0.167000  \n",
       "29999   0.167000  \n",
       "\n",
       "[30000 rows x 7 columns]"
      ]
     },
     "execution_count": 101,
     "metadata": {},
     "output_type": "execute_result"
    }
   ],
   "source": [
    "sample_submit = pd.read_csv('sample_submission.csv')\n",
    "model = model.to('cuda:0')\n",
    "model.eval()\n",
    "batch = 100\n",
    "for i in tqdm(range(0,X_test.shape[0]-batch+1,batch)):\n",
    "    sample_submit.iloc[i:i+batch,1:] = model(X_test[i:i+batch].to(torch.float32).cuda()).detach().cpu().numpy()\n",
    "sample_submit"
   ]
  },
  {
   "cell_type": "code",
   "execution_count": 102,
   "metadata": {},
   "outputs": [
    {
     "data": {
      "text/plain": [
       "array([[4.71295065e-06, 9.47933111e-07, 2.71572241e-06, 5.10393455e-08,\n",
       "        2.45274789e-04, 9.99746298e-01],\n",
       "       [1.29890985e-09, 1.51637396e-09, 1.11477148e-09, 2.56428320e-15,\n",
       "        6.87013534e-09, 9.99999989e-01],\n",
       "       [9.99934819e-01, 1.49562510e-05, 1.78849739e-05, 1.04161869e-07,\n",
       "        3.14137080e-05, 8.22299278e-07],\n",
       "       ...,\n",
       "       [1.66655554e-01, 1.66655554e-01, 1.66655554e-01, 1.66655554e-01,\n",
       "        1.66655554e-01, 1.66722230e-01],\n",
       "       [1.66655554e-01, 1.66655554e-01, 1.66655554e-01, 1.66655554e-01,\n",
       "        1.66655554e-01, 1.66722230e-01],\n",
       "       [1.66655554e-01, 1.66655554e-01, 1.66655554e-01, 1.66655554e-01,\n",
       "        1.66655554e-01, 1.66722230e-01]])"
      ]
     },
     "execution_count": 102,
     "metadata": {},
     "output_type": "execute_result"
    }
   ],
   "source": [
    "from scipy.special import softmax\n",
    "a = softmax(sample_submit.iloc[:,1:].values,axis=1)\n",
    "a"
   ]
  },
  {
   "cell_type": "code",
   "execution_count": 103,
   "metadata": {},
   "outputs": [
    {
     "data": {
      "text/html": [
       "<div>\n",
       "<style scoped>\n",
       "    .dataframe tbody tr th:only-of-type {\n",
       "        vertical-align: middle;\n",
       "    }\n",
       "\n",
       "    .dataframe tbody tr th {\n",
       "        vertical-align: top;\n",
       "    }\n",
       "\n",
       "    .dataframe thead th {\n",
       "        text-align: right;\n",
       "    }\n",
       "</style>\n",
       "<table border=\"1\" class=\"dataframe\">\n",
       "  <thead>\n",
       "    <tr style=\"text-align: right;\">\n",
       "      <th></th>\n",
       "      <th>Filename</th>\n",
       "      <th>Barking</th>\n",
       "      <th>Howling</th>\n",
       "      <th>Crying</th>\n",
       "      <th>COSmoke</th>\n",
       "      <th>GlassBreaking</th>\n",
       "      <th>Other</th>\n",
       "    </tr>\n",
       "  </thead>\n",
       "  <tbody>\n",
       "    <tr>\n",
       "      <th>0</th>\n",
       "      <td>public_00001</td>\n",
       "      <td>4.712951e-06</td>\n",
       "      <td>9.479331e-07</td>\n",
       "      <td>2.715722e-06</td>\n",
       "      <td>5.103935e-08</td>\n",
       "      <td>2.452748e-04</td>\n",
       "      <td>9.997463e-01</td>\n",
       "    </tr>\n",
       "    <tr>\n",
       "      <th>1</th>\n",
       "      <td>public_00002</td>\n",
       "      <td>1.298910e-09</td>\n",
       "      <td>1.516374e-09</td>\n",
       "      <td>1.114771e-09</td>\n",
       "      <td>2.564283e-15</td>\n",
       "      <td>6.870135e-09</td>\n",
       "      <td>1.000000e+00</td>\n",
       "    </tr>\n",
       "    <tr>\n",
       "      <th>2</th>\n",
       "      <td>public_00003</td>\n",
       "      <td>9.999348e-01</td>\n",
       "      <td>1.495625e-05</td>\n",
       "      <td>1.788497e-05</td>\n",
       "      <td>1.041619e-07</td>\n",
       "      <td>3.141371e-05</td>\n",
       "      <td>8.222993e-07</td>\n",
       "    </tr>\n",
       "    <tr>\n",
       "      <th>3</th>\n",
       "      <td>public_00004</td>\n",
       "      <td>7.119842e-07</td>\n",
       "      <td>2.263764e-08</td>\n",
       "      <td>1.371505e-06</td>\n",
       "      <td>7.255035e-11</td>\n",
       "      <td>5.153444e-06</td>\n",
       "      <td>9.999927e-01</td>\n",
       "    </tr>\n",
       "    <tr>\n",
       "      <th>4</th>\n",
       "      <td>public_00005</td>\n",
       "      <td>2.406661e-01</td>\n",
       "      <td>1.354945e-02</td>\n",
       "      <td>7.436193e-01</td>\n",
       "      <td>2.335686e-05</td>\n",
       "      <td>7.861007e-06</td>\n",
       "      <td>2.133928e-03</td>\n",
       "    </tr>\n",
       "    <tr>\n",
       "      <th>...</th>\n",
       "      <td>...</td>\n",
       "      <td>...</td>\n",
       "      <td>...</td>\n",
       "      <td>...</td>\n",
       "      <td>...</td>\n",
       "      <td>...</td>\n",
       "      <td>...</td>\n",
       "    </tr>\n",
       "    <tr>\n",
       "      <th>29995</th>\n",
       "      <td>private_19996</td>\n",
       "      <td>1.666556e-01</td>\n",
       "      <td>1.666556e-01</td>\n",
       "      <td>1.666556e-01</td>\n",
       "      <td>1.666556e-01</td>\n",
       "      <td>1.666556e-01</td>\n",
       "      <td>1.667222e-01</td>\n",
       "    </tr>\n",
       "    <tr>\n",
       "      <th>29996</th>\n",
       "      <td>private_19997</td>\n",
       "      <td>1.666556e-01</td>\n",
       "      <td>1.666556e-01</td>\n",
       "      <td>1.666556e-01</td>\n",
       "      <td>1.666556e-01</td>\n",
       "      <td>1.666556e-01</td>\n",
       "      <td>1.667222e-01</td>\n",
       "    </tr>\n",
       "    <tr>\n",
       "      <th>29997</th>\n",
       "      <td>private_19998</td>\n",
       "      <td>1.666556e-01</td>\n",
       "      <td>1.666556e-01</td>\n",
       "      <td>1.666556e-01</td>\n",
       "      <td>1.666556e-01</td>\n",
       "      <td>1.666556e-01</td>\n",
       "      <td>1.667222e-01</td>\n",
       "    </tr>\n",
       "    <tr>\n",
       "      <th>29998</th>\n",
       "      <td>private_19999</td>\n",
       "      <td>1.666556e-01</td>\n",
       "      <td>1.666556e-01</td>\n",
       "      <td>1.666556e-01</td>\n",
       "      <td>1.666556e-01</td>\n",
       "      <td>1.666556e-01</td>\n",
       "      <td>1.667222e-01</td>\n",
       "    </tr>\n",
       "    <tr>\n",
       "      <th>29999</th>\n",
       "      <td>private_20000</td>\n",
       "      <td>1.666556e-01</td>\n",
       "      <td>1.666556e-01</td>\n",
       "      <td>1.666556e-01</td>\n",
       "      <td>1.666556e-01</td>\n",
       "      <td>1.666556e-01</td>\n",
       "      <td>1.667222e-01</td>\n",
       "    </tr>\n",
       "  </tbody>\n",
       "</table>\n",
       "<p>30000 rows × 7 columns</p>\n",
       "</div>"
      ],
      "text/plain": [
       "            Filename       Barking       Howling        Crying       COSmoke  \\\n",
       "0       public_00001  4.712951e-06  9.479331e-07  2.715722e-06  5.103935e-08   \n",
       "1       public_00002  1.298910e-09  1.516374e-09  1.114771e-09  2.564283e-15   \n",
       "2       public_00003  9.999348e-01  1.495625e-05  1.788497e-05  1.041619e-07   \n",
       "3       public_00004  7.119842e-07  2.263764e-08  1.371505e-06  7.255035e-11   \n",
       "4       public_00005  2.406661e-01  1.354945e-02  7.436193e-01  2.335686e-05   \n",
       "...              ...           ...           ...           ...           ...   \n",
       "29995  private_19996  1.666556e-01  1.666556e-01  1.666556e-01  1.666556e-01   \n",
       "29996  private_19997  1.666556e-01  1.666556e-01  1.666556e-01  1.666556e-01   \n",
       "29997  private_19998  1.666556e-01  1.666556e-01  1.666556e-01  1.666556e-01   \n",
       "29998  private_19999  1.666556e-01  1.666556e-01  1.666556e-01  1.666556e-01   \n",
       "29999  private_20000  1.666556e-01  1.666556e-01  1.666556e-01  1.666556e-01   \n",
       "\n",
       "       GlassBreaking         Other  \n",
       "0       2.452748e-04  9.997463e-01  \n",
       "1       6.870135e-09  1.000000e+00  \n",
       "2       3.141371e-05  8.222993e-07  \n",
       "3       5.153444e-06  9.999927e-01  \n",
       "4       7.861007e-06  2.133928e-03  \n",
       "...              ...           ...  \n",
       "29995   1.666556e-01  1.667222e-01  \n",
       "29996   1.666556e-01  1.667222e-01  \n",
       "29997   1.666556e-01  1.667222e-01  \n",
       "29998   1.666556e-01  1.667222e-01  \n",
       "29999   1.666556e-01  1.667222e-01  \n",
       "\n",
       "[30000 rows x 7 columns]"
      ]
     },
     "execution_count": 103,
     "metadata": {},
     "output_type": "execute_result"
    }
   ],
   "source": [
    "sample_submit.iloc[:,1:] = a\n",
    "sample_submit"
   ]
  },
  {
   "cell_type": "code",
   "execution_count": 104,
   "metadata": {},
   "outputs": [
    {
     "data": {
      "text/plain": [
       "Filename         public_00123\n",
       "Barking              0.026268\n",
       "Howling              0.000006\n",
       "Crying                0.00005\n",
       "COSmoke                   0.0\n",
       "GlassBreaking        0.000794\n",
       "Other                0.972883\n",
       "Name: 122, dtype: object"
      ]
     },
     "execution_count": 104,
     "metadata": {},
     "output_type": "execute_result"
    }
   ],
   "source": [
    "sample_submit.iloc[122]"
   ]
  },
  {
   "cell_type": "code",
   "execution_count": 105,
   "metadata": {},
   "outputs": [
    {
     "data": {
      "text/plain": [
       "0        1.0\n",
       "1        1.0\n",
       "2        1.0\n",
       "3        1.0\n",
       "4        1.0\n",
       "        ... \n",
       "29995    1.0\n",
       "29996    1.0\n",
       "29997    1.0\n",
       "29998    1.0\n",
       "29999    1.0\n",
       "Length: 30000, dtype: float64"
      ]
     },
     "execution_count": 105,
     "metadata": {},
     "output_type": "execute_result"
    }
   ],
   "source": [
    "sample_submit.sum(axis=1)"
   ]
  },
  {
   "cell_type": "code",
   "execution_count": 106,
   "metadata": {},
   "outputs": [
    {
     "data": {
      "text/plain": [
       "0.902418682235196"
      ]
     },
     "execution_count": 106,
     "metadata": {},
     "output_type": "execute_result"
    }
   ],
   "source": [
    "acc"
   ]
  },
  {
   "cell_type": "code",
   "execution_count": 107,
   "metadata": {},
   "outputs": [],
   "source": [
    "# save\n",
    "sample_submit.to_csv(f'senet20_20210605_random_state{seed}_validacc_{acc}_用訓練資料1199當驗證集.csv',index=False)\n",
    "torch.save(model.state_dict(),f'senet20_20210605_random_state{seed}_validacc_{acc}用訓練資料1199當驗證集.pt')\n",
    "#print('done')"
   ]
  },
  {
   "cell_type": "code",
   "execution_count": null,
   "metadata": {},
   "outputs": [],
   "source": []
  }
 ],
 "metadata": {
  "kernelspec": {
   "display_name": "Python 3",
   "language": "python",
   "name": "python3"
  },
  "language_info": {
   "codemirror_mode": {
    "name": "ipython",
    "version": 3
   },
   "file_extension": ".py",
   "mimetype": "text/x-python",
   "name": "python",
   "nbconvert_exporter": "python",
   "pygments_lexer": "ipython3",
   "version": "3.7.4"
  }
 },
 "nbformat": 4,
 "nbformat_minor": 2
}
