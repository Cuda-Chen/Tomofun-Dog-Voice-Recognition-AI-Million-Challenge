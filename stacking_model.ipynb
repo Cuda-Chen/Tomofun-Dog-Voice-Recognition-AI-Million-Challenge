{
 "cells": [
  {
   "cell_type": "code",
   "execution_count": 2,
   "id": "21e46b9d",
   "metadata": {},
   "outputs": [],
   "source": [
    "import torch\n",
    "import catboost\n",
    "from torch import nn\n",
    "import pandas as pd\n",
    "from sklearn.preprocessing import OneHotEncoder\n",
    "from catboost import CatBoostClassifier\n",
    "import gc\n",
    "import numpy as np\n",
    "from tqdm import tqdm\n",
    "from torch.utils.data import TensorDataset,DataLoader"
   ]
  },
  {
   "cell_type": "code",
   "execution_count": 3,
   "id": "fa8db98e",
   "metadata": {},
   "outputs": [],
   "source": [
    "def preprocessing_Y(file_path):\n",
    "    Y = pd.read_csv(file_path).iloc[:,:]\n",
    "    Y = Y[Y.Filename != 'train_01046']\n",
    "    enc = OneHotEncoder().fit(Y[['Label']])\n",
    "    Y_one_hot = enc.transform(Y[['Label']]).toarray()\n",
    "    Y_one_hot = torch.FloatTensor(Y_one_hot)\n",
    "    print('Y_ont_hot shape',Y_one_hot.shape)\n",
    "    print('Y_df shape',Y.shape)\n",
    "    return Y_one_hot,Y\n",
    "\n",
    "def load_pretrain_senet(model_path):\n",
    "    model = torch.hub.load(\n",
    "        'moskomule/senet.pytorch',\n",
    "        'se_resnet20',\n",
    "        num_classes=6)\n",
    "    model.conv1 = nn.Conv2d(1, 16, kernel_size=(3, 3), stride=(1, 1), padding=(1, 1), bias=False)\n",
    "    model = torch.nn.DataParallel(model, device_ids=[0, 1, 2 ,3])\n",
    "    model.load_state_dict(torch.load(model_path))\n",
    "    model.eval()\n",
    "    return model\n",
    "\n",
    "def get_senet_output(senet,data):\n",
    "    return senet(data)\n",
    "\n",
    "def get_all_senet_output(data):\n",
    "    y1 = senet1(data)\n",
    "    y2 = senet2(data)\n",
    "    y3 = senet3(data)\n",
    "    y4 = senet4(data)\n",
    "    y5 = senet5(data)\n",
    "    y6 = senet6(data)\n",
    "    combined = torch.cat([y1,y2,y3,y4,y5,y6],dim=-1)\n",
    "    return combined.detach().cpu().numpy()\n",
    "\n",
    "def get_X_numpy(X):\n",
    "    X_train_np = np.array([[]])\n",
    "    data_iter = DataLoader(TensorDataset(torch.FloatTensor(X.to(torch.float32))),batch_size=256)\n",
    "    for bx in tqdm(data_iter):\n",
    "        bx = bx[0]\n",
    "        bx = bx.to('cuda:0')\n",
    "        y_hat = get_all_senet_output(bx)\n",
    "        if len(X_train_np) == 1:\n",
    "            X_train_np = y_hat\n",
    "        else:\n",
    "            X_train_np = np.vstack((X_train_np,y_hat))\n",
    "    return X_train_np"
   ]
  },
  {
   "cell_type": "markdown",
   "id": "5785bb89",
   "metadata": {},
   "source": [
    "# 路徑"
   ]
  },
  {
   "cell_type": "code",
   "execution_count": 4,
   "id": "0d7c2315",
   "metadata": {},
   "outputs": [],
   "source": [
    "Y_train_path = 'train/meta_train.csv'\n",
    "senet1 = 'senet20_2021_0604_0750.pt'\n",
    "senet2 = 'senet20_2021_0604_1312_randomseed168.pt'\n",
    "senet3 = 'senet20_2021_0604_1345_randomseed210.pt'\n",
    "senet4 = 'senet20_wu_add_data_seed84.pt'\n",
    "senet5 = 'senet20_wu_add_data_seed126.pt'\n",
    "senet6 = 'senet20_wu_add_data_seed210.pt'"
   ]
  },
  {
   "cell_type": "markdown",
   "id": "d8226992",
   "metadata": {},
   "source": [
    "# load k 個 senet"
   ]
  },
  {
   "cell_type": "code",
   "execution_count": 5,
   "id": "6319a061",
   "metadata": {},
   "outputs": [
    {
     "name": "stderr",
     "output_type": "stream",
     "text": [
      "Using cache found in /root/.cache/torch/hub/moskomule_senet.pytorch_master\n",
      "Using cache found in /root/.cache/torch/hub/moskomule_senet.pytorch_master\n",
      "Using cache found in /root/.cache/torch/hub/moskomule_senet.pytorch_master\n",
      "Using cache found in /root/.cache/torch/hub/moskomule_senet.pytorch_master\n",
      "Using cache found in /root/.cache/torch/hub/moskomule_senet.pytorch_master\n",
      "Using cache found in /root/.cache/torch/hub/moskomule_senet.pytorch_master\n"
     ]
    }
   ],
   "source": [
    "senet1 = load_pretrain_senet(senet1).to('cuda:0')\n",
    "senet2 = load_pretrain_senet(senet2).to('cuda:0')\n",
    "senet3 = load_pretrain_senet(senet3).to('cuda:0')\n",
    "senet4 = load_pretrain_senet(senet4).to('cuda:0')\n",
    "senet5 = load_pretrain_senet(senet5).to('cuda:0')\n",
    "senet6 = load_pretrain_senet(senet6).to('cuda:0')"
   ]
  },
  {
   "cell_type": "markdown",
   "id": "8ced5714",
   "metadata": {},
   "source": [
    "# 訓練 和 測試資料"
   ]
  },
  {
   "cell_type": "code",
   "execution_count": 6,
   "id": "21c6c487",
   "metadata": {},
   "outputs": [
    {
     "name": "stdout",
     "output_type": "stream",
     "text": [
      "Y_ont_hot shape torch.Size([1199, 6])\n",
      "Y_df shape (1199, 3)\n"
     ]
    }
   ],
   "source": [
    "X_train_all = torch.load('X_train_吳啟聖教的方法.pt')\n",
    "X_test_all = torch.load('X_test_吳啟聖教的方法.pt')\n",
    "Y_train_all,Y_train_df = preprocessing_Y(Y_train_path)"
   ]
  },
  {
   "cell_type": "markdown",
   "id": "279b72a7",
   "metadata": {},
   "source": [
    "# train k個 catboost model"
   ]
  },
  {
   "cell_type": "code",
   "execution_count": 7,
   "id": "cfabb0d3",
   "metadata": {},
   "outputs": [
    {
     "name": "stderr",
     "output_type": "stream",
     "text": [
      "  0%|          | 0/6 [00:00<?, ?it/s]\n",
      "  0%|          | 0/4 [00:00<?, ?it/s]\u001b[A\n",
      " 25%|██▌       | 1/4 [00:11<00:34, 11.53s/it]\u001b[A\n",
      " 50%|█████     | 2/4 [00:11<00:09,  4.87s/it]\u001b[A\n",
      " 75%|███████▌  | 3/4 [00:11<00:02,  2.74s/it]\u001b[A\n",
      "100%|██████████| 4/4 [00:12<00:00,  3.04s/it]\u001b[A\n",
      "\n",
      "  0%|          | 0/1 [00:00<?, ?it/s]\u001b[A\n",
      "100%|██████████| 1/1 [00:00<00:00,  5.20it/s]\u001b[A\n",
      " 17%|█▋        | 1/6 [00:19<01:38, 19.60s/it]\n",
      "  0%|          | 0/4 [00:00<?, ?it/s]\u001b[A"
     ]
    },
    {
     "name": "stdout",
     "output_type": "stream",
     "text": [
      "0 0.9375\n"
     ]
    },
    {
     "name": "stderr",
     "output_type": "stream",
     "text": [
      "\n",
      " 25%|██▌       | 1/4 [00:00<00:00,  5.29it/s]\u001b[A\n",
      " 50%|█████     | 2/4 [00:00<00:00,  5.14it/s]\u001b[A\n",
      " 75%|███████▌  | 3/4 [00:00<00:00,  5.21it/s]\u001b[A\n",
      "100%|██████████| 4/4 [00:00<00:00,  5.22it/s]\u001b[A\n",
      "\n",
      "  0%|          | 0/1 [00:00<?, ?it/s]\u001b[A\n",
      "100%|██████████| 1/1 [00:00<00:00,  5.05it/s]\u001b[A\n",
      " 33%|███▎      | 2/6 [00:27<00:51, 12.91s/it]\n",
      "  0%|          | 0/4 [00:00<?, ?it/s]\u001b[A"
     ]
    },
    {
     "name": "stdout",
     "output_type": "stream",
     "text": [
      "1 0.9666666666666667\n"
     ]
    },
    {
     "name": "stderr",
     "output_type": "stream",
     "text": [
      "\n",
      " 25%|██▌       | 1/4 [00:00<00:00,  5.26it/s]\u001b[A\n",
      " 50%|█████     | 2/4 [00:00<00:00,  5.35it/s]\u001b[A\n",
      " 75%|███████▌  | 3/4 [00:00<00:00,  5.35it/s]\u001b[A\n",
      "100%|██████████| 4/4 [00:00<00:00,  5.35it/s]\u001b[A\n",
      "\n",
      "  0%|          | 0/1 [00:00<?, ?it/s]\u001b[A\n",
      "100%|██████████| 1/1 [00:00<00:00,  5.13it/s]\u001b[A\n",
      " 50%|█████     | 3/6 [00:36<00:32, 10.80s/it]\n",
      "  0%|          | 0/4 [00:00<?, ?it/s]\u001b[A"
     ]
    },
    {
     "name": "stdout",
     "output_type": "stream",
     "text": [
      "2 0.9666666666666667\n"
     ]
    },
    {
     "name": "stderr",
     "output_type": "stream",
     "text": [
      "\n",
      " 25%|██▌       | 1/4 [00:00<00:00,  5.01it/s]\u001b[A\n",
      " 50%|█████     | 2/4 [00:00<00:00,  4.93it/s]\u001b[A\n",
      " 75%|███████▌  | 3/4 [00:00<00:00,  5.06it/s]\u001b[A\n",
      "100%|██████████| 4/4 [00:00<00:00,  5.09it/s]\u001b[A\n",
      "\n",
      "  0%|          | 0/1 [00:00<?, ?it/s]\u001b[A\n",
      "100%|██████████| 1/1 [00:00<00:00,  5.30it/s]\u001b[A\n",
      " 67%|██████▋   | 4/6 [00:44<00:19,  9.87s/it]\n",
      "  0%|          | 0/4 [00:00<?, ?it/s]\u001b[A"
     ]
    },
    {
     "name": "stdout",
     "output_type": "stream",
     "text": [
      "3 0.9541666666666667\n"
     ]
    },
    {
     "name": "stderr",
     "output_type": "stream",
     "text": [
      "\n",
      " 25%|██▌       | 1/4 [00:00<00:00,  5.02it/s]\u001b[A\n",
      " 50%|█████     | 2/4 [00:00<00:00,  5.10it/s]\u001b[A\n",
      " 75%|███████▌  | 3/4 [00:00<00:00,  5.15it/s]\u001b[A\n",
      "100%|██████████| 4/4 [00:00<00:00,  5.15it/s]\u001b[A\n",
      "\n",
      "  0%|          | 0/1 [00:00<?, ?it/s]\u001b[A\n",
      "100%|██████████| 1/1 [00:00<00:00,  5.25it/s]\u001b[A\n",
      " 83%|████████▎ | 5/6 [00:52<00:09,  9.33s/it]\n",
      "  0%|          | 0/4 [00:00<?, ?it/s]\u001b[A"
     ]
    },
    {
     "name": "stdout",
     "output_type": "stream",
     "text": [
      "4 0.9458333333333333\n"
     ]
    },
    {
     "name": "stderr",
     "output_type": "stream",
     "text": [
      "\n",
      " 25%|██▌       | 1/4 [00:00<00:00,  5.39it/s]\u001b[A\n",
      " 50%|█████     | 2/4 [00:00<00:00,  5.39it/s]\u001b[A\n",
      " 75%|███████▌  | 3/4 [00:00<00:00,  5.41it/s]\u001b[A\n",
      "100%|██████████| 4/4 [00:00<00:00,  5.41it/s]\u001b[A\n",
      "\n",
      "  0%|          | 0/1 [00:00<?, ?it/s]\u001b[A\n",
      "100%|██████████| 1/1 [00:00<00:00,  5.32it/s]\u001b[A\n",
      "100%|██████████| 6/6 [01:01<00:00, 10.20s/it]"
     ]
    },
    {
     "name": "stdout",
     "output_type": "stream",
     "text": [
      "5 0.975\n"
     ]
    },
    {
     "name": "stderr",
     "output_type": "stream",
     "text": [
      "\n"
     ]
    }
   ],
   "source": [
    "from sklearn.model_selection import train_test_split\n",
    "i = 0\n",
    "catboost_model = {}\n",
    "for seed in tqdm([42,42*2,42*3,42*4,42*5,42*6]):\n",
    "    X_train, X_valid, y_train, y_valid = train_test_split(X_train_all, Y_train_all, \n",
    "                                                          test_size=0.2, \n",
    "                                                          random_state=seed,\n",
    "                                                          stratify=Y_train_all)\n",
    "    X_train_np = get_X_numpy(X_train)\n",
    "    y_train_np = y_train.detach().numpy().argmax(axis=1)\n",
    "    X_valid_np = get_X_numpy(X_valid)\n",
    "    y_valid_np = y_valid.detach().numpy().argmax(axis=1)\n",
    "    model = CatBoostClassifier(iterations=250,verbose=False)\n",
    "    model.fit(X_train_np,y_train_np,use_best_model=True,eval_set=(X_valid_np,y_valid_np))\n",
    "    catboost_model[seed] = model.copy()\n",
    "    print(i,model.score(X_valid_np,y_valid_np))\n",
    "    gc.collect()\n",
    "    i +=1"
   ]
  },
  {
   "cell_type": "code",
   "execution_count": 9,
   "id": "67dd30cc",
   "metadata": {},
   "outputs": [
    {
     "name": "stderr",
     "output_type": "stream",
     "text": [
      "100%|██████████| 40/40 [00:07<00:00,  5.06it/s]\n"
     ]
    },
    {
     "data": {
      "text/plain": [
       "(10000, 36)"
      ]
     },
     "execution_count": 9,
     "metadata": {},
     "output_type": "execute_result"
    }
   ],
   "source": [
    "X_test_np = get_X_numpy(X_test_all)\n",
    "X_test_np.shape"
   ]
  },
  {
   "cell_type": "code",
   "execution_count": 10,
   "id": "d26d3dee",
   "metadata": {},
   "outputs": [],
   "source": [
    "p1 = catboost_model[42*1].predict_proba(X_test_np)\n",
    "p2 = catboost_model[42*2].predict_proba(X_test_np)\n",
    "p3 = catboost_model[42*3].predict_proba(X_test_np)\n",
    "p4 = catboost_model[42*4].predict_proba(X_test_np)\n",
    "p5 = catboost_model[42*5].predict_proba(X_test_np)\n",
    "p6 = catboost_model[42*6].predict_proba(X_test_np)"
   ]
  },
  {
   "cell_type": "code",
   "execution_count": 11,
   "id": "600766ae",
   "metadata": {},
   "outputs": [
    {
     "data": {
      "text/plain": [
       "array([[1.02085748e-02, 1.15241286e-02, 2.90965893e-02, 2.16360995e-02,\n",
       "        1.31107412e-01, 7.96427196e-01],\n",
       "       [9.24101329e-04, 8.29499687e-04, 1.12103605e-03, 1.81482715e-03,\n",
       "        2.05725749e-03, 9.93253278e-01],\n",
       "       [9.81195851e-01, 2.04034460e-03, 3.17417318e-03, 5.13248465e-03,\n",
       "        6.04385933e-03, 2.41328760e-03],\n",
       "       ...,\n",
       "       [1.78117311e-02, 8.97464319e-01, 2.81212492e-02, 1.87979262e-02,\n",
       "        1.23113755e-02, 2.54933993e-02],\n",
       "       [2.61030668e-02, 1.29246836e-02, 8.95621743e-01, 1.84297471e-02,\n",
       "        1.72061319e-02, 2.97146274e-02],\n",
       "       [4.73992747e-02, 8.30568005e-03, 9.23694484e-01, 5.52986472e-03,\n",
       "        6.96289790e-03, 8.10779902e-03]])"
      ]
     },
     "execution_count": 11,
     "metadata": {},
     "output_type": "execute_result"
    }
   ],
   "source": [
    "final_prob = (p1+p2+p3+p4+p5+p6) / 6\n",
    "final_prob"
   ]
  },
  {
   "cell_type": "code",
   "execution_count": 12,
   "id": "91b684a1",
   "metadata": {},
   "outputs": [
    {
     "data": {
      "text/plain": [
       "array([1., 1., 1., ..., 1., 1., 1.])"
      ]
     },
     "execution_count": 12,
     "metadata": {},
     "output_type": "execute_result"
    }
   ],
   "source": [
    "final_prob.sum(axis=1)"
   ]
  },
  {
   "cell_type": "code",
   "execution_count": 13,
   "id": "2b4e0896",
   "metadata": {},
   "outputs": [
    {
     "data": {
      "text/html": [
       "<div>\n",
       "<style scoped>\n",
       "    .dataframe tbody tr th:only-of-type {\n",
       "        vertical-align: middle;\n",
       "    }\n",
       "\n",
       "    .dataframe tbody tr th {\n",
       "        vertical-align: top;\n",
       "    }\n",
       "\n",
       "    .dataframe thead th {\n",
       "        text-align: right;\n",
       "    }\n",
       "</style>\n",
       "<table border=\"1\" class=\"dataframe\">\n",
       "  <thead>\n",
       "    <tr style=\"text-align: right;\">\n",
       "      <th></th>\n",
       "      <th>Filename</th>\n",
       "      <th>Barking</th>\n",
       "      <th>Howling</th>\n",
       "      <th>Crying</th>\n",
       "      <th>COSmoke</th>\n",
       "      <th>GlassBreaking</th>\n",
       "      <th>Other</th>\n",
       "    </tr>\n",
       "  </thead>\n",
       "  <tbody>\n",
       "    <tr>\n",
       "      <th>0</th>\n",
       "      <td>public_00001</td>\n",
       "      <td>0.010209</td>\n",
       "      <td>0.011524</td>\n",
       "      <td>0.029097</td>\n",
       "      <td>0.021636</td>\n",
       "      <td>0.131107</td>\n",
       "      <td>0.796427</td>\n",
       "    </tr>\n",
       "    <tr>\n",
       "      <th>1</th>\n",
       "      <td>public_00002</td>\n",
       "      <td>0.000924</td>\n",
       "      <td>0.000829</td>\n",
       "      <td>0.001121</td>\n",
       "      <td>0.001815</td>\n",
       "      <td>0.002057</td>\n",
       "      <td>0.993253</td>\n",
       "    </tr>\n",
       "    <tr>\n",
       "      <th>2</th>\n",
       "      <td>public_00003</td>\n",
       "      <td>0.981196</td>\n",
       "      <td>0.002040</td>\n",
       "      <td>0.003174</td>\n",
       "      <td>0.005132</td>\n",
       "      <td>0.006044</td>\n",
       "      <td>0.002413</td>\n",
       "    </tr>\n",
       "    <tr>\n",
       "      <th>3</th>\n",
       "      <td>public_00004</td>\n",
       "      <td>0.014720</td>\n",
       "      <td>0.010538</td>\n",
       "      <td>0.020623</td>\n",
       "      <td>0.052997</td>\n",
       "      <td>0.051967</td>\n",
       "      <td>0.849155</td>\n",
       "    </tr>\n",
       "    <tr>\n",
       "      <th>4</th>\n",
       "      <td>public_00005</td>\n",
       "      <td>0.933125</td>\n",
       "      <td>0.006343</td>\n",
       "      <td>0.046743</td>\n",
       "      <td>0.005772</td>\n",
       "      <td>0.004100</td>\n",
       "      <td>0.003918</td>\n",
       "    </tr>\n",
       "    <tr>\n",
       "      <th>...</th>\n",
       "      <td>...</td>\n",
       "      <td>...</td>\n",
       "      <td>...</td>\n",
       "      <td>...</td>\n",
       "      <td>...</td>\n",
       "      <td>...</td>\n",
       "      <td>...</td>\n",
       "    </tr>\n",
       "    <tr>\n",
       "      <th>29995</th>\n",
       "      <td>private_19996</td>\n",
       "      <td>0.166600</td>\n",
       "      <td>0.166600</td>\n",
       "      <td>0.166600</td>\n",
       "      <td>0.166600</td>\n",
       "      <td>0.166600</td>\n",
       "      <td>0.167000</td>\n",
       "    </tr>\n",
       "    <tr>\n",
       "      <th>29996</th>\n",
       "      <td>private_19997</td>\n",
       "      <td>0.166600</td>\n",
       "      <td>0.166600</td>\n",
       "      <td>0.166600</td>\n",
       "      <td>0.166600</td>\n",
       "      <td>0.166600</td>\n",
       "      <td>0.167000</td>\n",
       "    </tr>\n",
       "    <tr>\n",
       "      <th>29997</th>\n",
       "      <td>private_19998</td>\n",
       "      <td>0.166600</td>\n",
       "      <td>0.166600</td>\n",
       "      <td>0.166600</td>\n",
       "      <td>0.166600</td>\n",
       "      <td>0.166600</td>\n",
       "      <td>0.167000</td>\n",
       "    </tr>\n",
       "    <tr>\n",
       "      <th>29998</th>\n",
       "      <td>private_19999</td>\n",
       "      <td>0.166600</td>\n",
       "      <td>0.166600</td>\n",
       "      <td>0.166600</td>\n",
       "      <td>0.166600</td>\n",
       "      <td>0.166600</td>\n",
       "      <td>0.167000</td>\n",
       "    </tr>\n",
       "    <tr>\n",
       "      <th>29999</th>\n",
       "      <td>private_20000</td>\n",
       "      <td>0.166600</td>\n",
       "      <td>0.166600</td>\n",
       "      <td>0.166600</td>\n",
       "      <td>0.166600</td>\n",
       "      <td>0.166600</td>\n",
       "      <td>0.167000</td>\n",
       "    </tr>\n",
       "  </tbody>\n",
       "</table>\n",
       "<p>30000 rows × 7 columns</p>\n",
       "</div>"
      ],
      "text/plain": [
       "            Filename   Barking   Howling    Crying   COSmoke  GlassBreaking  \\\n",
       "0       public_00001  0.010209  0.011524  0.029097  0.021636       0.131107   \n",
       "1       public_00002  0.000924  0.000829  0.001121  0.001815       0.002057   \n",
       "2       public_00003  0.981196  0.002040  0.003174  0.005132       0.006044   \n",
       "3       public_00004  0.014720  0.010538  0.020623  0.052997       0.051967   \n",
       "4       public_00005  0.933125  0.006343  0.046743  0.005772       0.004100   \n",
       "...              ...       ...       ...       ...       ...            ...   \n",
       "29995  private_19996  0.166600  0.166600  0.166600  0.166600       0.166600   \n",
       "29996  private_19997  0.166600  0.166600  0.166600  0.166600       0.166600   \n",
       "29997  private_19998  0.166600  0.166600  0.166600  0.166600       0.166600   \n",
       "29998  private_19999  0.166600  0.166600  0.166600  0.166600       0.166600   \n",
       "29999  private_20000  0.166600  0.166600  0.166600  0.166600       0.166600   \n",
       "\n",
       "          Other  \n",
       "0      0.796427  \n",
       "1      0.993253  \n",
       "2      0.002413  \n",
       "3      0.849155  \n",
       "4      0.003918  \n",
       "...         ...  \n",
       "29995  0.167000  \n",
       "29996  0.167000  \n",
       "29997  0.167000  \n",
       "29998  0.167000  \n",
       "29999  0.167000  \n",
       "\n",
       "[30000 rows x 7 columns]"
      ]
     },
     "execution_count": 13,
     "metadata": {},
     "output_type": "execute_result"
    }
   ],
   "source": [
    "sample_submit = pd.read_csv('sample_submission.csv')\n",
    "sample_submit.iloc[:10000,1:] = final_prob\n",
    "sample_submit"
   ]
  },
  {
   "cell_type": "code",
   "execution_count": 14,
   "id": "c8884ecc",
   "metadata": {},
   "outputs": [
    {
     "name": "stdout",
     "output_type": "stream",
     "text": [
      "done\n"
     ]
    }
   ],
   "source": [
    "# save\n",
    "sample_submit.to_csv('stacking_model_submit.csv',index=False)\n",
    "print('done')"
   ]
  },
  {
   "cell_type": "code",
   "execution_count": null,
   "id": "2978a943",
   "metadata": {},
   "outputs": [],
   "source": []
  }
 ],
 "metadata": {
  "kernelspec": {
   "display_name": "Python 3",
   "language": "python",
   "name": "python3"
  },
  "language_info": {
   "codemirror_mode": {
    "name": "ipython",
    "version": 3
   },
   "file_extension": ".py",
   "mimetype": "text/x-python",
   "name": "python",
   "nbconvert_exporter": "python",
   "pygments_lexer": "ipython3",
   "version": "3.7.4"
  }
 },
 "nbformat": 4,
 "nbformat_minor": 5
}
