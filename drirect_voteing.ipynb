{
 "metadata": {
  "language_info": {
   "codemirror_mode": {
    "name": "ipython",
    "version": 3
   },
   "file_extension": ".py",
   "mimetype": "text/x-python",
   "name": "python",
   "nbconvert_exporter": "python",
   "pygments_lexer": "ipython3",
   "version": "3.8.3"
  },
  "orig_nbformat": 2,
  "kernelspec": {
   "name": "python383jvsc74a57bd067850ea2aeb1dc41e111180fab12737ec1e014bd74fe6ccafc8a9315d74a4a04",
   "display_name": "Python 3.8.3 64-bit ('base': conda)"
  }
 },
 "nbformat": 4,
 "nbformat_minor": 2,
 "cells": [
  {
   "cell_type": "code",
   "execution_count": 26,
   "metadata": {},
   "outputs": [],
   "source": [
    "from scipy.stats import entropy\n",
    "import pandas as pd\n",
    "import numpy as np\n",
    "import malaya_speech\n",
    "import IPython.display as ipd"
   ]
  },
  {
   "cell_type": "code",
   "execution_count": 27,
   "metadata": {},
   "outputs": [],
   "source": [
    "p1 = 'submit_valid_acc_0.9125_後面接svc排行榜0.963955516.csv'\n",
    "p2 = 'submit_valid_acc_0.9333333333333333_後面接logstic_排行榜0.9662309294.csv'\n",
    "p3 = 'submit_valid_acc_0.9111111111111111_這個在分群上分的蠻好的_排行榜0.9683586426.csv'\n",
    "p4 = 'senet20_20210605_random_state529_validacc_0.9333333333333333_排行榜0.9646076361.csv'"
   ]
  },
  {
   "cell_type": "code",
   "execution_count": 28,
   "metadata": {},
   "outputs": [],
   "source": [
    "df1 = pd.read_csv(p1)\n",
    "df2 = pd.read_csv(p2)\n",
    "df3 = pd.read_csv(p3)\n",
    "df4 = pd.read_csv(p4)\n",
    "\n",
    "new_df = df1.copy()\n",
    "\n",
    "new_df.iloc[:,1:] = df1.iloc[:,1:]+df2.iloc[:,1:]+df3.iloc[:,1:]+df4.iloc[:,1:]\n",
    "\n",
    "new_df.iloc[:,1:] /= 4"
   ]
  },
  {
   "cell_type": "code",
   "execution_count": 29,
   "metadata": {},
   "outputs": [
    {
     "output_type": "execute_result",
     "data": {
      "text/plain": [
       "            Filename   Barking   Howling    Crying   COSmoke  GlassBreaking  \\\n",
       "0       public_00001  0.008631  0.001244  0.001345  0.004811       0.604607   \n",
       "1       public_00002  0.090009  0.000864  0.055968  0.122986       0.028053   \n",
       "2       public_00003  0.934050  0.004085  0.004533  0.001740       0.001519   \n",
       "3       public_00004  0.034554  0.001025  0.015831  0.014100       0.179604   \n",
       "4       public_00005  0.271228  0.025495  0.612091  0.009065       0.012176   \n",
       "...              ...       ...       ...       ...       ...            ...   \n",
       "29995  private_19996  0.166614  0.166614  0.166614  0.166614       0.166614   \n",
       "29996  private_19997  0.166614  0.166614  0.166614  0.166614       0.166614   \n",
       "29997  private_19998  0.166614  0.166614  0.166614  0.166614       0.166614   \n",
       "29998  private_19999  0.166614  0.166614  0.166614  0.166614       0.166614   \n",
       "29999  private_20000  0.166614  0.166614  0.166614  0.166614       0.166614   \n",
       "\n",
       "          Other  \n",
       "0      0.379361  \n",
       "1      0.702120  \n",
       "2      0.054071  \n",
       "3      0.754886  \n",
       "4      0.069945  \n",
       "...         ...  \n",
       "29995  0.166931  \n",
       "29996  0.166931  \n",
       "29997  0.166931  \n",
       "29998  0.166931  \n",
       "29999  0.166931  \n",
       "\n",
       "[30000 rows x 7 columns]"
      ],
      "text/html": "<div>\n<style scoped>\n    .dataframe tbody tr th:only-of-type {\n        vertical-align: middle;\n    }\n\n    .dataframe tbody tr th {\n        vertical-align: top;\n    }\n\n    .dataframe thead th {\n        text-align: right;\n    }\n</style>\n<table border=\"1\" class=\"dataframe\">\n  <thead>\n    <tr style=\"text-align: right;\">\n      <th></th>\n      <th>Filename</th>\n      <th>Barking</th>\n      <th>Howling</th>\n      <th>Crying</th>\n      <th>COSmoke</th>\n      <th>GlassBreaking</th>\n      <th>Other</th>\n    </tr>\n  </thead>\n  <tbody>\n    <tr>\n      <th>0</th>\n      <td>public_00001</td>\n      <td>0.008631</td>\n      <td>0.001244</td>\n      <td>0.001345</td>\n      <td>0.004811</td>\n      <td>0.604607</td>\n      <td>0.379361</td>\n    </tr>\n    <tr>\n      <th>1</th>\n      <td>public_00002</td>\n      <td>0.090009</td>\n      <td>0.000864</td>\n      <td>0.055968</td>\n      <td>0.122986</td>\n      <td>0.028053</td>\n      <td>0.702120</td>\n    </tr>\n    <tr>\n      <th>2</th>\n      <td>public_00003</td>\n      <td>0.934050</td>\n      <td>0.004085</td>\n      <td>0.004533</td>\n      <td>0.001740</td>\n      <td>0.001519</td>\n      <td>0.054071</td>\n    </tr>\n    <tr>\n      <th>3</th>\n      <td>public_00004</td>\n      <td>0.034554</td>\n      <td>0.001025</td>\n      <td>0.015831</td>\n      <td>0.014100</td>\n      <td>0.179604</td>\n      <td>0.754886</td>\n    </tr>\n    <tr>\n      <th>4</th>\n      <td>public_00005</td>\n      <td>0.271228</td>\n      <td>0.025495</td>\n      <td>0.612091</td>\n      <td>0.009065</td>\n      <td>0.012176</td>\n      <td>0.069945</td>\n    </tr>\n    <tr>\n      <th>...</th>\n      <td>...</td>\n      <td>...</td>\n      <td>...</td>\n      <td>...</td>\n      <td>...</td>\n      <td>...</td>\n      <td>...</td>\n    </tr>\n    <tr>\n      <th>29995</th>\n      <td>private_19996</td>\n      <td>0.166614</td>\n      <td>0.166614</td>\n      <td>0.166614</td>\n      <td>0.166614</td>\n      <td>0.166614</td>\n      <td>0.166931</td>\n    </tr>\n    <tr>\n      <th>29996</th>\n      <td>private_19997</td>\n      <td>0.166614</td>\n      <td>0.166614</td>\n      <td>0.166614</td>\n      <td>0.166614</td>\n      <td>0.166614</td>\n      <td>0.166931</td>\n    </tr>\n    <tr>\n      <th>29997</th>\n      <td>private_19998</td>\n      <td>0.166614</td>\n      <td>0.166614</td>\n      <td>0.166614</td>\n      <td>0.166614</td>\n      <td>0.166614</td>\n      <td>0.166931</td>\n    </tr>\n    <tr>\n      <th>29998</th>\n      <td>private_19999</td>\n      <td>0.166614</td>\n      <td>0.166614</td>\n      <td>0.166614</td>\n      <td>0.166614</td>\n      <td>0.166614</td>\n      <td>0.166931</td>\n    </tr>\n    <tr>\n      <th>29999</th>\n      <td>private_20000</td>\n      <td>0.166614</td>\n      <td>0.166614</td>\n      <td>0.166614</td>\n      <td>0.166614</td>\n      <td>0.166614</td>\n      <td>0.166931</td>\n    </tr>\n  </tbody>\n</table>\n<p>30000 rows × 7 columns</p>\n</div>"
     },
     "metadata": {},
     "execution_count": 29
    }
   ],
   "source": [
    "new_df"
   ]
  },
  {
   "cell_type": "code",
   "execution_count": 30,
   "metadata": {},
   "outputs": [
    {
     "output_type": "execute_result",
     "data": {
      "text/plain": [
       "0        1.0\n",
       "1        1.0\n",
       "2        1.0\n",
       "3        1.0\n",
       "4        1.0\n",
       "        ... \n",
       "29995    1.0\n",
       "29996    1.0\n",
       "29997    1.0\n",
       "29998    1.0\n",
       "29999    1.0\n",
       "Length: 30000, dtype: float64"
      ]
     },
     "metadata": {},
     "execution_count": 30
    }
   ],
   "source": [
    "new_df.sum(axis=1)"
   ]
  },
  {
   "cell_type": "code",
   "execution_count": 31,
   "metadata": {},
   "outputs": [],
   "source": [
    "new_df.to_csv('Voteing_V7_drirect_voteing.csv',index=False)"
   ]
  },
  {
   "cell_type": "code",
   "execution_count": null,
   "metadata": {},
   "outputs": [],
   "source": []
  },
  {
   "cell_type": "code",
   "execution_count": null,
   "metadata": {},
   "outputs": [],
   "source": []
  }
 ]
}