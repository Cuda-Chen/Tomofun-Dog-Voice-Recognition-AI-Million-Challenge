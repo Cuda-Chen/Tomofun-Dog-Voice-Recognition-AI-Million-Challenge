{
 "metadata": {
  "language_info": {
   "codemirror_mode": {
    "name": "ipython",
    "version": 3
   },
   "file_extension": ".py",
   "mimetype": "text/x-python",
   "name": "python",
   "nbconvert_exporter": "python",
   "pygments_lexer": "ipython3",
   "version": "3.8.5"
  },
  "orig_nbformat": 2,
  "kernelspec": {
   "name": "python385jvsc74a57bd02ccee5cc862501c1aad1cf19888c2a2eca4026b72d187db43d5e889cbdc6ee97",
   "display_name": "Python 3.8.5 64-bit ('base': conda)"
  }
 },
 "nbformat": 4,
 "nbformat_minor": 2,
 "cells": [
  {
   "cell_type": "code",
   "execution_count": 1,
   "metadata": {},
   "outputs": [],
   "source": [
    "import pandas as pd"
   ]
  },
  {
   "source": [
    "# 範例檔案"
   ],
   "cell_type": "markdown",
   "metadata": {}
  },
  {
   "cell_type": "code",
   "execution_count": 2,
   "metadata": {},
   "outputs": [
    {
     "output_type": "execute_result",
     "data": {
      "text/plain": [
       "            Filename  Barking  Howling  Crying  COSmoke  GlassBreaking  Other\n",
       "0       public_00001   0.1666   0.1666  0.1666   0.1666         0.1666  0.167\n",
       "1       public_00002   0.1666   0.1666  0.1666   0.1666         0.1666  0.167\n",
       "2       public_00003   0.1666   0.1666  0.1666   0.1666         0.1666  0.167\n",
       "3       public_00004   0.1666   0.1666  0.1666   0.1666         0.1666  0.167\n",
       "4       public_00005   0.1666   0.1666  0.1666   0.1666         0.1666  0.167\n",
       "...              ...      ...      ...     ...      ...            ...    ...\n",
       "29995  private_19996   0.1666   0.1666  0.1666   0.1666         0.1666  0.167\n",
       "29996  private_19997   0.1666   0.1666  0.1666   0.1666         0.1666  0.167\n",
       "29997  private_19998   0.1666   0.1666  0.1666   0.1666         0.1666  0.167\n",
       "29998  private_19999   0.1666   0.1666  0.1666   0.1666         0.1666  0.167\n",
       "29999  private_20000   0.1666   0.1666  0.1666   0.1666         0.1666  0.167\n",
       "\n",
       "[30000 rows x 7 columns]"
      ],
      "text/html": "<div>\n<style scoped>\n    .dataframe tbody tr th:only-of-type {\n        vertical-align: middle;\n    }\n\n    .dataframe tbody tr th {\n        vertical-align: top;\n    }\n\n    .dataframe thead th {\n        text-align: right;\n    }\n</style>\n<table border=\"1\" class=\"dataframe\">\n  <thead>\n    <tr style=\"text-align: right;\">\n      <th></th>\n      <th>Filename</th>\n      <th>Barking</th>\n      <th>Howling</th>\n      <th>Crying</th>\n      <th>COSmoke</th>\n      <th>GlassBreaking</th>\n      <th>Other</th>\n    </tr>\n  </thead>\n  <tbody>\n    <tr>\n      <th>0</th>\n      <td>public_00001</td>\n      <td>0.1666</td>\n      <td>0.1666</td>\n      <td>0.1666</td>\n      <td>0.1666</td>\n      <td>0.1666</td>\n      <td>0.167</td>\n    </tr>\n    <tr>\n      <th>1</th>\n      <td>public_00002</td>\n      <td>0.1666</td>\n      <td>0.1666</td>\n      <td>0.1666</td>\n      <td>0.1666</td>\n      <td>0.1666</td>\n      <td>0.167</td>\n    </tr>\n    <tr>\n      <th>2</th>\n      <td>public_00003</td>\n      <td>0.1666</td>\n      <td>0.1666</td>\n      <td>0.1666</td>\n      <td>0.1666</td>\n      <td>0.1666</td>\n      <td>0.167</td>\n    </tr>\n    <tr>\n      <th>3</th>\n      <td>public_00004</td>\n      <td>0.1666</td>\n      <td>0.1666</td>\n      <td>0.1666</td>\n      <td>0.1666</td>\n      <td>0.1666</td>\n      <td>0.167</td>\n    </tr>\n    <tr>\n      <th>4</th>\n      <td>public_00005</td>\n      <td>0.1666</td>\n      <td>0.1666</td>\n      <td>0.1666</td>\n      <td>0.1666</td>\n      <td>0.1666</td>\n      <td>0.167</td>\n    </tr>\n    <tr>\n      <th>...</th>\n      <td>...</td>\n      <td>...</td>\n      <td>...</td>\n      <td>...</td>\n      <td>...</td>\n      <td>...</td>\n      <td>...</td>\n    </tr>\n    <tr>\n      <th>29995</th>\n      <td>private_19996</td>\n      <td>0.1666</td>\n      <td>0.1666</td>\n      <td>0.1666</td>\n      <td>0.1666</td>\n      <td>0.1666</td>\n      <td>0.167</td>\n    </tr>\n    <tr>\n      <th>29996</th>\n      <td>private_19997</td>\n      <td>0.1666</td>\n      <td>0.1666</td>\n      <td>0.1666</td>\n      <td>0.1666</td>\n      <td>0.1666</td>\n      <td>0.167</td>\n    </tr>\n    <tr>\n      <th>29997</th>\n      <td>private_19998</td>\n      <td>0.1666</td>\n      <td>0.1666</td>\n      <td>0.1666</td>\n      <td>0.1666</td>\n      <td>0.1666</td>\n      <td>0.167</td>\n    </tr>\n    <tr>\n      <th>29998</th>\n      <td>private_19999</td>\n      <td>0.1666</td>\n      <td>0.1666</td>\n      <td>0.1666</td>\n      <td>0.1666</td>\n      <td>0.1666</td>\n      <td>0.167</td>\n    </tr>\n    <tr>\n      <th>29999</th>\n      <td>private_20000</td>\n      <td>0.1666</td>\n      <td>0.1666</td>\n      <td>0.1666</td>\n      <td>0.1666</td>\n      <td>0.1666</td>\n      <td>0.167</td>\n    </tr>\n  </tbody>\n</table>\n<p>30000 rows × 7 columns</p>\n</div>"
     },
     "metadata": {},
     "execution_count": 2
    }
   ],
   "source": [
    "sample_submit = pd.read_csv('sample_submission.csv')\n",
    "sample_submit"
   ]
  },
  {
   "source": [
    "# 把預測結果跟範例檔案做合併"
   ],
   "cell_type": "markdown",
   "metadata": {}
  },
  {
   "cell_type": "code",
   "execution_count": 3,
   "metadata": {},
   "outputs": [
    {
     "output_type": "execute_result",
     "data": {
      "text/plain": [
       "            Filename   Barking   Howling    Crying       COSmoke  \\\n",
       "0       public_00001  0.494176  0.288863  0.108992  1.394298e-02   \n",
       "1       public_00002  0.001084  0.000236  0.002599  1.057227e-03   \n",
       "2       public_00003  0.004275  0.000327  0.006856  1.098748e-03   \n",
       "3       public_00004  0.393445  0.204476  0.100617  3.412008e-02   \n",
       "4       public_00005  0.280247  0.719012  0.000741  3.555825e-16   \n",
       "...              ...       ...       ...       ...           ...   \n",
       "29995  private_19996  0.166600  0.166600  0.166600  1.666000e-01   \n",
       "29996  private_19997  0.166600  0.166600  0.166600  1.666000e-01   \n",
       "29997  private_19998  0.166600  0.166600  0.166600  1.666000e-01   \n",
       "29998  private_19999  0.166600  0.166600  0.166600  1.666000e-01   \n",
       "29999  private_20000  0.166600  0.166600  0.166600  1.666000e-01   \n",
       "\n",
       "       GlassBreaking         Other  \n",
       "0       3.884348e-02  5.518214e-02  \n",
       "1       9.456665e-04  9.940777e-01  \n",
       "2       9.296972e-01  5.774512e-02  \n",
       "3       1.827840e-01  8.455727e-02  \n",
       "4       1.770671e-07  3.723472e-17  \n",
       "...              ...           ...  \n",
       "29995   1.666000e-01  1.670000e-01  \n",
       "29996   1.666000e-01  1.670000e-01  \n",
       "29997   1.666000e-01  1.670000e-01  \n",
       "29998   1.666000e-01  1.670000e-01  \n",
       "29999   1.666000e-01  1.670000e-01  \n",
       "\n",
       "[30000 rows x 7 columns]"
      ],
      "text/html": "<div>\n<style scoped>\n    .dataframe tbody tr th:only-of-type {\n        vertical-align: middle;\n    }\n\n    .dataframe tbody tr th {\n        vertical-align: top;\n    }\n\n    .dataframe thead th {\n        text-align: right;\n    }\n</style>\n<table border=\"1\" class=\"dataframe\">\n  <thead>\n    <tr style=\"text-align: right;\">\n      <th></th>\n      <th>Filename</th>\n      <th>Barking</th>\n      <th>Howling</th>\n      <th>Crying</th>\n      <th>COSmoke</th>\n      <th>GlassBreaking</th>\n      <th>Other</th>\n    </tr>\n  </thead>\n  <tbody>\n    <tr>\n      <th>0</th>\n      <td>public_00001</td>\n      <td>0.494176</td>\n      <td>0.288863</td>\n      <td>0.108992</td>\n      <td>1.394298e-02</td>\n      <td>3.884348e-02</td>\n      <td>5.518214e-02</td>\n    </tr>\n    <tr>\n      <th>1</th>\n      <td>public_00002</td>\n      <td>0.001084</td>\n      <td>0.000236</td>\n      <td>0.002599</td>\n      <td>1.057227e-03</td>\n      <td>9.456665e-04</td>\n      <td>9.940777e-01</td>\n    </tr>\n    <tr>\n      <th>2</th>\n      <td>public_00003</td>\n      <td>0.004275</td>\n      <td>0.000327</td>\n      <td>0.006856</td>\n      <td>1.098748e-03</td>\n      <td>9.296972e-01</td>\n      <td>5.774512e-02</td>\n    </tr>\n    <tr>\n      <th>3</th>\n      <td>public_00004</td>\n      <td>0.393445</td>\n      <td>0.204476</td>\n      <td>0.100617</td>\n      <td>3.412008e-02</td>\n      <td>1.827840e-01</td>\n      <td>8.455727e-02</td>\n    </tr>\n    <tr>\n      <th>4</th>\n      <td>public_00005</td>\n      <td>0.280247</td>\n      <td>0.719012</td>\n      <td>0.000741</td>\n      <td>3.555825e-16</td>\n      <td>1.770671e-07</td>\n      <td>3.723472e-17</td>\n    </tr>\n    <tr>\n      <th>...</th>\n      <td>...</td>\n      <td>...</td>\n      <td>...</td>\n      <td>...</td>\n      <td>...</td>\n      <td>...</td>\n      <td>...</td>\n    </tr>\n    <tr>\n      <th>29995</th>\n      <td>private_19996</td>\n      <td>0.166600</td>\n      <td>0.166600</td>\n      <td>0.166600</td>\n      <td>1.666000e-01</td>\n      <td>1.666000e-01</td>\n      <td>1.670000e-01</td>\n    </tr>\n    <tr>\n      <th>29996</th>\n      <td>private_19997</td>\n      <td>0.166600</td>\n      <td>0.166600</td>\n      <td>0.166600</td>\n      <td>1.666000e-01</td>\n      <td>1.666000e-01</td>\n      <td>1.670000e-01</td>\n    </tr>\n    <tr>\n      <th>29997</th>\n      <td>private_19998</td>\n      <td>0.166600</td>\n      <td>0.166600</td>\n      <td>0.166600</td>\n      <td>1.666000e-01</td>\n      <td>1.666000e-01</td>\n      <td>1.670000e-01</td>\n    </tr>\n    <tr>\n      <th>29998</th>\n      <td>private_19999</td>\n      <td>0.166600</td>\n      <td>0.166600</td>\n      <td>0.166600</td>\n      <td>1.666000e-01</td>\n      <td>1.666000e-01</td>\n      <td>1.670000e-01</td>\n    </tr>\n    <tr>\n      <th>29999</th>\n      <td>private_20000</td>\n      <td>0.166600</td>\n      <td>0.166600</td>\n      <td>0.166600</td>\n      <td>1.666000e-01</td>\n      <td>1.666000e-01</td>\n      <td>1.670000e-01</td>\n    </tr>\n  </tbody>\n</table>\n<p>30000 rows × 7 columns</p>\n</div>"
     },
     "metadata": {},
     "execution_count": 3
    }
   ],
   "source": [
    "sample_submit.iloc[:10000,:] = pd.read_csv('submit.csv',index_col=0) \n",
    "sample_submit"
   ]
  },
  {
   "source": [
    "# 保存匯出"
   ],
   "cell_type": "markdown",
   "metadata": {}
  },
  {
   "cell_type": "code",
   "execution_count": 4,
   "metadata": {},
   "outputs": [],
   "source": [
    "sample_submit.to_csv('submit.csv',index=False)"
   ]
  },
  {
   "cell_type": "code",
   "execution_count": null,
   "metadata": {},
   "outputs": [],
   "source": []
  }
 ]
}