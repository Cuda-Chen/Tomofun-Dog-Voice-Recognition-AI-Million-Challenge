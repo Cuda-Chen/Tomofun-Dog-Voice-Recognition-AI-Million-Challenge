{
 "metadata": {
  "language_info": {
   "codemirror_mode": {
    "name": "ipython",
    "version": 3
   },
   "file_extension": ".py",
   "mimetype": "text/x-python",
   "name": "python",
   "nbconvert_exporter": "python",
   "pygments_lexer": "ipython3",
   "version": "3.8.5"
  },
  "orig_nbformat": 2,
  "kernelspec": {
   "name": "python385jvsc74a57bd02ccee5cc862501c1aad1cf19888c2a2eca4026b72d187db43d5e889cbdc6ee97",
   "display_name": "Python 3.8.5 64-bit ('base': conda)"
  }
 },
 "nbformat": 4,
 "nbformat_minor": 2,
 "cells": [
  {
   "cell_type": "code",
   "execution_count": 3,
   "metadata": {},
   "outputs": [],
   "source": [
    "import pandas as pd"
   ]
  },
  {
   "source": [
    "# 範例檔案"
   ],
   "cell_type": "markdown",
   "metadata": {}
  },
  {
   "cell_type": "code",
   "execution_count": 4,
   "metadata": {},
   "outputs": [
    {
     "output_type": "execute_result",
     "data": {
      "text/plain": [
       "            Filename  Barking  Howling  Crying  COSmoke  GlassBreaking  Other\n",
       "0       public_00001   0.1666   0.1666  0.1666   0.1666         0.1666  0.167\n",
       "1       public_00002   0.1666   0.1666  0.1666   0.1666         0.1666  0.167\n",
       "2       public_00003   0.1666   0.1666  0.1666   0.1666         0.1666  0.167\n",
       "3       public_00004   0.1666   0.1666  0.1666   0.1666         0.1666  0.167\n",
       "4       public_00005   0.1666   0.1666  0.1666   0.1666         0.1666  0.167\n",
       "...              ...      ...      ...     ...      ...            ...    ...\n",
       "29995  private_19996   0.1666   0.1666  0.1666   0.1666         0.1666  0.167\n",
       "29996  private_19997   0.1666   0.1666  0.1666   0.1666         0.1666  0.167\n",
       "29997  private_19998   0.1666   0.1666  0.1666   0.1666         0.1666  0.167\n",
       "29998  private_19999   0.1666   0.1666  0.1666   0.1666         0.1666  0.167\n",
       "29999  private_20000   0.1666   0.1666  0.1666   0.1666         0.1666  0.167\n",
       "\n",
       "[30000 rows x 7 columns]"
      ],
      "text/html": "<div>\n<style scoped>\n    .dataframe tbody tr th:only-of-type {\n        vertical-align: middle;\n    }\n\n    .dataframe tbody tr th {\n        vertical-align: top;\n    }\n\n    .dataframe thead th {\n        text-align: right;\n    }\n</style>\n<table border=\"1\" class=\"dataframe\">\n  <thead>\n    <tr style=\"text-align: right;\">\n      <th></th>\n      <th>Filename</th>\n      <th>Barking</th>\n      <th>Howling</th>\n      <th>Crying</th>\n      <th>COSmoke</th>\n      <th>GlassBreaking</th>\n      <th>Other</th>\n    </tr>\n  </thead>\n  <tbody>\n    <tr>\n      <th>0</th>\n      <td>public_00001</td>\n      <td>0.1666</td>\n      <td>0.1666</td>\n      <td>0.1666</td>\n      <td>0.1666</td>\n      <td>0.1666</td>\n      <td>0.167</td>\n    </tr>\n    <tr>\n      <th>1</th>\n      <td>public_00002</td>\n      <td>0.1666</td>\n      <td>0.1666</td>\n      <td>0.1666</td>\n      <td>0.1666</td>\n      <td>0.1666</td>\n      <td>0.167</td>\n    </tr>\n    <tr>\n      <th>2</th>\n      <td>public_00003</td>\n      <td>0.1666</td>\n      <td>0.1666</td>\n      <td>0.1666</td>\n      <td>0.1666</td>\n      <td>0.1666</td>\n      <td>0.167</td>\n    </tr>\n    <tr>\n      <th>3</th>\n      <td>public_00004</td>\n      <td>0.1666</td>\n      <td>0.1666</td>\n      <td>0.1666</td>\n      <td>0.1666</td>\n      <td>0.1666</td>\n      <td>0.167</td>\n    </tr>\n    <tr>\n      <th>4</th>\n      <td>public_00005</td>\n      <td>0.1666</td>\n      <td>0.1666</td>\n      <td>0.1666</td>\n      <td>0.1666</td>\n      <td>0.1666</td>\n      <td>0.167</td>\n    </tr>\n    <tr>\n      <th>...</th>\n      <td>...</td>\n      <td>...</td>\n      <td>...</td>\n      <td>...</td>\n      <td>...</td>\n      <td>...</td>\n      <td>...</td>\n    </tr>\n    <tr>\n      <th>29995</th>\n      <td>private_19996</td>\n      <td>0.1666</td>\n      <td>0.1666</td>\n      <td>0.1666</td>\n      <td>0.1666</td>\n      <td>0.1666</td>\n      <td>0.167</td>\n    </tr>\n    <tr>\n      <th>29996</th>\n      <td>private_19997</td>\n      <td>0.1666</td>\n      <td>0.1666</td>\n      <td>0.1666</td>\n      <td>0.1666</td>\n      <td>0.1666</td>\n      <td>0.167</td>\n    </tr>\n    <tr>\n      <th>29997</th>\n      <td>private_19998</td>\n      <td>0.1666</td>\n      <td>0.1666</td>\n      <td>0.1666</td>\n      <td>0.1666</td>\n      <td>0.1666</td>\n      <td>0.167</td>\n    </tr>\n    <tr>\n      <th>29998</th>\n      <td>private_19999</td>\n      <td>0.1666</td>\n      <td>0.1666</td>\n      <td>0.1666</td>\n      <td>0.1666</td>\n      <td>0.1666</td>\n      <td>0.167</td>\n    </tr>\n    <tr>\n      <th>29999</th>\n      <td>private_20000</td>\n      <td>0.1666</td>\n      <td>0.1666</td>\n      <td>0.1666</td>\n      <td>0.1666</td>\n      <td>0.1666</td>\n      <td>0.167</td>\n    </tr>\n  </tbody>\n</table>\n<p>30000 rows × 7 columns</p>\n</div>"
     },
     "metadata": {},
     "execution_count": 4
    }
   ],
   "source": [
    "sample_submit = pd.read_csv('sample_submission.csv')\n",
    "sample_submit"
   ]
  },
  {
   "source": [
    "# 把預測結果跟範例檔案做合併"
   ],
   "cell_type": "markdown",
   "metadata": {}
  },
  {
   "cell_type": "code",
   "execution_count": 5,
   "metadata": {},
   "outputs": [
    {
     "output_type": "execute_result",
     "data": {
      "text/plain": [
       "            Filename       Barking       Howling    Crying       COSmoke  \\\n",
       "0       public_00001  4.407526e-01  2.850462e-01  0.043792  2.623324e-02   \n",
       "1       public_00002  2.500015e-01  1.735318e-01  0.114773  9.577060e-02   \n",
       "2       public_00003  5.017121e-02  2.340894e-02  0.045589  2.524599e-02   \n",
       "3       public_00004  1.085350e-01  1.503731e-01  0.167216  1.399351e-01   \n",
       "4       public_00005  1.555968e-08  4.288752e-10  1.000000  2.020656e-07   \n",
       "...              ...           ...           ...       ...           ...   \n",
       "29995  private_19996  1.666000e-01  1.666000e-01  0.166600  1.666000e-01   \n",
       "29996  private_19997  1.666000e-01  1.666000e-01  0.166600  1.666000e-01   \n",
       "29997  private_19998  1.666000e-01  1.666000e-01  0.166600  1.666000e-01   \n",
       "29998  private_19999  1.666000e-01  1.666000e-01  0.166600  1.666000e-01   \n",
       "29999  private_20000  1.666000e-01  1.666000e-01  0.166600  1.666000e-01   \n",
       "\n",
       "       GlassBreaking         Other  \n",
       "0       4.182637e-02  1.623496e-01  \n",
       "1       1.089666e-01  2.569560e-01  \n",
       "2       6.841207e-01  1.714641e-01  \n",
       "3       2.168427e-01  2.170979e-01  \n",
       "4       3.386478e-09  7.945172e-08  \n",
       "...              ...           ...  \n",
       "29995   1.666000e-01  1.670000e-01  \n",
       "29996   1.666000e-01  1.670000e-01  \n",
       "29997   1.666000e-01  1.670000e-01  \n",
       "29998   1.666000e-01  1.670000e-01  \n",
       "29999   1.666000e-01  1.670000e-01  \n",
       "\n",
       "[30000 rows x 7 columns]"
      ],
      "text/html": "<div>\n<style scoped>\n    .dataframe tbody tr th:only-of-type {\n        vertical-align: middle;\n    }\n\n    .dataframe tbody tr th {\n        vertical-align: top;\n    }\n\n    .dataframe thead th {\n        text-align: right;\n    }\n</style>\n<table border=\"1\" class=\"dataframe\">\n  <thead>\n    <tr style=\"text-align: right;\">\n      <th></th>\n      <th>Filename</th>\n      <th>Barking</th>\n      <th>Howling</th>\n      <th>Crying</th>\n      <th>COSmoke</th>\n      <th>GlassBreaking</th>\n      <th>Other</th>\n    </tr>\n  </thead>\n  <tbody>\n    <tr>\n      <th>0</th>\n      <td>public_00001</td>\n      <td>4.407526e-01</td>\n      <td>2.850462e-01</td>\n      <td>0.043792</td>\n      <td>2.623324e-02</td>\n      <td>4.182637e-02</td>\n      <td>1.623496e-01</td>\n    </tr>\n    <tr>\n      <th>1</th>\n      <td>public_00002</td>\n      <td>2.500015e-01</td>\n      <td>1.735318e-01</td>\n      <td>0.114773</td>\n      <td>9.577060e-02</td>\n      <td>1.089666e-01</td>\n      <td>2.569560e-01</td>\n    </tr>\n    <tr>\n      <th>2</th>\n      <td>public_00003</td>\n      <td>5.017121e-02</td>\n      <td>2.340894e-02</td>\n      <td>0.045589</td>\n      <td>2.524599e-02</td>\n      <td>6.841207e-01</td>\n      <td>1.714641e-01</td>\n    </tr>\n    <tr>\n      <th>3</th>\n      <td>public_00004</td>\n      <td>1.085350e-01</td>\n      <td>1.503731e-01</td>\n      <td>0.167216</td>\n      <td>1.399351e-01</td>\n      <td>2.168427e-01</td>\n      <td>2.170979e-01</td>\n    </tr>\n    <tr>\n      <th>4</th>\n      <td>public_00005</td>\n      <td>1.555968e-08</td>\n      <td>4.288752e-10</td>\n      <td>1.000000</td>\n      <td>2.020656e-07</td>\n      <td>3.386478e-09</td>\n      <td>7.945172e-08</td>\n    </tr>\n    <tr>\n      <th>...</th>\n      <td>...</td>\n      <td>...</td>\n      <td>...</td>\n      <td>...</td>\n      <td>...</td>\n      <td>...</td>\n      <td>...</td>\n    </tr>\n    <tr>\n      <th>29995</th>\n      <td>private_19996</td>\n      <td>1.666000e-01</td>\n      <td>1.666000e-01</td>\n      <td>0.166600</td>\n      <td>1.666000e-01</td>\n      <td>1.666000e-01</td>\n      <td>1.670000e-01</td>\n    </tr>\n    <tr>\n      <th>29996</th>\n      <td>private_19997</td>\n      <td>1.666000e-01</td>\n      <td>1.666000e-01</td>\n      <td>0.166600</td>\n      <td>1.666000e-01</td>\n      <td>1.666000e-01</td>\n      <td>1.670000e-01</td>\n    </tr>\n    <tr>\n      <th>29997</th>\n      <td>private_19998</td>\n      <td>1.666000e-01</td>\n      <td>1.666000e-01</td>\n      <td>0.166600</td>\n      <td>1.666000e-01</td>\n      <td>1.666000e-01</td>\n      <td>1.670000e-01</td>\n    </tr>\n    <tr>\n      <th>29998</th>\n      <td>private_19999</td>\n      <td>1.666000e-01</td>\n      <td>1.666000e-01</td>\n      <td>0.166600</td>\n      <td>1.666000e-01</td>\n      <td>1.666000e-01</td>\n      <td>1.670000e-01</td>\n    </tr>\n    <tr>\n      <th>29999</th>\n      <td>private_20000</td>\n      <td>1.666000e-01</td>\n      <td>1.666000e-01</td>\n      <td>0.166600</td>\n      <td>1.666000e-01</td>\n      <td>1.666000e-01</td>\n      <td>1.670000e-01</td>\n    </tr>\n  </tbody>\n</table>\n<p>30000 rows × 7 columns</p>\n</div>"
     },
     "metadata": {},
     "execution_count": 5
    }
   ],
   "source": [
    "submit = pd.read_csv('submit.csv',index_col=0) \n",
    "sample_submit.iloc[:10000,:] = submit\n",
    "sample_submit"
   ]
  },
  {
   "source": [
    "# 保存匯出"
   ],
   "cell_type": "markdown",
   "metadata": {}
  },
  {
   "cell_type": "code",
   "execution_count": 6,
   "metadata": {},
   "outputs": [],
   "source": [
    "sample_submit.to_csv('submit.csv',index=False)"
   ]
  },
  {
   "cell_type": "code",
   "execution_count": null,
   "metadata": {},
   "outputs": [],
   "source": []
  }
 ]
}